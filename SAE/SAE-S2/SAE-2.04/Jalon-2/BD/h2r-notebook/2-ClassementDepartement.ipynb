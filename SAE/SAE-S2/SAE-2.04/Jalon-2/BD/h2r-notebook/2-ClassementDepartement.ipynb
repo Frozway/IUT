{
 "cells": [
  {
   "cell_type": "markdown",
   "id": "9b168df5-8f96-4702-bc5e-961d796f9b4c",
   "metadata": {},
   "source": [
    "> SAÉ 2.04 - Exploitation d'une base de données  \n",
    "> Auteurs : LEFRANCOIS Thibaut & DEMOUGE Colin  \n",
    "> Date : 05/05/2023  \n",
    "---\n",
    "## Notebook 2 : Classement des départements les plus récurrent"
   ]
  },
  {
   "cell_type": "markdown",
   "id": "b000d35f-f1fc-4acf-881f-c33145a05f89",
   "metadata": {},
   "source": [
    "#### Import des composants pour la connexion à la base de données"
   ]
  },
  {
   "cell_type": "code",
   "execution_count": 1,
   "id": "0242ca50-ca90-40af-b92e-500c7a153f33",
   "metadata": {},
   "outputs": [],
   "source": [
    "import cx_Oracle\n",
    "import db_config"
   ]
  },
  {
   "cell_type": "markdown",
   "id": "d7eef6dd-3327-4aaa-b3eb-d270d37aa130",
   "metadata": {},
   "source": [
    "#### Connexion à la base de données"
   ]
  },
  {
   "cell_type": "code",
   "execution_count": 2,
   "id": "f8a70111-f85c-4a11-bf9e-774b44e2334c",
   "metadata": {},
   "outputs": [],
   "source": [
    "vconnect = cx_Oracle.connect(db_config.user, db_config.pwd, db_config.dsn)"
   ]
  },
  {
   "cell_type": "markdown",
   "id": "10096d20-36e4-4ca0-a338-0f5dcc9fc737",
   "metadata": {},
   "source": [
    "#### Requête\n",
    "Requête SQL qui retourne les 10 départements dont les clients sont le plus souvent originaires, en utilisant la table CLIENT et la table COMMUNE pour extraire le code postal et le département correspondant. "
   ]
  },
  {
   "cell_type": "code",
   "execution_count": 3,
   "id": "f8da44a4",
   "metadata": {},
   "outputs": [],
   "source": [
    "query = \"\"\"\n",
    "        SELECT CODE_COMMUNE \"Departement\", \n",
    "        COUNT(*) \"Nombre Clients\"\n",
    "        FROM ADRESSE A\n",
    "        JOIN COMMUNE CO ON A.COMMUNE = CO.ID_COMMUNE\n",
    "        GROUP BY CODE_COMMUNE\n",
    "        ORDER BY COUNT(*) DESC\n",
    "        \"\"\""
   ]
  },
  {
   "cell_type": "markdown",
   "id": "a956978f-df68-4cac-a62b-8708b76e6f8e",
   "metadata": {},
   "source": [
    "Cette requête utilise la fonction `SUBSTR` pour extraire les 2 premiers caractères du code postal, qui correspondent au département. La requête joint les tables `CLIENT`, `ADRESSE` et `COMMUNE`, et groupe les résultats par département en utilisant la fonction `GROUP BY`. \n",
    "\n",
    "Enfin, les résultats sont triés par nombre de clients descendant en utilisant l'expression `ORDER BY`, et la variable `v_departement_number` permet de savoir le nombre de départements que nous voulons dans notre classement.\n",
    "\n",
    "Ce nombre de département est ensuite utilisé avec la fonction `FETCH FIRTS` qui limite le nombre de résultat de la requête SQL.\n",
    "\n",
    "### Exécution de la requête"
   ]
  },
  {
   "cell_type": "code",
   "execution_count": 4,
   "id": "7e6e7781-4103-4ef8-b0c5-003ab1629af5",
   "metadata": {},
   "outputs": [
    {
     "data": {
      "text/plain": [
       "<cx_Oracle.Cursor on <cx_Oracle.Connection to cdemouge@193.48.38.244:80/SAE204>>"
      ]
     },
     "execution_count": 4,
     "metadata": {},
     "output_type": "execute_result"
    }
   ],
   "source": [
    "vcursor = cx_Oracle.Cursor(vconnect)\n",
    "vcursor.execute(query)"
   ]
  },
  {
   "cell_type": "markdown",
   "id": "a648843e-38e3-43c2-bac0-09d47ce0befc",
   "metadata": {},
   "source": [
    "#### Dictionnaire des colonnes de la relation résultat de la requête\n",
    "##### Attribut `description` de la classe `cx_Oracle.Cursor`"
   ]
  },
  {
   "cell_type": "code",
   "execution_count": 5,
   "id": "98438832-2297-49a7-9bf3-bffb546cc790",
   "metadata": {},
   "outputs": [
    {
     "name": "stdout",
     "output_type": "stream",
     "text": [
      "('Departement', <cx_Oracle.DbType DB_TYPE_VARCHAR>, 20, 80, None, None, 0)\n",
      "('Nombre Clients', <cx_Oracle.DbType DB_TYPE_NUMBER>, 127, None, None, None, 1)\n"
     ]
    }
   ],
   "source": [
    "columns_info = vcursor.description\n",
    "for col in columns_info:\n",
    "    print(col)"
   ]
  },
  {
   "cell_type": "markdown",
   "id": "f15c0e6e-2019-4773-9f21-79dfd5534d63",
   "metadata": {},
   "source": [
    "Récupération des données dans deux listes"
   ]
  },
  {
   "cell_type": "code",
   "execution_count": 6,
   "id": "be90e841-f472-44d6-a15a-68215287df2f",
   "metadata": {},
   "outputs": [],
   "source": [
    "data = vcursor.fetchall()\n",
    "#print(data)"
   ]
  },
  {
   "cell_type": "code",
   "execution_count": 7,
   "id": "ec1cb15f-6815-4ad3-9492-bddca1195a0b",
   "metadata": {},
   "outputs": [],
   "source": [
    "departements = {}\n",
    "\n",
    "for tuile in data:\n",
    "    code_commune = tuile[0]\n",
    "    nombre_clients = tuile[1]\n",
    "    if len(code_commune)==4:\n",
    "        code_departement = code_commune[0]\n",
    "    else:\n",
    "        code_departement = code_commune[:2]\n",
    "    if code_departement not in departements:\n",
    "        departements[code_departement] = 0\n",
    "    departements[code_departement] += nombre_clients\n",
    "\n",
    "departements_tries = list(departements.items())\n",
    "departements_tries.sort(key=lambda x: x[1], reverse=True)\n",
    "\n",
    "x_data = []\n",
    "y_data = []\n",
    "\n",
    "for code_departement, nombre_clients in departements_tries:\n",
    "    x_data.append(code_departement)\n",
    "    y_data.append(nombre_clients)\n",
    "\n",
    "#for i in range(len(x_data)):\n",
    "#    print(x_data[i], \" \", y_data[i])"
   ]
  },
  {
   "cell_type": "markdown",
   "id": "a4e3708c-5cef-428d-b487-744af29cebff",
   "metadata": {
    "tags": []
   },
   "source": [
    "### Visualisation des donées\n",
    "\n",
    "Installation (si nécéssaire) puis importation de la librairie `matplotlib` pour visualiser les données sous forme de diagrammes et de la librairie `numpy`dont on se sert ici pour la palette de couleur."
   ]
  },
  {
   "cell_type": "code",
   "execution_count": 8,
   "id": "7e6a3e21-7cd8-48ce-bfaf-85e09dfa5430",
   "metadata": {
    "tags": []
   },
   "outputs": [
    {
     "name": "stdout",
     "output_type": "stream",
     "text": [
      "Requirement already satisfied: matplotlib in /opt/conda/lib/python3.9/site-packages (3.7.1)\n",
      "Requirement already satisfied: numpy>=1.20 in /opt/conda/lib/python3.9/site-packages (from matplotlib) (1.24.3)\n",
      "Requirement already satisfied: fonttools>=4.22.0 in /opt/conda/lib/python3.9/site-packages (from matplotlib) (4.39.4)\n",
      "Requirement already satisfied: packaging>=20.0 in /opt/conda/lib/python3.9/site-packages (from matplotlib) (21.3)\n",
      "Requirement already satisfied: contourpy>=1.0.1 in /opt/conda/lib/python3.9/site-packages (from matplotlib) (1.0.7)\n",
      "Requirement already satisfied: kiwisolver>=1.0.1 in /opt/conda/lib/python3.9/site-packages (from matplotlib) (1.4.4)\n",
      "Requirement already satisfied: python-dateutil>=2.7 in /opt/conda/lib/python3.9/site-packages (from matplotlib) (2.8.2)\n",
      "Requirement already satisfied: cycler>=0.10 in /opt/conda/lib/python3.9/site-packages (from matplotlib) (0.11.0)\n",
      "Requirement already satisfied: pillow>=6.2.0 in /opt/conda/lib/python3.9/site-packages (from matplotlib) (9.5.0)\n",
      "Requirement already satisfied: importlib-resources>=3.2.0 in /opt/conda/lib/python3.9/site-packages (from matplotlib) (5.4.0)\n",
      "Requirement already satisfied: pyparsing>=2.3.1 in /opt/conda/lib/python3.9/site-packages (from matplotlib) (3.0.6)\n",
      "Requirement already satisfied: zipp>=3.1.0 in /opt/conda/lib/python3.9/site-packages (from importlib-resources>=3.2.0->matplotlib) (3.7.0)\n",
      "Requirement already satisfied: six>=1.5 in /opt/conda/lib/python3.9/site-packages (from python-dateutil>=2.7->matplotlib) (1.16.0)\n",
      "Requirement already satisfied: numpy in /opt/conda/lib/python3.9/site-packages (1.24.3)\n"
     ]
    }
   ],
   "source": [
    "!pip install matplotlib\n",
    "import matplotlib.pyplot as plot\n",
    "\n",
    "!pip install numpy\n",
    "import numpy as np"
   ]
  },
  {
   "cell_type": "markdown",
   "id": "6d72b4eb-aa52-447f-a67f-1f345d7a2adf",
   "metadata": {},
   "source": [
    "Création du diagramme et modification des paramètres"
   ]
  },
  {
   "cell_type": "code",
   "execution_count": 9,
   "id": "41214b81-c181-40c7-a1bf-3340fbb5115f",
   "metadata": {},
   "outputs": [
    {
     "data": {
      "image/png": "[encoded data removed]",
      "text/plain": [
       "<Figure size 432x288 with 1 Axes>"
      ]
     },
     "metadata": {
      "needs_background": "light"
     },
     "output_type": "display_data"
    }
   ],
   "source": [
    "nb_departements = 10\n",
    "\n",
    "# Récupérer les nb_departements départements ayant le plus de clients\n",
    "top_departements = x_data[:nb_departements]\n",
    "top_clients = y_data[:nb_departements]\n",
    "\n",
    "# Définir une palette de couleurs pour les bâtons\n",
    "couleurs = plot.cm.Set2(np.linspace(0, 1, nb_departements))\n",
    "\n",
    "# Créer le diagramme bâton avec axes inversés\n",
    "fig, ax = plot.subplots()\n",
    "ax.barh(top_departements, top_clients, color=couleurs)\n",
    "\n",
    "# Inverser les axes et les labels\n",
    "ax.invert_yaxis()\n",
    "ax.set_xlabel(\"Nombre de clients\")\n",
    "ax.set_ylabel(\"Code département\")\n",
    "ax.set_title(f\"Top {nb_departements} des départements avec la plus grande clientèle\")\n",
    "\n",
    "plot.show()"
   ]
  },
  {
   "cell_type": "markdown",
   "id": "fc07ee5e-6b3e-404f-a3c5-106a87b0ea0d",
   "metadata": {},
   "source": [
    "### Analyse \n",
    "\n",
    "Ici, on remarque que le département 59 est largement au dessus des autres avec plus de 4000 clients. Viennent ensuite les département 33? et 62 qui ont plus de 3000 client puis le reste du top 10 reste autour des 2000-2500 clients."
   ]
  },
  {
   "cell_type": "markdown",
   "id": "7827b687-1598-4ee1-8c67-1400b9352627",
   "metadata": {},
   "source": [
    "### Fin de l'exécution de la requête"
   ]
  },
  {
   "cell_type": "code",
   "execution_count": 10,
   "id": "e2a0e5fe-ae87-4891-a48d-533834810a42",
   "metadata": {},
   "outputs": [],
   "source": [
    "vcursor.close()\n",
    "vconnect.close()"
   ]
  },
  {
   "cell_type": "code",
   "execution_count": null,
   "id": "e049ba54-45fe-4c3a-867a-3ec42614f2ab",
   "metadata": {},
   "outputs": [],
   "source": []
  }
 ],
 "metadata": {
  "kernelspec": {
   "display_name": "Python 3 (ipykernel)",
   "language": "python",
   "name": "python3"
  },
  "language_info": {
   "codemirror_mode": {
    "name": "ipython",
    "version": 3
   },
   "file_extension": ".py",
   "mimetype": "text/x-python",
   "name": "python",
   "nbconvert_exporter": "python",
   "pygments_lexer": "ipython3",
   "version": "3.9.7"
  }
 },
 "nbformat": 4,
 "nbformat_minor": 5
}
