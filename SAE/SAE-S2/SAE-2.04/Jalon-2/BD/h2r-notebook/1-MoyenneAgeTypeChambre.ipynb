{
 "cells": [
  {
   "cell_type": "markdown",
   "id": "9b168df5-8f96-4702-bc5e-961d796f9b4c",
   "metadata": {},
   "source": [
    "> SAÉ 2.04 - Exploitation d'une base de données  \n",
    "> Auteurs : LEFRANCOIS Thibaut & DEMOUGE Colin  \n",
    "> Date : 05/05/2023  \n",
    "---\n",
    "## Notebook 1 : Moyenne d'âge par type de chambre"
   ]
  },
  {
   "cell_type": "markdown",
   "id": "b000d35f-f1fc-4acf-881f-c33145a05f89",
   "metadata": {},
   "source": [
    "#### Import des composants pour la connexion à la base de données"
   ]
  },
  {
   "cell_type": "code",
   "execution_count": 1,
   "id": "0242ca50-ca90-40af-b92e-500c7a153f33",
   "metadata": {},
   "outputs": [],
   "source": [
    "import cx_Oracle\n",
    "import db_config"
   ]
  },
  {
   "cell_type": "markdown",
   "id": "d7eef6dd-3327-4aaa-b3eb-d270d37aa130",
   "metadata": {},
   "source": [
    "#### Connexion à la base de données"
   ]
  },
  {
   "cell_type": "code",
   "execution_count": 2,
   "id": "f8a70111-f85c-4a11-bf9e-774b44e2334c",
   "metadata": {},
   "outputs": [],
   "source": [
    "vconnect = cx_Oracle.connect(db_config.user, db_config.pwd, db_config.dsn)"
   ]
  },
  {
   "cell_type": "markdown",
   "id": "10096d20-36e4-4ca0-a338-0f5dcc9fc737",
   "metadata": {},
   "source": [
    "#### Requête\n",
    "Requête SQL qui retourne le nombre de réservations par chambre d'un hotêl d'ID = `v_id_hotel`"
   ]
  },
  {
   "cell_type": "code",
   "execution_count": 3,
   "id": "f8da44a4",
   "metadata": {},
   "outputs": [],
   "source": [
    "query = \"\"\"\n",
    "        SELECT tc.TYPE_CHAMBRE \"Type Chambre\", AVG(TRUNC(MONTHS_BETWEEN(sysdate, c.DATE_NAISSANCE)/12)) \"Moyenne Age\"\n",
    "        FROM CHAMBRE ch\n",
    "        JOIN HOTEL h ON ch.HOTEL = h.ID_HOTEL\n",
    "        JOIN TYPE_CHAMBRE tc ON ch.TYPE = tc.ID_TYPE_CHAMBRE\n",
    "        JOIN RESERVATION_CHAMBRE rc ON ch.ID_CHAMBRE = rc.CHAMBRE\n",
    "        JOIN RESERVATION r ON rc.RESERVATION = r.ID_RESA\n",
    "        JOIN CLIENT c ON r.CLIENT = c.ID_CLIENT\n",
    "        WHERE h.ID_HOTEL = :v_id_hotel\n",
    "        GROUP BY tc.TYPE_CHAMBRE\n",
    "        \"\"\""
   ]
  },
  {
   "cell_type": "markdown",
   "id": "9cde9410-0e25-4fdf-bfb1-bddba9d1db61",
   "metadata": {},
   "source": [
    "Cette requête récupère des informations sur l'âge moyen des clients ayant réservé chaque type de chambre dans un hôtel spécifique, identifié par la variable liée `:v_id_hotel`.\n",
    "\n",
    "La requête joint plusieurs tables : `CHAMBRE`, `HOTEL`, `TYPE_CHAMBRE`, `RESERVATION_CHAMBRE`, `RESERVATION`, et `CLIENT`.\n",
    "\n",
    "Elle utilise la fonction `AVG` pour calculer la moyenne d'âge des clients ayant réservé chaque type de chambre. Pour ce faire, elle utilise la fonction `MONTHS_BETWEEN` pour calculer le nombre de mois entre la date actuelle (sysdate) et la date de naissance du client (`c.DATE_NAISSANCE`), et ensuite divise le résultat par 12 pour obtenir l'âge en années. La fonction `TRUNC` est utilisée pour arrondir l'âge moyen à l'entier inférieur.\n",
    "\n",
    "La requête utilise la clause `WHERE` pour filtrer les résultats en ne prenant en compte que les réservations effectuées dans l'hôtel spécifié par la variable liée `:v_id_hotel`.\n",
    "\n",
    "Enfin, la requête groupe les résultats par type de chambre en utilisant la clause `GROUP BY` sur la colonne`tc.TYPE_CHAMBRE`."
   ]
  },
  {
   "cell_type": "markdown",
   "id": "a4e3708c-5cef-428d-b487-744af29cebff",
   "metadata": {},
   "source": [
    "### Exécution de la requête\n",
    "\n",
    "Récupération des données pour les 3 hotels dans 3 listes différentes"
   ]
  },
  {
   "cell_type": "code",
   "execution_count": 4,
   "id": "be90e841-f472-44d6-a15a-68215287df2f",
   "metadata": {},
   "outputs": [
    {
     "name": "stdout",
     "output_type": "stream",
     "text": [
      "[('king', 60.06508875739645), ('queen', 60.164601769911506), ('double', 61.989010989010985), ('single', 61.03982300884956), ('quad', 60.50730994152047), ('triple', 59.9647577092511)]\n",
      "[('king', 63.0514705882353), ('queen', 60.19285714285714), ('double', 61.376654632972325), ('single', 62.18490566037736), ('quad', 59.11538461538461), ('triple', 60.144578313253014)]\n",
      "[('queen', 61.145907473309606), ('king', 56.6412213740458), ('double', 60.861835748792274), ('single', 60.77125748502994), ('quad', 60.90415335463259), ('triple', 59.87077826725404)]\n"
     ]
    }
   ],
   "source": [
    "# Variables pour stocker les données des trois hôtels\n",
    "hotel1_data = []\n",
    "hotel2_data = []\n",
    "hotel3_data = []\n",
    "\n",
    "# Boucle pour exécuter la requête pour chaque hôtel\n",
    "for id_hotel in range(1, 4):\n",
    "    # Exécution de la requête SQL pour l'hôtel en cours\n",
    "    vcursor = cx_Oracle.Cursor(vconnect)\n",
    "    vcursor.execute(query, v_id_hotel=id_hotel)\n",
    "    data = vcursor.fetchall()\n",
    "    \n",
    "    # Ajout des données à la variable correspondant à l'hôtel en cours\n",
    "    if id_hotel == 1:\n",
    "        hotel1_data = data\n",
    "    elif id_hotel == 2:\n",
    "        hotel2_data = data\n",
    "    elif id_hotel == 3:\n",
    "        hotel3_data = data\n",
    "        \n",
    "print(hotel1_data)\n",
    "print(hotel2_data)\n",
    "print(hotel3_data)"
   ]
  },
  {
   "cell_type": "markdown",
   "id": "f291176c-3c90-4dc2-8a83-1eec30a08943",
   "metadata": {},
   "source": [
    "### Visualisation des données récupérées\n",
    "\n",
    "Installation (si nécéssaire) puis importation de la librairie `matplotlib` pour visualiser les données sous forme de diagrammes. "
   ]
  },
  {
   "cell_type": "code",
   "execution_count": 5,
   "id": "ec1cb15f-6815-4ad3-9492-bddca1195a0b",
   "metadata": {
    "tags": []
   },
   "outputs": [
    {
     "name": "stdout",
     "output_type": "stream",
     "text": [
      "Collecting matplotlib\n",
      "  Downloading matplotlib-3.7.1-cp39-cp39-manylinux_2_17_x86_64.manylinux2014_x86_64.whl (11.6 MB)\n",
      "     |████████████████████████████████| 11.6 MB 2.7 MB/s            \n",
      "\u001b[?25hCollecting kiwisolver>=1.0.1\n",
      "  Downloading kiwisolver-1.4.4-cp39-cp39-manylinux_2_12_x86_64.manylinux2010_x86_64.whl (1.6 MB)\n",
      "     |████████████████████████████████| 1.6 MB 34.9 MB/s            \n",
      "\u001b[?25hCollecting cycler>=0.10\n",
      "  Downloading cycler-0.11.0-py3-none-any.whl (6.4 kB)\n",
      "Requirement already satisfied: python-dateutil>=2.7 in /opt/conda/lib/python3.9/site-packages (from matplotlib) (2.8.2)\n",
      "Collecting contourpy>=1.0.1\n",
      "  Downloading contourpy-1.0.7-cp39-cp39-manylinux_2_17_x86_64.manylinux2014_x86_64.whl (299 kB)\n",
      "     |████████████████████████████████| 299 kB 38.2 MB/s            \n",
      "\u001b[?25hCollecting numpy>=1.20\n",
      "  Downloading numpy-1.24.3-cp39-cp39-manylinux_2_17_x86_64.manylinux2014_x86_64.whl (17.3 MB)\n",
      "     |████████████████████████████████| 17.3 MB 27.1 MB/s            \n",
      "\u001b[?25hCollecting fonttools>=4.22.0\n",
      "  Downloading fonttools-4.39.4-py3-none-any.whl (1.0 MB)\n",
      "     |████████████████████████████████| 1.0 MB 33.3 MB/s            \n",
      "\u001b[?25hRequirement already satisfied: packaging>=20.0 in /opt/conda/lib/python3.9/site-packages (from matplotlib) (21.3)\n",
      "Requirement already satisfied: pyparsing>=2.3.1 in /opt/conda/lib/python3.9/site-packages (from matplotlib) (3.0.6)\n",
      "Requirement already satisfied: importlib-resources>=3.2.0 in /opt/conda/lib/python3.9/site-packages (from matplotlib) (5.4.0)\n",
      "Collecting pillow>=6.2.0\n",
      "  Downloading Pillow-9.5.0-cp39-cp39-manylinux_2_28_x86_64.whl (3.4 MB)\n",
      "     |████████████████████████████████| 3.4 MB 35.1 MB/s            \n",
      "\u001b[?25hRequirement already satisfied: zipp>=3.1.0 in /opt/conda/lib/python3.9/site-packages (from importlib-resources>=3.2.0->matplotlib) (3.7.0)\n",
      "Requirement already satisfied: six>=1.5 in /opt/conda/lib/python3.9/site-packages (from python-dateutil>=2.7->matplotlib) (1.16.0)\n",
      "Installing collected packages: numpy, pillow, kiwisolver, fonttools, cycler, contourpy, matplotlib\n",
      "Successfully installed contourpy-1.0.7 cycler-0.11.0 fonttools-4.39.4 kiwisolver-1.4.4 matplotlib-3.7.1 numpy-1.24.3 pillow-9.5.0\n"
     ]
    }
   ],
   "source": [
    "!pip install matplotlib\n",
    "import matplotlib.pyplot as plot"
   ]
  },
  {
   "cell_type": "markdown",
   "id": "e6e9039c-6c8f-41cf-8f79-092772447d07",
   "metadata": {},
   "source": [
    "Création et modification des paramètres du diagramme baton souhaité"
   ]
  },
  {
   "cell_type": "code",
   "execution_count": 6,
   "id": "65531b11-4675-4c03-aaf0-b506c5065565",
   "metadata": {
    "tags": []
   },
   "outputs": [
    {
     "data": {
      "image/png": "[encoded data removed]",
      "text/plain": [
       "<Figure size 432x288 with 1 Axes>"
      ]
     },
     "metadata": {
      "needs_background": "light"
     },
     "output_type": "display_data"
    }
   ],
   "source": [
    "# Création du graphique avec les données des trois hôtels\n",
    "fig, ax = plot.subplots()\n",
    "ax.set_title('Comparaison des moyennes d\\'âge par type de chambre pour les trois hôtels')\n",
    "ax.set_xlabel('Type de chambre')\n",
    "ax.set_ylabel('Moyenne d\\'âge')\n",
    "\n",
    "# Définir les positions des barres pour chaque type de chambre pour chaque hôtel\n",
    "bar_width = 0.25\n",
    "x1 = [i for i in range(len(hotel1_data))]\n",
    "x2 = [i + bar_width for i in x1]\n",
    "x3 = [i + bar_width for i in x2]\n",
    "\n",
    "# Afficher les barres pour chaque hôtel\n",
    "ax.bar(x1, [x[1] for x in hotel1_data], width=bar_width, label='Hôtel 1')\n",
    "ax.bar(x2, [x[1] for x in hotel2_data], width=bar_width, label='Hôtel 2')\n",
    "ax.bar(x3, [x[1] for x in hotel3_data], width=bar_width, label='Hôtel 3')\n",
    "\n",
    "# Ajouter des étiquettes pour chaque type de chambre\n",
    "ax.set_xticks(x2)\n",
    "ax.set_xticklabels([x[0] for x in hotel1_data])\n",
    "\n",
    "# Afficher la légende et le graphique\n",
    "ax.legend()\n",
    "plot.show()\n"
   ]
  },
  {
   "cell_type": "markdown",
   "id": "5691418d-4340-47db-b934-16bfb4f5a02e",
   "metadata": {},
   "source": [
    "### Analyse\n",
    "\n",
    "Ici, on voit que la moyenne d'âge générale est d'environ 60 ans, les 3 hôtels ont pratiquement la même moyenne d'âge peut importe le type de chambre."
   ]
  },
  {
   "cell_type": "markdown",
   "id": "7827b687-1598-4ee1-8c67-1400b9352627",
   "metadata": {},
   "source": [
    "### Fin de l'exécution de la requête"
   ]
  },
  {
   "cell_type": "code",
   "execution_count": 7,
   "id": "e2a0e5fe-ae87-4891-a48d-533834810a42",
   "metadata": {},
   "outputs": [],
   "source": [
    "vcursor.close()\n",
    "vconnect.close()"
   ]
  },
  {
   "cell_type": "code",
   "execution_count": null,
   "id": "27e9f937-4084-481a-aa87-64c18b1bf251",
   "metadata": {},
   "outputs": [],
   "source": []
  }
 ],
 "metadata": {
  "kernelspec": {
   "display_name": "Python 3 (ipykernel)",
   "language": "python",
   "name": "python3"
  },
  "language_info": {
   "codemirror_mode": {
    "name": "ipython",
    "version": 3
   },
   "file_extension": ".py",
   "mimetype": "text/x-python",
   "name": "python",
   "nbconvert_exporter": "python",
   "pygments_lexer": "ipython3",
   "version": "3.9.7"
  }
 },
 "nbformat": 4,
 "nbformat_minor": 5
}
