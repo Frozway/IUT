{
 "cells": [
  {
   "attachments": {},
   "cell_type": "markdown",
   "metadata": {},
   "source": [
    "# TP 2 : Calcul matriciel  avec python\n",
    "\n",
    "Pour représenter une matrice en python et effectuer du calcul matriciel, il y a plusieurs méthodes selon que l'on utilise ou non le module complémentaire `numpy` \n",
    "\n",
    "Dans ce TP, nous faisons le choix de ne pas utiliser le module `numpy`. \n"
   ]
  },
  {
   "attachments": {},
   "cell_type": "markdown",
   "metadata": {},
   "source": [
    "---\n",
    "#### 1. Réprésentation des matrices : Les matrices comme listes imbriquées\n",
    "---\n",
    "\n",
    "Une matrice est une structure de données bidimensionnelle dans laquelle les nombres sont organisés en lignes et en colonnes. \n",
    "\n",
    "Sans installation de modules complémentaires (numpy par exemple), Python n'a pas de type intégré pour les matrices. \n",
    "\n",
    "Cependant, il est possible de définir une matrice en utilisant le type natif \"list\"  : chaque ligne de la matrice sera stockée sous forme de liste et la matrice sera la liste de ces lignes. On peut parler de *listes imbriquées* ou de *listes de listes*. \n",
    "\n",
    "Par exemple : La matrice $$ \\begin{pmatrix} 1&2&3\\\\4&5&6 \\end{pmatrix}$$\n",
    "sera représentée avec l'objet : \n",
    "\n",
    "```python\n",
    "[[1,2,3],[4,5,6]]\n",
    "```"
   ]
  },
  {
   "attachments": {},
   "cell_type": "markdown",
   "metadata": {},
   "source": [
    "**Question 1** :  On définit la matrice $A=(a_{i,j})$ par :   $$ A=\\begin{pmatrix} 3&1&2\\\\1&2&-2 \\\\-1&0&5\\\\1&3&3 \\end{pmatrix}$$\n",
    "Créez l'objet $A$ de type *list* représentant cette matrice."
   ]
  },
  {
   "cell_type": "code",
   "execution_count": 6,
   "metadata": {},
   "outputs": [],
   "source": [
    "A = [[3,1,2],[1,2,-2],[-1,0,5],[1,3,3]]"
   ]
  },
  {
   "attachments": {},
   "cell_type": "markdown",
   "metadata": {},
   "source": [
    "**Question 2** :  Quelle ligne de commande sur $A$ retourne la 2iè ligne ? "
   ]
  },
  {
   "cell_type": "code",
   "execution_count": 10,
   "metadata": {},
   "outputs": [
    {
     "name": "stdout",
     "output_type": "stream",
     "text": [
      "[1, 2, -2]\n"
     ]
    }
   ],
   "source": [
    "print(a[1])"
   ]
  },
  {
   "attachments": {},
   "cell_type": "markdown",
   "metadata": {},
   "source": [
    "**Question 3** :  \n",
    "1. Quelle ligne de commande sur $A$ retourne le premier élément de la 2ie ligne (noté mathématiquement $a_{2,1}$) ?  \n",
    "2. Quelle ligne de commande sur $A$ retourne l'élément $a_{3,3}$ de la matrice ? ($a_{3,3} = 5$)"
   ]
  },
  {
   "cell_type": "code",
   "execution_count": 14,
   "metadata": {},
   "outputs": [
    {
     "name": "stdout",
     "output_type": "stream",
     "text": [
      "1\n",
      "5\n"
     ]
    }
   ],
   "source": [
    "#1)\n",
    "print(a[1][0])\n",
    "#2)\n",
    "print(a[2][2])"
   ]
  },
  {
   "cell_type": "markdown",
   "metadata": {},
   "source": [
    "**Question 4** : Quelle ligne de commande retourne le nombre de lignes de la matrice $A$ ?"
   ]
  },
  {
   "cell_type": "code",
   "execution_count": 20,
   "metadata": {},
   "outputs": [
    {
     "name": "stdout",
     "output_type": "stream",
     "text": [
      "4\n"
     ]
    }
   ],
   "source": [
    "print(len(a))"
   ]
  },
  {
   "cell_type": "markdown",
   "metadata": {},
   "source": [
    "**Question 5** : Quelle ligne de commande retourne le nombre de colonnes de la matrice $A$ ?"
   ]
  },
  {
   "cell_type": "code",
   "execution_count": 21,
   "metadata": {},
   "outputs": [
    {
     "name": "stdout",
     "output_type": "stream",
     "text": [
      "3\n"
     ]
    }
   ],
   "source": [
    "print(len(a[0]))"
   ]
  },
  {
   "attachments": {},
   "cell_type": "markdown",
   "metadata": {},
   "source": [
    "**Question 6** : Executer et comprendre la commande suivante : "
   ]
  },
  {
   "cell_type": "code",
   "execution_count": 23,
   "metadata": {},
   "outputs": [
    {
     "name": "stdout",
     "output_type": "stream",
     "text": [
      "[[1, 1, 1], [1, 1, 1], [1, 1, 1]]\n"
     ]
    }
   ],
   "source": [
    "M=[[1]*3 for i in range(3)]\n",
    "print(M)\n",
    "#On créer une matrice identité M tel que 1M3"
   ]
  },
  {
   "attachments": {},
   "cell_type": "markdown",
   "metadata": {},
   "source": [
    "**Question 7** :  Créez l'objet liste correspondant à la matrice nulle de dimension (10,20) ? "
   ]
  },
  {
   "cell_type": "code",
   "execution_count": 27,
   "metadata": {},
   "outputs": [],
   "source": [
    "MN=[[0]*10 for i in range(20)]"
   ]
  },
  {
   "attachments": {},
   "cell_type": "markdown",
   "metadata": {},
   "source": [
    "**Question 8** : Complétez les instructions suivantes pour retourner la liste correspondant à la 3ie colonnne de la matrice A : "
   ]
  },
  {
   "cell_type": "code",
   "execution_count": 39,
   "metadata": {},
   "outputs": [
    {
     "name": "stdout",
     "output_type": "stream",
     "text": [
      "3ie colonne :  [2, -2, 5, 3]\n"
     ]
    }
   ],
   "source": [
    "# résultat attendu : col3 : [2,-2,5,3]\n",
    "\n",
    "col3=[]\n",
    "for ligne in A:\n",
    "    col3.append(ligne[2])\n",
    "    \n",
    "\n",
    "print(\"3ie colonne : \",col3)\n",
    "                            "
   ]
  },
  {
   "attachments": {},
   "cell_type": "markdown",
   "metadata": {},
   "source": [
    "---\n",
    "### 2. Calcul matriciel  :\n",
    "\n",
    "Programmation sous la forme de fonctions des 4 opérateurs matriciels : \n",
    "- addition de deux matrices\n",
    "- multiplication d'une matrice par un nombre\n",
    "- transposé d'une matrice \n",
    "- produit de deux matrices\n",
    "\n",
    "---\n"
   ]
  },
  {
   "attachments": {},
   "cell_type": "markdown",
   "metadata": {},
   "source": [
    "**Question 9**  :  Écrivez puis testez la fonction `addition()` qui effectue l'addition de deux matrices $A$ et $B$ : "
   ]
  },
  {
   "cell_type": "code",
   "execution_count": 60,
   "metadata": {},
   "outputs": [],
   "source": [
    "# en entrée : Deux matrices A et B \n",
    "# en sortie : La matrice A+B si elle existe, sinon le message 'problème de dimension'\n",
    " \n",
    "def addition(A,B): \n",
    "    \n",
    "    C = []\n",
    "    \n",
    "    if(len(A) == len(B) and len(A[0]) == len(B[0]) ) :\n",
    "\n",
    "        p=len(A[0]) #Nb colonnes\n",
    "        n=len(A) #Nb lignes\n",
    "        C = [[0]*p for i in range(n) ]\n",
    "\n",
    "        for i in range(n) :\n",
    "            for j in range(p) :\n",
    "                C[i][j] = A[i][j] + B[i][j]\n",
    "\n",
    "        return C\n",
    "                                \n",
    "    else:\n",
    "        print('Problème de dimension')\n",
    "\n",
    "            \n",
    "    \n",
    "\n"
   ]
  },
  {
   "cell_type": "code",
   "execution_count": 61,
   "metadata": {},
   "outputs": [
    {
     "name": "stdout",
     "output_type": "stream",
     "text": [
      "[[5], [5]]\n",
      "[[5, 8], [5, 6], [3, 11]]\n",
      "Problème de dimension\n",
      "None\n"
     ]
    }
   ],
   "source": [
    "# test de la fonction sur les différent cas : \n",
    "# cas 1 : sur deux matrices carrées d'ordre >= 2\n",
    "A=[[2],[2]]\n",
    "B=[[3],[3]]\n",
    "print(addition(A,B))\n",
    "# cas 2 : sur deux matrices non carrées mais de mêmes dimensions\n",
    "A=[[2,3],[2,5],[2,8]]\n",
    "B=[[3,5],[3,1],[1,3]]\n",
    "print(addition(A,B))\n",
    "# cas 3 : sur deux matrices de dimensions différentes\n",
    "A=[[2,3],[2,5],[2,8]]\n",
    "B=[[3,5],[3,1],[1,3],[1,1]]\n",
    "print(addition(A,B))\n",
    "\n",
    "\n"
   ]
  },
  {
   "attachments": {},
   "cell_type": "markdown",
   "metadata": {},
   "source": [
    "**Question 10**  :   Écrivez puis testez la fonction `multScalaire()` qui effectue la multiplication d'une matrice $A$ par un nombre $k$ : "
   ]
  },
  {
   "cell_type": "code",
   "execution_count": 67,
   "metadata": {},
   "outputs": [],
   "source": [
    "# en entrée : une matrice A et un nombre k\n",
    "# en sortie : la matrice kA\n",
    "\n",
    "def multScalaire(A,k):    \n",
    "    \n",
    "    p=len(A[0]) #Nb colonnes\n",
    "    n=len(A) #Nb lignes\n",
    "    C = [[0]*p for i in range(n) ]\n",
    "\n",
    "    for i in range(n) :\n",
    "        for j in range(p) :\n",
    "                C[i][j] = A[i][j] * k\n",
    "\n",
    "    return C"
   ]
  },
  {
   "cell_type": "code",
   "execution_count": 69,
   "metadata": {},
   "outputs": [
    {
     "name": "stdout",
     "output_type": "stream",
     "text": [
      "[[6, 12], [6, 15]]\n",
      "[[6, 12, 15], [6, 15, 6]]\n"
     ]
    }
   ],
   "source": [
    "# test de la fonction sur les différents cas : \n",
    "# cas 1 : sur une matrice carrée d'ordre > 1\n",
    "A=[[2,4],[2,5]]\n",
    "print(multScalaire(A,3))\n",
    "# cas 2 : sur une matrice non carrée\n",
    "A=[[2,4,5],[2,5,2]]\n",
    "print(multScalaire(A,3))\n",
    "\n"
   ]
  },
  {
   "attachments": {},
   "cell_type": "markdown",
   "metadata": {},
   "source": [
    "**Question 11** : \n",
    "\n",
    "Quel est l'ordre de compléxité des fonctions `addition()` et `multScalaire()` en fonction des dimensions $(n,p)$ des matrices ? "
   ]
  },
  {
   "cell_type": "raw",
   "metadata": {},
   "source": [
    "Ordre de compléxité d'addition et de multiScalaire = n*p"
   ]
  },
  {
   "attachments": {},
   "cell_type": "markdown",
   "metadata": {},
   "source": [
    "**Question 12**  :  Écrivez puis testez la fonction `transpose()` qui retourne la transposé d'une matrice $A$  : "
   ]
  },
  {
   "cell_type": "code",
   "execution_count": 78,
   "metadata": {},
   "outputs": [],
   "source": [
    "# en entrée : une matrice A\n",
    "# en sortie : la matrice transposée de A\n",
    "\n",
    "def transpose(A):\n",
    "    C = []\n",
    "    p=len(A[0]) #Nb colonnes\n",
    "    n=len(A) #Nb lignes\n",
    "\n",
    "    for i in range(p) :\n",
    "        D = []\n",
    "        for j in range(n) :\n",
    "            D.append(A[j][i])\n",
    "        C.append(D)\n",
    "    \n",
    "    return C"
   ]
  },
  {
   "cell_type": "code",
   "execution_count": 79,
   "metadata": {},
   "outputs": [
    {
     "name": "stdout",
     "output_type": "stream",
     "text": [
      "[[2, 1], [4, 5]]\n",
      "[[2, 1], [4, 5], [5, 5]]\n"
     ]
    }
   ],
   "source": [
    "# test de la fonction transposé sur les différents cas : \n",
    "# cas 1 : sur une matrice carrée d'ordre >=2\n",
    "A=[[2,4],[1,5]]\n",
    "print(transpose(A))\n",
    "# cas 2 : sur une matrice non carréé\n",
    "A=[[2,4,5],[1,5,5]]\n",
    "print(transpose(A))"
   ]
  },
  {
   "attachments": {},
   "cell_type": "markdown",
   "metadata": {},
   "source": [
    "**Question 14**  :  \n",
    "\n",
    "On rappelle la définition du produit de deux matrices : \n",
    "\n",
    "Soit $A$ une matrice de dimension $(n,p)$.  \n",
    "soit $B$ une matrice de dimension $(p,q)$.  \n",
    "\n",
    "\n",
    "Le produit de $A$ par $B$, noté $AB$, est une matrice $C$ de dimension $(n,q)$ dont l'élément d'indice $ij$  est obtenu en multipliant la $i$-ème ligne de $A$ par la $j$-ème colonne de $B$ : \n",
    "$$ \\forall i=1..n, \\quad \\forall j=1..q \\qquad c_{ij}=a_{i1}b_{1j} + a_{i2}b_{2j} + \\ldots + a_{ip}b_{pj}= \\sum^{p}_{k=1} a_{ik}b_{kj} $$\n",
    "\n",
    "Soient les matrices $A$ et $B$ suivantes : \n",
    "$$ A = \\begin{pmatrix} 1&0&2 \\\\1&1&0 \\end{pmatrix}  \\quad  B =  \\begin{pmatrix} 1&0&4\\\\0&2&1\\\\-1&1&1\\end{pmatrix} $$ \n",
    "Les produits $AB$ et $BA$ sont-ils définis ?   \n",
    "Si oui, quelles sont leurs dimensions ?    Faire le calcul \"à la main\"  "
   ]
  },
  {
   "attachments": {},
   "cell_type": "markdown",
   "metadata": {},
   "source": [
    "Réponse : Le produit AB est définit mais pas BA"
   ]
  },
  {
   "attachments": {},
   "cell_type": "markdown",
   "metadata": {},
   "source": [
    "**Question 15** : Écrivez puis tester la fonction `produit()` suivante qui effectue le produit de deux matrices $A$ et $B$ : "
   ]
  },
  {
   "cell_type": "code",
   "execution_count": 113,
   "metadata": {},
   "outputs": [],
   "source": [
    "# en entrée : deux matrices A et B\n",
    "# en sortie : la matrice produit AB si elle existe,  sinon le message 'problème de dimension'\n",
    "\n",
    "def produit(A,B):\n",
    "\n",
    "    C = []\n",
    "    \n",
    "    if(len(A[0]) == len(B)) :\n",
    "\n",
    "        p=len(B[0]) #Nb colonnes\n",
    "        n=len(A) #Nb lignes\n",
    "        C = [[0]*p for i in range(n) ]\n",
    "\n",
    "        for i in range(n) :\n",
    "            for j in range(p) :\n",
    "                C[i][j] = (A[i][j] * B[i][j]) + (A[i][j+1] * B[i+1][j]) + (A[i][j+2] * B[i][j+2]) \n",
    "\n",
    "        return C\n",
    "                                \n",
    "    else:\n",
    "        print('Problème de dimension')\n",
    "\n",
    "            \n",
    "    return C"
   ]
  },
  {
   "cell_type": "code",
   "execution_count": 115,
   "metadata": {},
   "outputs": [
    {
     "ename": "IndexError",
     "evalue": "list index out of range",
     "output_type": "error",
     "traceback": [
      "\u001b[1;31m---------------------------------------------------------------------------\u001b[0m",
      "\u001b[1;31mIndexError\u001b[0m                                Traceback (most recent call last)",
      "Cell \u001b[1;32mIn[115], line 5\u001b[0m\n\u001b[0;32m      3\u001b[0m A \u001b[38;5;241m=\u001b[39m [ [\u001b[38;5;241m1\u001b[39m,\u001b[38;5;241m0\u001b[39m,\u001b[38;5;241m2\u001b[39m], [\u001b[38;5;241m1\u001b[39m,\u001b[38;5;241m1\u001b[39m,\u001b[38;5;241m0\u001b[39m] ]\n\u001b[0;32m      4\u001b[0m B \u001b[38;5;241m=\u001b[39m [ [\u001b[38;5;241m1\u001b[39m,\u001b[38;5;241m0\u001b[39m,\u001b[38;5;241m4\u001b[39m], [\u001b[38;5;241m0\u001b[39m,\u001b[38;5;241m2\u001b[39m,\u001b[38;5;241m1\u001b[39m], [\u001b[38;5;241m-\u001b[39m\u001b[38;5;241m1\u001b[39m, \u001b[38;5;241m1\u001b[39m, \u001b[38;5;241m1\u001b[39m]]\n\u001b[1;32m----> 5\u001b[0m \u001b[38;5;28mprint\u001b[39m(\u001b[43mproduit\u001b[49m\u001b[43m(\u001b[49m\u001b[43mA\u001b[49m\u001b[43m,\u001b[49m\u001b[43mB\u001b[49m\u001b[43m)\u001b[49m)\n\u001b[0;32m      6\u001b[0m \u001b[38;5;66;03m# cas 2 : sur deux matrices carrées d'ordres différents (le produit est impossible)\u001b[39;00m\n",
      "Cell \u001b[1;32mIn[113], line 16\u001b[0m, in \u001b[0;36mproduit\u001b[1;34m(A, B)\u001b[0m\n\u001b[0;32m     14\u001b[0m     \u001b[38;5;28;01mfor\u001b[39;00m i \u001b[38;5;129;01min\u001b[39;00m \u001b[38;5;28mrange\u001b[39m(n) :\n\u001b[0;32m     15\u001b[0m         \u001b[38;5;28;01mfor\u001b[39;00m j \u001b[38;5;129;01min\u001b[39;00m \u001b[38;5;28mrange\u001b[39m(p) :\n\u001b[1;32m---> 16\u001b[0m             C[i][j] \u001b[38;5;241m=\u001b[39m (A[i][j] \u001b[38;5;241m*\u001b[39m B[j][i]) \u001b[38;5;241m+\u001b[39m (A[i][j\u001b[38;5;241m+\u001b[39m\u001b[38;5;241m1\u001b[39m] \u001b[38;5;241m*\u001b[39m B[j\u001b[38;5;241m+\u001b[39m\u001b[38;5;241m1\u001b[39m][i]) \u001b[38;5;241m+\u001b[39m (\u001b[43mA\u001b[49m\u001b[43m[\u001b[49m\u001b[43mi\u001b[49m\u001b[43m]\u001b[49m\u001b[43m[\u001b[49m\u001b[43mj\u001b[49m\u001b[38;5;241;43m+\u001b[39;49m\u001b[38;5;241;43m2\u001b[39;49m\u001b[43m]\u001b[49m \u001b[38;5;241m*\u001b[39m B[j][i\u001b[38;5;241m+\u001b[39m\u001b[38;5;241m2\u001b[39m]) \n\u001b[0;32m     18\u001b[0m     \u001b[38;5;28;01mreturn\u001b[39;00m C\n\u001b[0;32m     20\u001b[0m \u001b[38;5;28;01melse\u001b[39;00m:\n",
      "\u001b[1;31mIndexError\u001b[0m: list index out of range"
     ]
    }
   ],
   "source": [
    "# test de la fonction produit sur les différents cas : \n",
    "# cas 1 : sur les matrices A et B de la question 14\n",
    "A = [ [1,0,2], [1,1,0] ]\n",
    "B = [ [1,0,4], [0,2,1], [-1, 1, 1]]\n",
    "print(produit(A,B))\n",
    "# cas 2 : sur deux matrices carrées d'ordres différents (le produit est impossible)\n"
   ]
  },
  {
   "attachments": {},
   "cell_type": "markdown",
   "metadata": {},
   "source": [
    "**Question 16** : Ecrivez puis testez la fonction `estTriang()` qui vérifie si une matrice est une matrice triangulaire supérieure ou non.\n",
    "\n",
    "On rappelle qu'une matrice **triangulaire supérieure** est une matrice *carrée* spéciale dont tous les éléments en dessous de la diagonale principale sont nuls, ce qui signifie que : $$ a_{i,j} = 0 \\quad \\forall i > j$$"
   ]
  },
  {
   "cell_type": "code",
   "execution_count": null,
   "metadata": {},
   "outputs": [],
   "source": [
    "## en entrée : une matrice A\n",
    "## en sortie : True si la matrice est triangulaire supérieure, False sinon\n",
    "\n",
    "def estTriang(A): \n",
    "    # ---  A COMPLETER --- \n",
    "\n",
    "    return result"
   ]
  },
  {
   "cell_type": "code",
   "execution_count": null,
   "metadata": {},
   "outputs": [],
   "source": [
    "# test sur les différents cas : \n",
    "# cas 1 : sur une matrice non carrée[\n",
    "# cas 2 : sur une matrice carrée non triangulaire\n",
    "# cas 3 : sur une matrice carrée triangulaire  mais triangulaire inférieur : A = [[1,0,0],[1,2,0],[1,2,3]]\n",
    "# cas 4 : sur une matrice carrée triangulaire supérieure : A = [[1,2,3],[0,2,3],[0,0,3]]\n",
    "\n"
   ]
  }
 ],
 "metadata": {
  "kernelspec": {
   "display_name": "Python 3",
   "language": "python",
   "name": "python3"
  },
  "language_info": {
   "codemirror_mode": {
    "name": "ipython",
    "version": 3
   },
   "file_extension": ".py",
   "mimetype": "text/x-python",
   "name": "python",
   "nbconvert_exporter": "python",
   "pygments_lexer": "ipython3",
   "version": "3.9.2 (v3.9.2:1a79785e3e, Feb 19 2021, 09:06:10) \n[Clang 6.0 (clang-600.0.57)]"
  },
  "vscode": {
   "interpreter": {
    "hash": "aee8b7b246df8f9039afb4144a1f6fd8d2ca17a180786b69acc140d282b71a49"
   }
  }
 },
 "nbformat": 4,
 "nbformat_minor": 2
}
