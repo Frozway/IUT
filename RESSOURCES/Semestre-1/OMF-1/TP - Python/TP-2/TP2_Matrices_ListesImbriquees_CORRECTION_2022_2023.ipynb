{
 "cells": [
  {
   "attachments": {},
   "cell_type": "markdown",
   "metadata": {},
   "source": [
    "# TP 2 : Calcul matriciel  avec python\n",
    "\n",
    "Pour représenter une matrice en python et effectuer du calcul matriciel, il y a plusieurs méthodes selon que l'on utilise ou non le module complémentaire `numpy` \n",
    "\n",
    "Dans ce TP, nous faisons le choix de ne pas utiliser le module `numpy`. \n"
   ]
  },
  {
   "attachments": {},
   "cell_type": "markdown",
   "metadata": {},
   "source": [
    "---\n",
    "#### 1. Réprésentation des matrices : Les matrices comme listes imbriquées\n",
    "---\n",
    "\n",
    "Une matrice est une structure de données bidimensionnelle dans laquelle les nombres sont organisés en lignes et en colonnes. \n",
    "\n",
    "Sans installation de modules complémentaires (numpy par exemple), Python n'a pas de type intégré pour les matrices. \n",
    "\n",
    "Cependant, il est possible de définir une matrice en utilisant le type natif \"list\"  : chaque ligne de la matrice sera stockée sous forme de liste et la matrice sera la liste de ces lignes. On peut parler de *listes imbriquées* ou de *listes de listes*. \n",
    "\n",
    "Par exemple : La matrice $$ \\begin{pmatrix} 1&2&3\\\\4&5&6 \\end{pmatrix}$$\n",
    "sera représentée avec l'objet : \n",
    "\n",
    "```python\n",
    "[[1,2,3],[4,5,6]]\n",
    "```"
   ]
  },
  {
   "attachments": {},
   "cell_type": "markdown",
   "metadata": {},
   "source": [
    "**Question 1** :  On définit la matrice $A=(a_{i,j})$ par :   $$ A=\\begin{pmatrix} 3&1&2\\\\1&2&-2 \\\\-1&0&5\\\\1&3&3 \\end{pmatrix}$$\n",
    "Créez l'objet $A$ de type liste représentant cette matrice."
   ]
  },
  {
   "cell_type": "code",
   "execution_count": 9,
   "metadata": {},
   "outputs": [
    {
     "data": {
      "text/plain": [
       "[[3, 1, 2], [1, 2, -2], [-1, 0, 5], [1, 3, 3]]"
      ]
     },
     "execution_count": 9,
     "metadata": {},
     "output_type": "execute_result"
    }
   ],
   "source": [
    "A=[[3,1,2],[1,2,-2],[-1,0,5],[1,3,3]]\n",
    "A"
   ]
  },
  {
   "attachments": {},
   "cell_type": "markdown",
   "metadata": {},
   "source": [
    "**Question 2** :  Quelle ligne de commande sur $A$ retourne la 2iè ligne ? "
   ]
  },
  {
   "cell_type": "code",
   "execution_count": 5,
   "metadata": {},
   "outputs": [
    {
     "data": {
      "text/plain": [
       "[1, 2, -2]"
      ]
     },
     "execution_count": 5,
     "metadata": {},
     "output_type": "execute_result"
    }
   ],
   "source": [
    "A[1]"
   ]
  },
  {
   "attachments": {},
   "cell_type": "markdown",
   "metadata": {},
   "source": [
    "**Question 3** :  \n",
    "1. Quelle ligne de commande sur $A$ retourne le premier élément de la 2ie ligne (noté mathématiquement $a_{2,1}$) ?  \n",
    "2. Quelle ligne de commande sur $A$ retourne l'élément $a_{3,3}$ de la matrice ? ($a_{3,3} = 5$)"
   ]
  },
  {
   "cell_type": "code",
   "execution_count": 13,
   "metadata": {},
   "outputs": [
    {
     "name": "stdout",
     "output_type": "stream",
     "text": [
      "a2,1 =  1\n",
      "a3,3 =  5\n"
     ]
    }
   ],
   "source": [
    "print(\"a2,1 = \" , A[1][0])\n",
    "print(\"a3,3 = \" , A[2][2])"
   ]
  },
  {
   "cell_type": "markdown",
   "metadata": {},
   "source": [
    "**Question 4** : Quelle ligne de commande retourne le nombre de lignes de la matrice $A$ ?"
   ]
  },
  {
   "cell_type": "code",
   "execution_count": 16,
   "metadata": {},
   "outputs": [
    {
     "name": "stdout",
     "output_type": "stream",
     "text": [
      "nombre de lignes :  4\n"
     ]
    }
   ],
   "source": [
    "print(\"nombre de lignes : \",len(A))"
   ]
  },
  {
   "cell_type": "markdown",
   "metadata": {},
   "source": [
    "**Question 5** : Quelle ligne de commande retourne le nombre de colonnes de la matrice $A$ ?"
   ]
  },
  {
   "cell_type": "code",
   "execution_count": 17,
   "metadata": {},
   "outputs": [
    {
     "name": "stdout",
     "output_type": "stream",
     "text": [
      "nombre de colonnes :  3\n"
     ]
    }
   ],
   "source": [
    "print(\"nombre de colonnes : \", len(A[0]))"
   ]
  },
  {
   "attachments": {},
   "cell_type": "markdown",
   "metadata": {},
   "source": [
    "**Question 6** : Executer et comprendre la commande suivante : \n",
    "```python\n",
    "M=[[1]*3 for i in range(3)]\n",
    "```"
   ]
  },
  {
   "cell_type": "code",
   "execution_count": 22,
   "metadata": {},
   "outputs": [
    {
     "data": {
      "text/plain": [
       "[[1, 1, 1], [1, 1, 1], [1, 1, 1]]"
      ]
     },
     "execution_count": 22,
     "metadata": {},
     "output_type": "execute_result"
    }
   ],
   "source": [
    "M=[[1]*3 for i in range(3)]\n",
    "M"
   ]
  },
  {
   "attachments": {},
   "cell_type": "markdown",
   "metadata": {},
   "source": [
    "**Question 7** :  Créez l'objet liste correspondant à la matrice nulle de dimension (10,20) ? "
   ]
  },
  {
   "cell_type": "code",
   "execution_count": 20,
   "metadata": {},
   "outputs": [
    {
     "data": {
      "text/plain": [
       "[[0, 0, 0, 0, 0, 0, 0, 0, 0, 0, 0, 0, 0, 0, 0, 0, 0, 0, 0, 0],\n",
       " [0, 0, 0, 0, 0, 0, 0, 0, 0, 0, 0, 0, 0, 0, 0, 0, 0, 0, 0, 0],\n",
       " [0, 0, 0, 0, 0, 0, 0, 0, 0, 0, 0, 0, 0, 0, 0, 0, 0, 0, 0, 0],\n",
       " [0, 0, 0, 0, 0, 0, 0, 0, 0, 0, 0, 0, 0, 0, 0, 0, 0, 0, 0, 0],\n",
       " [0, 0, 0, 0, 0, 0, 0, 0, 0, 0, 0, 0, 0, 0, 0, 0, 0, 0, 0, 0],\n",
       " [0, 0, 0, 0, 0, 0, 0, 0, 0, 0, 0, 0, 0, 0, 0, 0, 0, 0, 0, 0],\n",
       " [0, 0, 0, 0, 0, 0, 0, 0, 0, 0, 0, 0, 0, 0, 0, 0, 0, 0, 0, 0],\n",
       " [0, 0, 0, 0, 0, 0, 0, 0, 0, 0, 0, 0, 0, 0, 0, 0, 0, 0, 0, 0],\n",
       " [0, 0, 0, 0, 0, 0, 0, 0, 0, 0, 0, 0, 0, 0, 0, 0, 0, 0, 0, 0],\n",
       " [0, 0, 0, 0, 0, 0, 0, 0, 0, 0, 0, 0, 0, 0, 0, 0, 0, 0, 0, 0]]"
      ]
     },
     "execution_count": 20,
     "metadata": {},
     "output_type": "execute_result"
    }
   ],
   "source": [
    "[[0]*20 for i in range(10)]"
   ]
  },
  {
   "attachments": {},
   "cell_type": "markdown",
   "metadata": {},
   "source": [
    "**Question 8** : Complétez les instructions suivantes pour retourner la liste correspondant à la 3ie colonnne de la matrice A : "
   ]
  },
  {
   "cell_type": "code",
   "execution_count": 26,
   "metadata": {},
   "outputs": [
    {
     "name": "stdout",
     "output_type": "stream",
     "text": [
      "col3 :  [2, -2, 5, 3]\n"
     ]
    }
   ],
   "source": [
    "# résultat attendu : col3 : [2,-2,5,3]\n",
    "\n",
    "col3=[]\n",
    "for ligne in A:\n",
    "    # à compléter - ajouter le 3ème élément de la ligne\n",
    "    col3.append(ligne[2])  \n",
    "print(\"col3 : \",col3)\n",
    "                            "
   ]
  },
  {
   "attachments": {},
   "cell_type": "markdown",
   "metadata": {},
   "source": [
    "---\n",
    "### 2. Calcul matriciel  :\n",
    "\n",
    "Programmation sous la forme de fonctions des 4 opérateurs matriciels : \n",
    "- addition de deux matrices\n",
    "- multiplication d'une matrice par un nombre\n",
    "- transposé d'une matrice \n",
    "- produit de deux matrices\n",
    "\n",
    "---\n"
   ]
  },
  {
   "attachments": {},
   "cell_type": "markdown",
   "metadata": {},
   "source": [
    "**Question 9**  :  Écrivez puis testez la fonction `addition()` qui effectue l'addition de deux matrices $A$ et $B$ : "
   ]
  },
  {
   "cell_type": "code",
   "execution_count": 3,
   "metadata": {},
   "outputs": [],
   "source": [
    "# en entrée : Deux matrices A et B \n",
    "# en sortie : La matrice A+B si elle existe, sinon le message 'problème de dimension'\n",
    "\n",
    "# ----------------------------\n",
    "# version 1 :   \n",
    "# ----------------------------\n",
    "def addition(A,B): \n",
    "    # verification des dimensions des matrices\n",
    "    if not (len(A) == len(B) and len(A[0]) == len(B[0])):\n",
    "        return 'problème de dimension'\n",
    "    \n",
    "    # définition des dimensions des matrices\n",
    "    n=len(A)     # nombre de lignes de A \n",
    "    p=len(A[0])      # nombre de colonnes de A \n",
    "    \n",
    "    # initialisation de la matrice somme C\n",
    "    # comme matrice nulle de dimensions (n,p)\n",
    "    C =[[0]*p for i in range(n)]    \n",
    "    \n",
    "    # Affectation de chaque élément c_ij de la matrice somme C \n",
    "    # parcourir les lignes\n",
    "    for i in range(n):      \n",
    "        # parcourir les colonnes\n",
    "        for j in range(p)  :   \n",
    "            C[i][j]=A[i][j]+B[i][j]\n",
    "            \n",
    "    return C\n",
    "\n",
    "# ----------------------------\n",
    "# version 2 :  plus concis  \n",
    "# ----------------------------\n",
    "def addition(A,B): \n",
    "    # verification des dimensions des matrices\n",
    "    if not (len(A) == len(B) and len(A[0]) == len(B[0])):\n",
    "        return 'problème de dimension'\n",
    "    \n",
    "    # définition des dimensions des matrices\n",
    "    n=len(A)     # nombre de lignes de A \n",
    "    p=len(A[0])      # nombre de colonnes de A \n",
    "        \n",
    "    # Construction de la matrice somme C :\n",
    "    C = [[A[i][j] + B[i][j] for j in range(p)] for i in range(n)]\n",
    "\n",
    "    return C\n",
    "\n",
    "\n",
    "# ----------------------------\n",
    "# version 3 : avec la méthode append \n",
    "# ----------------------------\n",
    "def addition(A,B): \n",
    "    # verification des dimensions des matrices\n",
    "    if not (len(A) == len(B) and len(A[0]) == len(B[0])):\n",
    "        return 'problème de dimension'\n",
    "    \n",
    "    # définition des dimensions des matrices\n",
    "    n=len(A)     # nombre de lignes de A \n",
    "    p=len(A[0])      # nombre de colonnes de A \n",
    "        \n",
    "    # Construction de la matrice somme C :\n",
    "    C=[]\n",
    "    for i in range(n): \n",
    "        C.append([])     \n",
    "        for j in range(p):   \n",
    "            C[i].append(A[i][j]+B[i][j])    \n",
    "\n",
    "    return C\n",
    "\n"
   ]
  },
  {
   "cell_type": "code",
   "execution_count": 5,
   "metadata": {},
   "outputs": [
    {
     "name": "stdout",
     "output_type": "stream",
     "text": [
      "[[1, 4], [4, 10]]\n",
      "[[1, 4], [4, 10], [9, 12]]\n",
      "problème de dimension\n"
     ]
    }
   ],
   "source": [
    "# test de la fonction sur les différent cas : \n",
    "# cas 1 : sur deux matrices carrées d'ordre >= 2\n",
    "A=[[1,2],[4,5]]     \n",
    "B=[[0,2],[0,5]]     \n",
    "print(addition(A,B))\n",
    "\n",
    "# cas 2 : sur deux matrices non carrées mais de mêmes dimensions\n",
    "A=[[1,2],[4,5],[4,7]]     \n",
    "B=[[0,2],[0,5],[5,5]]     \n",
    "print(addition(A,B))\n",
    "\n",
    "# cas 3 : sur deux matrices de dimensions différentes\n",
    "A=[[1,2],[4,5]]     \n",
    "B=[[0,2,3],[0,5,3]]     \n",
    "print(addition(A,B))\n"
   ]
  },
  {
   "attachments": {},
   "cell_type": "markdown",
   "metadata": {},
   "source": [
    "**Question 10**  :   Écrivez puis testez la fonction `multScalaire()` qui effectue la multiplication d'une matrice $A$ par un nombre $k$ : "
   ]
  },
  {
   "cell_type": "code",
   "execution_count": 12,
   "metadata": {},
   "outputs": [],
   "source": [
    "# en entrée : une matrice A et un nombre k\n",
    "# en sortie : la matrice kA\n",
    "    \n",
    "# ----------------------------\n",
    "# version 1 :   \n",
    "# ----------------------------\n",
    "def multScalaire(A,k):\n",
    "    # définition des dimensions de la matrice\n",
    "    n=len(A)     # nombre de lignes de A \n",
    "    p=len(A[0])      # nombre de colonnes de A \n",
    "    \n",
    "    # initialisation de la matrice somme C\n",
    "    # comme matrice nulle de dimensions (n,p)\n",
    "    C =[[0]*p for i in range(n)]    \n",
    "    \n",
    "    # Affectation de chaque élément c_ij de la matrice C\n",
    "    # parcourir les lignes\n",
    "    for i in range(n):      \n",
    "        # parcourir les colonnes\n",
    "        for j in range(p)  :   \n",
    "            C[i][j]=k*A[i][j]\n",
    "            \n",
    "    return C\n",
    "    \n",
    "# ----------------------------\n",
    "# version 2 :  plus concis  \n",
    "# ----------------------------\n",
    "def multScalaire(A,k):\n",
    "    # définition des dimensions de la matrice\n",
    "    n=len(A)     # nombre de lignes de A \n",
    "    p=len(A[0])      # nombre de colonnes de A \n",
    "        \n",
    "    # Construction de la matrice somme C :\n",
    "    C = [[k*A[i][j] for j in range(p)] for i in range(n)]\n",
    "\n",
    "    return C\n",
    "\n",
    "\n",
    "# ----------------------------\n",
    "# version 3 : avec la méthode append \n",
    "# ----------------------------\n",
    "def multScalaire(A,k):\n",
    "    # définition des dimensions de la matrice\n",
    "    n=len(A)     # nombre de lignes de A \n",
    "    p=len(A[0])      # nombre de colonnes de A \n",
    "        \n",
    "    # Construction de la matrice somme C :\n",
    "    C=[]\n",
    "    for i in range(n): \n",
    "        C.append([])     \n",
    "        for j in range(p):   \n",
    "            C[i].append(k*A[i][j])    \n",
    "\n",
    "    return C\n"
   ]
  },
  {
   "cell_type": "code",
   "execution_count": 13,
   "metadata": {},
   "outputs": [
    {
     "name": "stdout",
     "output_type": "stream",
     "text": [
      "[[2, 4], [6, 8]]\n",
      "[[2, 4, 6], [6, 8, 12]]\n"
     ]
    }
   ],
   "source": [
    "# test de la fonction sur les différents cas : \n",
    "# cas 1 : sur une matrice carrée d'ordre > 1\n",
    "A=[[1,2],[3,4]]      \n",
    "k=2    \n",
    "print(multScalaire(A,k))\n",
    "\n",
    "# cas 2 : sur une matrice non carrée\n",
    "A=[[1,2,3],[3,4,6]]      \n",
    "k=2    \n",
    "print(multScalaire(A,k))\n"
   ]
  },
  {
   "attachments": {},
   "cell_type": "markdown",
   "metadata": {},
   "source": [
    "**Question 11** : \n",
    "\n",
    "Quel est l'ordre de compléxité des fonctions `addition()` et `multScalaire()` en fonction des dimensions $(n,p)$ des matrices ? "
   ]
  },
  {
   "cell_type": "raw",
   "metadata": {},
   "source": [
    "nombre d'addition/mutliplication : n * p "
   ]
  },
  {
   "attachments": {},
   "cell_type": "markdown",
   "metadata": {},
   "source": [
    "**Question 12**  :  Écrivez puis testez la fonction `transpose()` qui retourne la transposé d'une matrice $A$  : "
   ]
  },
  {
   "cell_type": "code",
   "execution_count": 14,
   "metadata": {},
   "outputs": [],
   "source": [
    "# en entrée : une matrice A\n",
    "# en sortie : la matrice transposée de A\n",
    "\n",
    "# ----------------------------\n",
    "# version 1 : \n",
    "# ----------------------------\n",
    "def transpose(A):\n",
    "    n=len(A) # nombre de lignes de A\n",
    "    p=len(A[0]) # nombre de colonnes de A\n",
    "    # initialisation de C\n",
    "    # matrice nulle de dimensions (p,n)\n",
    "    C = [[0]*n for i in range(p)] \n",
    "    # parcourir les lignes\n",
    "    for i in range(p):\n",
    "        # parcourir les colonnes\n",
    "        for j in range(n):\n",
    "            C[i][j]= A[j][i]\n",
    "    return C\n",
    "\n",
    "# ----------------------------\n",
    "# version 2 : plus concis \n",
    "# ----------------------------\n",
    "def transpose(A):\n",
    "    n=len(A) # nombre de lignes de A\n",
    "    p=len(A[0]) # nombre de colonnes de A\n",
    "    C = [[A[j][i] for j in range(n)] for i in range(p)]\n",
    "    return C\n",
    "\n",
    "# ----------------------------\n",
    "# version 3 : \n",
    "# ----------------------------\n",
    "def transpose(A):\n",
    "    n=len(A) # nombre de lignes de A\n",
    "    p=len(A[0]) # nombre de colonnes de A\n",
    "    # initialisation de C\n",
    "    C = [] \n",
    "    # parcourir les lignes\n",
    "    for i in range(p):\n",
    "        C.append([])\n",
    "        # parcourir les colonnes\n",
    "        for j in range(n):\n",
    "            C[i].append(A[j][i])\n",
    "    return C"
   ]
  },
  {
   "cell_type": "code",
   "execution_count": 16,
   "metadata": {},
   "outputs": [
    {
     "name": "stdout",
     "output_type": "stream",
     "text": [
      "[[1, 3], [2, 4]]\n",
      "[[1, 4], [2, 5], [3, 6]]\n"
     ]
    }
   ],
   "source": [
    "# test de la fonction transposé sur les différents cas : \n",
    "# cas 1 : sur une matrice carrée d'ordre >=2\n",
    "A=[[1,2],[3,4]]\n",
    "print(transpose(A))\n",
    "\n",
    "# cas 2 : sur une matrice non carréé\n",
    "A=[[1,2,3],[4,5,6]]\n",
    "print(transpose(A))"
   ]
  },
  {
   "attachments": {},
   "cell_type": "markdown",
   "metadata": {},
   "source": [
    "**Question 13**  :  \n",
    "\n",
    "On rappelle la définition du produit de deux matrices : \n",
    "\n",
    "Soit $A$ une matrice de dimension $(n,p)$.  \n",
    "soit $B$ une matrice de dimension $(p,q)$.  \n",
    "\n",
    "\n",
    "Le produit de $A$ par $B$, noté $AB$, est une matrice $C$ de dimension $(n,q)$ dont l'élément d'indice $ij$  est obtenu en multipliant la $i$-ème ligne de $A$ par la $j$-ème colonne de $B$ : \n",
    "$$ \\forall i=1..n, \\quad \\forall j=1..q \\qquad c_{ij}=a_{i1}b_{1j} + a_{i2}b_{2j} + \\ldots + a_{ip}b_{pj}= \\sum^{p}_{k=1} a_{ik}b_{kj} $$\n",
    "\n",
    "Soient les matrices $A$ et $B$ suivantes : \n",
    "$$ A = \\begin{pmatrix} 1&0&2 \\\\1&1&0 \\end{pmatrix}  \\quad  B =  \\begin{pmatrix} 1&0&4\\\\0&2&1\\\\-1&1&1\\end{pmatrix} $$ \n",
    "Les produits $AB$ et $BA$ sont-ils définis ?   \n",
    "Si oui, quelles sont leurs dimensions ?    Faire le calcul \"à la main\"  "
   ]
  },
  {
   "attachments": {},
   "cell_type": "markdown",
   "metadata": {},
   "source": [
    "Résultat : \n",
    "$$ A B = \\begin{pmatrix} -1&2&6 \\\\1&2&5 \\end{pmatrix}$$"
   ]
  },
  {
   "attachments": {},
   "cell_type": "markdown",
   "metadata": {},
   "source": [
    "**Question 14** : Écrivez puis tester la fonction `produit()` suivante qui effectue le produit de deux matrices $A$ et $B$ : "
   ]
  },
  {
   "cell_type": "code",
   "execution_count": 19,
   "metadata": {},
   "outputs": [],
   "source": [
    "# en entrée : deux matrices A et B\n",
    "# en sortie : la matrice produit AB si elle existe,  sinon le message 'problème de dimension'\n",
    "\n",
    "# ----------------------------\n",
    "# version 1 : \n",
    "# ----------------------------\n",
    "def produit(A,B):\n",
    "    # verification des dimensions des matrices\n",
    "    if len(A[0]) != len(B):\n",
    "        return 'problème de dimension'\n",
    "\n",
    "    # retourne le produit AB des matrices A et B\n",
    "    n= len(A)      # nombre de lignes de A \n",
    "    p= len(A[0])   # nombre de colonnes de A = nombre de lignes de B\n",
    "    q= len(B[0])   # nombre de colonnes de B \n",
    "    \n",
    "    # initialisation de la matrice produit C comme matrice nulle de dimensions (n,q)\n",
    "    C = [[0]*q for i in range(n)] \n",
    "    \n",
    "     # affectation de chaque élément c_ij de la matrice C\n",
    "    for i in range(n):\n",
    "        for j in range(q):\n",
    "            for k in range(p):\n",
    "                C[i][j] += A[i][k] * B[k][j]\n",
    "    return C\n",
    "\n",
    "\n",
    "# ----------------------------\n",
    "# version 2 : \n",
    "# ----------------------------\n",
    "def produit(A,B):\n",
    "    if len(A[0]) == len(B):\n",
    "        return [[sum([A[i][k] * B[k][j] for k in range(len(A[0]))]) for j in range(len(B[i]))] for i in range(len(A))]\n",
    "    else:\n",
    "        return \"Problème de dimension\"    "
   ]
  },
  {
   "cell_type": "code",
   "execution_count": 21,
   "metadata": {},
   "outputs": [
    {
     "name": "stdout",
     "output_type": "stream",
     "text": [
      "[[-1, 2, 6], [1, 2, 5]]\n",
      "problème de dimension\n"
     ]
    }
   ],
   "source": [
    "# test de la fonction produit sur les différents cas : \n",
    "# cas 1 : sur les matrices A et B de la question 13\n",
    "A=[[1,0,2],[1,1,0]]\n",
    "B=[[1,0,4],[0,2,1],[-1,1,1]]\n",
    "print(produit(A,B))\n",
    "\n",
    "# cas 2 : sur deux matrices carrées d'ordres différents (le produit est impossible)\n",
    "A=[[1,0],[1,1]]\n",
    "B=[[1,0,4],[0,2,1],[-1,1,1]]\n",
    "print(produit(A,B))"
   ]
  },
  {
   "attachments": {},
   "cell_type": "markdown",
   "metadata": {},
   "source": [
    "**Question 15** : Ecrivez puis testez la fonction `estTriang()` qui vérifie si une matrice est une matrice triangulaire supérieure ou non.\n",
    "\n",
    "On rappelle qu'une matrice **triangulaire supérieure** est une matrice *carrée* spéciale dont tous les éléments en dessous de la diagonale principale sont nuls, ce qui signifie que : $$ a_{i,j} = 0 \\quad \\forall i > j$$"
   ]
  },
  {
   "cell_type": "code",
   "execution_count": 1,
   "metadata": {},
   "outputs": [],
   "source": [
    "## en entrée : une matrice A\n",
    "## en sortie : True si la matrice est triangulaire supérieure, False sinon\n",
    "\n",
    "def estTriang(A): \n",
    "    # verification des dimensions de la matrice\n",
    "    if not (len(A) == len(A[0])):\n",
    "        return False\n",
    "    else:\n",
    "        for i in range(len(A)):\n",
    "            for j in range(i):\n",
    "                if(A[i][j] != 0):\n",
    "                    return False\n",
    "        return True\n",
    " \n"
   ]
  },
  {
   "cell_type": "code",
   "execution_count": 3,
   "metadata": {},
   "outputs": [
    {
     "data": {
      "text/plain": [
       "True"
      ]
     },
     "execution_count": 3,
     "metadata": {},
     "output_type": "execute_result"
    }
   ],
   "source": [
    "# test sur les différents cas : \n",
    "# cas 1 : sur une matrice non carrée  \n",
    "# cas 2 : sur une matrice carrée non triangulaire\n",
    "# cas 3 : sur une matrice carrée triangulaire  mais triangulaire inférieur : A = [[1,0,0],[1,2,0],[1,2,3]]\n",
    "# cas 4 : sur une matrice carrée triangulaire supérieure : A = [[1,2,3],[0,2,3],[0,0,3]]\n",
    "\n",
    "estTriang([[1,2,3],[0,2,3],[0,0,3]])"
   ]
  }
 ],
 "metadata": {
  "kernelspec": {
   "display_name": "Python 3",
   "language": "python",
   "name": "python3"
  },
  "language_info": {
   "codemirror_mode": {
    "name": "ipython",
    "version": 3
   },
   "file_extension": ".py",
   "mimetype": "text/x-python",
   "name": "python",
   "nbconvert_exporter": "python",
   "pygments_lexer": "ipython3",
   "version": "3.9.2 (v3.9.2:1a79785e3e, Feb 19 2021, 09:06:10) \n[Clang 6.0 (clang-600.0.57)]"
  },
  "vscode": {
   "interpreter": {
    "hash": "aee8b7b246df8f9039afb4144a1f6fd8d2ca17a180786b69acc140d282b71a49"
   }
  }
 },
 "nbformat": 4,
 "nbformat_minor": 2
}
