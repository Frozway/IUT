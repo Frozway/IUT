{
 "cells": [
  {
   "attachments": {},
   "cell_type": "markdown",
   "metadata": {},
   "source": [
    "# TP 3 : Implémentation de l'algorithme du pivot de Gauss\n",
    "\n",
    "La méthode du pivot de Gauss est une méthode générale de résolution d'un système linéaire de la forme $AX=B$ où $A$ est la matrice des coefficients et $B$ la colonne des seconds membres. \n",
    "\n",
    "Nous nous limiterons dans ce TP à la résolution des systèmes linéaires **carrés** (autant d'équations que d'inconnues) et admettant **une unique solution** : nous avons appris que cela signifie que la matrice $A$ est inversible. \n",
    "\n",
    "Ces systèmes sont appelés des **systèmes de Cramer**.\n",
    "\n",
    "\n",
    "Voici un exemple d'un tel système : \n",
    " \n",
    "$$\\left\\{ \\begin{aligned}\n",
    "x_1-x_2+2x_3+x_4& =1 \\\\\n",
    "2x_1-3x_2+5x_3+2x_4& =3 \\\\\n",
    "3x_1+2x_2+x_3+2x_4& =0 \\\\\n",
    "x_1+x_2-x_3-3x_4& =0\n",
    "\\end{aligned}\n",
    "\\right.  , \\quad \\text{ c'est-à-dire } \\quad \\underbrace{\\begin{pmatrix} 1&-1&2&1\\\\2&-3&5&2\\\\3&2&1&2\\\\1&1&-1&-3  \\end{pmatrix}}_{A} \\times  \\underbrace{\\begin{pmatrix} x_1\\\\x_2\\\\x_3\\\\x_4 \\end{pmatrix}}_{X} = \\underbrace{\\begin{pmatrix} 1\\\\3\\\\0\\\\0 \\end{pmatrix}}_{B} \\quad \\text{ qui admet l'unique solution } (-5,6,7,-2)$$\n",
    "\n",
    "\n",
    "Cette méthode repose sur l'application *d'opérations élémentaires sur les lignes* des matrices $A$ et $B$. \n",
    "\n",
    "Nous avons vu en effet qu'on ne modifie pas l'ensemble des solutions en appliquant les mêmes opérations élémentaires sur les lignes de $A$ et de $B$.\n",
    "\n",
    "Dans ce TP, comme au TP précédent, une matrice sera stockée comme un objet de type *liste* contenant les listes de ces lignes. \n",
    "\n",
    "----\n",
    "\n"
   ]
  },
  {
   "attachments": {},
   "cell_type": "markdown",
   "metadata": {},
   "source": [
    "#### Exercice 1 : Opérations élémentaires sur les lignes d'une matrice\n",
    "\n",
    "Pour implémenter l'algorithme du pivot de Gauss, nous avons besoin de programmer les trois fonctions correspond aux trois opérations élémentaires sur les lignes d'une matrice : \n",
    "\n",
    "1. la fonction `permLigne()` qui permute deux lignes d'une matrice ($L_i \\leftrightarrow L_j$)\n",
    "2. la fonction `multLigne()` qui multiplie tous les éléments d'une ligne par un nombre ($L_i \\leftarrow k L_i$)\n",
    "3. la fonction `addLigne()` qui ajoute à une ligne un multiple d'une autre ligne ($L_j \\leftarrow L_j + k  L_i$) "
   ]
  },
  {
   "cell_type": "code",
   "execution_count": 185,
   "metadata": {},
   "outputs": [],
   "source": [
    "# En entrée : A une liste de listes et i,j deux indices\n",
    "# Ne renvoie rien mais modifie la liste A en permutant ses listes d'indice i et j \n",
    "\n",
    "def permLigne(A,i,j):\n",
    "    # à compléter\n",
    "    A[i],A[j] = A[j],A[i]"
   ]
  },
  {
   "cell_type": "code",
   "execution_count": 186,
   "metadata": {},
   "outputs": [
    {
     "data": {
      "text/plain": [
       "[[3, 3, 3], [2, 2, 2], [1, 1, 1]]"
      ]
     },
     "execution_count": 186,
     "metadata": {},
     "output_type": "execute_result"
    }
   ],
   "source": [
    "# test de la fonction permLigne()\n",
    "A=[[1,1,1],[2,2,2],[3,3,3]]\n",
    "permLigne(A,0,2)\n",
    "A"
   ]
  },
  {
   "cell_type": "code",
   "execution_count": 187,
   "metadata": {},
   "outputs": [],
   "source": [
    "# En entrée : A une liste de listes, k un nombre et i un indice\n",
    "# Ne renvoie rien mais modifie la liste A en multipliant tous les éléments de sa liste i par k : Li <- k * Li\n",
    "\n",
    "def multLigne(A,k,i):\n",
    "    p=len(A[0])  # nombre de colonnes de A\n",
    "    for col in range(p):  # on itére sur les indices de colonnes de A\n",
    "        A[i][col] =  k * A[i][col]"
   ]
  },
  {
   "cell_type": "code",
   "execution_count": 188,
   "metadata": {},
   "outputs": [
    {
     "data": {
      "text/plain": [
       "[[-2, -2, -2], [2, 2, 2], [3, 3, 3]]"
      ]
     },
     "execution_count": 188,
     "metadata": {},
     "output_type": "execute_result"
    }
   ],
   "source": [
    "# test de la fonction multLigne()\n",
    "A=[[1,1,1],[2,2,2],[3,3,3]]\n",
    "multLigne(A,-2,0)\n",
    "A"
   ]
  },
  {
   "cell_type": "code",
   "execution_count": 189,
   "metadata": {},
   "outputs": [],
   "source": [
    "# En entrée : A une liste de listes, k un nombre et i,j deux indices\n",
    "# Ne renvoie rien mais modifie la liste A en ajoutant à sa liste i k-fois sa liste j  : Li <- Li + k * Lj \n",
    "\n",
    "def addLigne(A,k,i,j):\n",
    "    p=len(A[0])  # nombre de colonnes de A\n",
    "    for col in range(p): # On itère sur les indices de colonnes\n",
    "        A[i][col] = A[i][col] + k*A[j][col] "
   ]
  },
  {
   "cell_type": "code",
   "execution_count": 190,
   "metadata": {},
   "outputs": [
    {
     "data": {
      "text/plain": [
       "[[1, 1, 1], [0, 0, 0], [3, 3, 3]]"
      ]
     },
     "execution_count": 190,
     "metadata": {},
     "output_type": "execute_result"
    }
   ],
   "source": [
    "# test de fonction addLigne()\n",
    "A=[[1,1,1],[2,2,2],[3,3,3]]\n",
    "addLigne(A,-2,1,0)\n",
    "A"
   ]
  },
  {
   "attachments": {},
   "cell_type": "markdown",
   "metadata": {},
   "source": [
    "----\n",
    "\n",
    "La méthode du pvot de Gauss appliqué à un système de Cramer $AX=B$ comporte trois étapes : \n",
    "1. une premiere étape dite *de descente* qui consiste à transformer la matrice inversible $A$ en une matrice $A'$ triangulaire supérieure (avec éléments diagonaux non nuls) tout en effectuant les mêmes opérations sur $B$ : \n",
    "\n",
    "<img src=\"Etape1_descente.png\" width=\"300\">\n",
    "\n",
    "2. une deuxième étape dite *de remontée* qui consiste à transformer la matrice inversible $A'$ en une matrice $A''$ diagonale (avec éléments diagonaux non nuls) tout en effectuant les mêmes opérations sur B : \n",
    "\n",
    "<img src=\"Etape2_remontée.png\" width=\"300\">\n",
    "\n",
    "3. Une troisième étape de résolution du système linéaire, devenu trivial car diagonal. \n",
    "\n",
    "\n",
    "Vous trouverez dans le document `exempleGauss.pdf` l'appplication détaillée de cette méthode sur le système cité en exempple : \n",
    "\n",
    "$$\\left\\{ \\begin{aligned}\n",
    "x_1-x_2+2x_3+x_4& =1 \\\\\n",
    "2x_1-3x_2+5x_3+2x_4& =3 \\\\\n",
    "3x_1+2x_2+x_3+2x_4& =0 \\\\\n",
    "x_1+x_2-x_3-3x_4& =0\n",
    "\\end{aligned}\n",
    "\\right.  , \\quad \\text{ c'est-à-dire } \\quad \\underbrace{\\begin{pmatrix} 1&-1&2&1\\\\2&-3&5&2\\\\3&2&1&2\\\\1&1&-1&-3  \\end{pmatrix}}_{A} \\times  \\underbrace{\\begin{pmatrix} x_1\\\\x_2\\\\x_3\\\\x_4 \\end{pmatrix}}_{X} = \\underbrace{\\begin{pmatrix} 1\\\\3\\\\0\\\\0 \\end{pmatrix}}_{B} \\quad \\text{ qui admet l'unique solution } (-5,6,7,-2)$$\n",
    "----"
   ]
  },
  {
   "attachments": {},
   "cell_type": "markdown",
   "metadata": {},
   "source": [
    "\n",
    "#### Exercice 2  : Etape de descente\n",
    "\n",
    "Cette étape consiste à transformer progressivement la matrice $A$ par opérations élémentaires sur les lignes : \n",
    "$$ \\text{ à la $j$-ie itération :  \\quad } \n",
    "\\begin{pmatrix} \n",
    "a_{11} & a_{12} & \\cdots & \\cdots & \\cdots & a_{1n} \\\\\n",
    "0 & a_{22} & \\cdots & \\cdots & \\cdots & a_{2n} \\\\\n",
    "\\vdots & \\ddots & \\ddots &  &   & \\vdots \\\\\n",
    "0 & \\cdots & 0 & a_{jj} & \\cdots & a_{jn} \\\\\n",
    "\\vdots &   & \\vdots & \\vdots &  & \\vdots \\\\\n",
    "0 & \\vdots & 0 & a_{nj} & \\cdots & a_{nn} \\\\\n",
    " \\end{pmatrix}$$\n",
    " - on cherche un pivot non nul $a_{kj}$ parmi les éléments $a_{j,j} \\quad a_{j+1,j} \\quad \\cdots \\quad  a_{n,j}$ puis on permute les lignes $L_k$ et $L_j$\n",
    " - à l'issue de cette première étape, on est assuré que $a_{jj} \\neq 0$ : on l'utilise comme pivot pour remplacer tous les termes $a_{ij} $ pour $i>j$ par des zéros à l'aide de l'opération élémentaire : \n",
    " $$ \\forall i > j, \\quad L_i \\leftarrow L_i - \\dfrac{a_{ij}}{a_{jj}}L_j$$ \n",
    "\n",
    "\n",
    " Cela correspond à l'algorithme : \n",
    "```\n",
    "A la matrice des coefficients du système\n",
    "B la colonne des seconds membres\n",
    "n le nombre de ligne ou colonne de la matrice A\n",
    "\n",
    "Pour j variant de 1 à ????? : \n",
    "     Trouver k entre j et n tel que a_kj non nul (le pivot)\n",
    "     Permuter dans A et dans B les lignes Lk et Lj\n",
    "     pour i variant de ????? à n : \n",
    "       Remplacer la ligne Li par Li - (a_ij/a_jj)* Lj\n",
    "```"
   ]
  },
  {
   "attachments": {},
   "cell_type": "markdown",
   "metadata": {},
   "source": [
    "1. Créer une fonction `recherchePivot(A,j)` qui retourne l'indice de ligne du premier élément non nul parmi : \n",
    "$$a_{j,j} \\quad a_{j+1,j} \\quad \\cdots \\quad  a_{n,j}$$"
   ]
  },
  {
   "cell_type": "code",
   "execution_count": 191,
   "metadata": {},
   "outputs": [],
   "source": [
    "def recherchePivot(A,j):\n",
    "    indice=j\n",
    "    while A[indice][j] == 0:\n",
    "        indice +=1\n",
    "    return indice"
   ]
  },
  {
   "attachments": {},
   "cell_type": "markdown",
   "metadata": {},
   "source": [
    "2. Créer une fonction `descente(A,B)` qui réalise l'étape de descente de la méthode de Gauss sur le système $AX=B$"
   ]
  },
  {
   "cell_type": "code",
   "execution_count": 192,
   "metadata": {},
   "outputs": [],
   "source": [
    "def descente(A,B):\n",
    "    n=len(A)\n",
    "    for j in range(n-1):\n",
    "        i=recherchePivot(A,j) \n",
    "        permLigne(A,i,j)\n",
    "        permLigne(B,i,j)\n",
    "        for i in range(j+1,n):\n",
    "            k=-(A[i][j]/A[j][j])\n",
    "            addLigne(A,k,i,j)\n",
    "            addLigne(B,k,i,j)\n",
    "    # return A ,B        "
   ]
  },
  {
   "cell_type": "code",
   "execution_count": 193,
   "metadata": {},
   "outputs": [
    {
     "name": "stdout",
     "output_type": "stream",
     "text": [
      "[[1, -1, 2, 1], [0.0, -1.0, 1.0, 0.0], [0.0, 0.0, -1.0, -4.0], [0.0, 0.0, 0.0, -1.0]]\n",
      "[[1], [1.0], [1.0], [2.0]]\n"
     ]
    }
   ],
   "source": [
    "# test \n",
    "A=[[1,-1,2,1],[2,-3,5,2],[3,2,1,2],[1,1,-1,-3]]\n",
    "B=[[1],[3],[0],[0]]\n",
    "descente(A,B)\n",
    "print(A)\n",
    "print(B)"
   ]
  },
  {
   "attachments": {},
   "cell_type": "markdown",
   "metadata": {},
   "source": [
    "----\n",
    "#### Exercice 3  : Etape de remontée \n",
    "\n",
    "L'étape de remontée intervient lorsque la matrice $A$ est triangulaire supérieur, les coefficients de la diagonale étant non nuls. \n",
    "\n",
    "On transforme progressivement la matrice A de façon itérative, en partant de la dernière ligne et en daisant apparaitre les zéros au dessus de chaque pivot : \n",
    "\n",
    "$$ \\text{ à la $n-j$-ie itération :  \\quad } \n",
    "\\begin{pmatrix} \n",
    "a_{11} & \\cdots & a_{1j} & 0 & \\cdots & 0 \\\\\n",
    "0      & \\ddots & \\vdots & \\vdots &  & \\vdots \\\\\n",
    "\\vdots & \\ddots & a_{jj} & 0 &   & \\vdots \\\\\n",
    "0 & \\cdots & 0 & a_{j+1,j+1} & \\ddots & \\vdots \\\\\n",
    "\\vdots &   & \\vdots & \\ddots & \\ddots & 0 \\\\\n",
    "0 & \\cdots & 0 & \\cdots & 0 & a_{nn} \\\\\n",
    " \\end{pmatrix}$$\n",
    "\n",
    " à l'issue de cette première étape, on est assuré que $a_{jj} \\neq 0$ : on utilise le pivot $a_{jj}$ pour remplacer tous les termes $a_{ij} $ pour $i<j$ ($a_{1,j}, a_{2,j}, \\cdots, a_{j-1,j}$ ) par des zéros à l'aide de l'opération élémentaire : \n",
    " $$ \\forall i < j, \\quad L_i \\leftarrow L_i - \\dfrac{a_{ij}}{a_{jj}}L_j$$ \n",
    "\n",
    "\n",
    "\n",
    "\n",
    "La phase de diagonalisation correspond à l'algorithme suivant : \n",
    "\n",
    "```\n",
    "Pour j variant de n à ????? : \n",
    "     pour i variant de 1 à ???? : \n",
    "            Remplacer la ligne Li par Li - (a_ij/a_jj)* Lj\n",
    "```\n"
   ]
  },
  {
   "attachments": {},
   "cell_type": "markdown",
   "metadata": {},
   "source": [
    "Créer une fonction `remontee(A,B)` qui réalise l'étape de remontée de la méthode de Gauss sur les matrices A et B "
   ]
  },
  {
   "cell_type": "code",
   "execution_count": 194,
   "metadata": {},
   "outputs": [],
   "source": [
    "# à compléter\n",
    "def remontee(A,B):\n",
    "    n=len(A)\n",
    "    for j in range(n-1,0,-1):\n",
    "        for i in range(0,j):\n",
    "            k=-A[i][j]/A[j][j]\n",
    "            addLigne(A,k,i,j)\n",
    "            addLigne(B,k,i,j)\n",
    "    # return A ,B   "
   ]
  },
  {
   "cell_type": "code",
   "execution_count": 195,
   "metadata": {},
   "outputs": [
    {
     "name": "stdout",
     "output_type": "stream",
     "text": [
      "[[1.0, 0.0, 0.0, 0.0], [0.0, -1.0, 0.0, 0.0], [0.0, 0.0, -1.0, 0.0], [0.0, 0.0, 0.0, -1.0]]\n",
      "[[-5.0], [-6.0], [-7.0], [2.0]]\n"
     ]
    }
   ],
   "source": [
    "# test sur les matrices A et B après exécution de la fonction descente(A,B)\n",
    "A=[[1,-1,2,1],[2,-3,5,2],[3,2,1,2],[1,1,-1,-3]]\n",
    "B=[[1],[3],[0],[0]]\n",
    "descente(A,B)\n",
    "remontee(A,B)\n",
    "print(A)\n",
    "print(B)"
   ]
  },
  {
   "attachments": {},
   "cell_type": "markdown",
   "metadata": {},
   "source": [
    "-----\n",
    "#### Exercice 4  : Étape de résolution du système \n",
    "\n",
    "La troisème et dernière étape de la méthode consite à résoudre le système diagonal $AX=B$ obtenu après les deux étapes précédentes. "
   ]
  },
  {
   "attachments": {},
   "cell_type": "markdown",
   "metadata": {},
   "source": [
    "1. Écrire une fonction `solve_diagonal(A,B)`qui prend en arguments une matrice diagonale inversible $A$ et une matrice-colonne $B$ et qui retourne l'unique nuplet X solution de l'équation $AX=B$. "
   ]
  },
  {
   "cell_type": "code",
   "execution_count": 196,
   "metadata": {},
   "outputs": [],
   "source": [
    "def solve_diagonale(A,B):\n",
    "    n=len(A)\n",
    "    for i in range(n):\n",
    "        multLigne(A,1/A[i][i],i)\n",
    "        multLigne(B,1/A[i][i],i)\n",
    "    return A,B\n",
    "\n",
    "def solve_diagonale(A,B):\n",
    "    n=len(A)\n",
    "    for i in range(n):\n",
    "        multLigne(B,1/A[i][i],i)\n",
    "    return B"
   ]
  },
  {
   "cell_type": "code",
   "execution_count": 197,
   "metadata": {},
   "outputs": [
    {
     "data": {
      "text/plain": [
       "[[-5.0], [6.0], [7.0], [-2.0]]"
      ]
     },
     "execution_count": 197,
     "metadata": {},
     "output_type": "execute_result"
    }
   ],
   "source": [
    "# test \n",
    "A=[[1,-1,2,1],[2,-3,5,2],[3,2,1,2],[1,1,-1,-3]]\n",
    "B=[[1],[3],[0],[0]]\n",
    "descente(A,B)\n",
    "remontee(A,B)\n",
    "solve_diagonale(A,B)"
   ]
  },
  {
   "attachments": {},
   "cell_type": "markdown",
   "metadata": {},
   "source": [
    "2. En déduire une fonction `gauss(A,B)` qui reprend les trois étapes précédentes pour retourner l'unique solution d'un système de Cramer $AX+B$. "
   ]
  },
  {
   "cell_type": "code",
   "execution_count": 198,
   "metadata": {},
   "outputs": [],
   "source": [
    "def gauss(A,B):\n",
    "    # On travaille sur des copies des matrices A et B \n",
    "    # pour éviter de modifier physiquement ces dernières (méthode `.copy()`)\n",
    "    U=A.copy()\n",
    "    V=B.copy()\n",
    "    descente(U,V)\n",
    "    remontee(U,V)\n",
    "    return solve_diagonale(U,V)"
   ]
  },
  {
   "cell_type": "code",
   "execution_count": 199,
   "metadata": {},
   "outputs": [
    {
     "data": {
      "text/plain": [
       "[[-5.0], [6.0], [7.0], [-2.0]]"
      ]
     },
     "execution_count": 199,
     "metadata": {},
     "output_type": "execute_result"
    }
   ],
   "source": [
    "# test de la fonction Gauss : résultat attendu [1,1,1]\n",
    "A=[[1,-1,2,1],[2,-3,5,2],[3,2,1,2],[1,1,-1,-3]]\n",
    "B=[[1],[3],[0],[0]]\n",
    "gauss(A,B)"
   ]
  }
 ],
 "metadata": {
  "kernelspec": {
   "display_name": "Python 3",
   "language": "python",
   "name": "python3"
  },
  "language_info": {
   "codemirror_mode": {
    "name": "ipython",
    "version": 3
   },
   "file_extension": ".py",
   "mimetype": "text/x-python",
   "name": "python",
   "nbconvert_exporter": "python",
   "pygments_lexer": "ipython3",
   "version": "3.10.9 (tags/v3.10.9:1dd9be6, Dec  6 2022, 20:01:21) [MSC v.1934 64 bit (AMD64)]"
  },
  "vscode": {
   "interpreter": {
    "hash": "4523d3d58704349221ba7cc51a2c581255e88878dfb57512e4b577bee3932e33"
   }
  }
 },
 "nbformat": 4,
 "nbformat_minor": 2
}
