{
 "cells": [
  {
   "attachments": {},
   "cell_type": "markdown",
   "metadata": {},
   "source": [
    "# TP 1 semaine 50"
   ]
  },
  {
   "attachments": {},
   "cell_type": "markdown",
   "metadata": {},
   "source": [
    "## Partie 2 : Algorithmes d'évaluation d'un polynôme\n",
    "___\n"
   ]
  },
  {
   "attachments": {},
   "cell_type": "markdown",
   "metadata": {},
   "source": [
    "### **1. Représentation des polynômes avec Python**\n",
    "\n",
    "On rappelle la forme générale d'un polynôme de degré $n$ : \n",
    "$$ P(x)=a_n x^n + a_{n-1} x^{n-1} + \\cdots + a_2 x^2 +a_1 x + a_0 $$\n",
    "où les réels $a_0,a_1,\\cdots,a_n$ sont les **coefficients** du polynômes et $a_n \\neq 0$\n",
    "\n",
    "**Avec Python, Le type Polynome n’existe pas. On choisira de définir un polynôme par un objet de type *list* contenant ses coefficients :**  \n",
    "\n",
    "```> [a0,a1,...,an]```\n",
    "\n",
    "Attention à l'ordre des coefficients dans cette liste : \n",
    "- L'élément d'index $0$ de la liste sera le coefficient $a_0$. \n",
    "- L'élément d'index $1$ de la liste sera le coefficient $a_1$.\n",
    "- ...\n",
    "- L'élément d'index $n$ de la liste sera le coefficient $a_n$.\n",
    "\n",
    "\n"
   ]
  },
  {
   "attachments": {},
   "cell_type": "markdown",
   "metadata": {
    "tags": [
     "Question"
    ]
   },
   "source": [
    "**Question 1**  : \n",
    "\n",
    "\n",
    "Construire la liste P correspondant au polynôme  : $ P(x)=x^5 -x^4+2x^3+3x-4$\n",
    " "
   ]
  },
  {
   "cell_type": "code",
   "execution_count": 18,
   "metadata": {},
   "outputs": [],
   "source": [
    "# réponse\n",
    "P=[-4, 3, 0, 2, -1, 1]\n"
   ]
  },
  {
   "attachments": {},
   "cell_type": "markdown",
   "metadata": {
    "tags": [
     "Question"
    ]
   },
   "source": [
    "**Question 2** :\n",
    "Par quelle commande recupérer le degré du polynôme à partir de la liste P de ses coefficients ?"
   ]
  },
  {
   "cell_type": "code",
   "execution_count": 19,
   "metadata": {},
   "outputs": [
    {
     "name": "stdout",
     "output_type": "stream",
     "text": [
      "Polynôme de degré 6\n"
     ]
    }
   ],
   "source": [
    "# réponse\n",
    "print('Polynôme de degré', len(P))\n"
   ]
  },
  {
   "attachments": {},
   "cell_type": "markdown",
   "metadata": {},
   "source": [
    "### **2. Evaluation d'un polynôme en une valeur de x**\n",
    "*Problème :*\n",
    "Soit $P(x)=a_nx^n+ \\cdots + a_2x^2+a_1 x + a_0$ un polynôme de degré $n$.\n",
    "\n",
    "L'objectif est de comparer plusieurs algorithmes de calcul du nombre $P(x)$ pour une valeur de $x$ donnée."
   ]
  },
  {
   "attachments": {},
   "cell_type": "markdown",
   "metadata": {},
   "source": [
    "**Question 3** :\n",
    "\n",
    "A partir du travail réalisé en TD, écrire les trois fonctions : \n",
    "- `Evaluer1()`\n",
    "- `Evaluer2()` \n",
    "- `Evaluer3()`\n",
    "\n",
    "correspondant aux trois versions de l'algorithme \"classique\" qui consiste à calculer, de façon itérative, la somme \n",
    "$$ P(x)=a_n x^n+ \\cdots + a_2x^2+a_1 x + a_0 $$ \n",
    "\n",
    "Les entrées des fonctions seront : \n",
    "- la liste P des coefficients du polynôme\n",
    "- la valeur x\n",
    "\n",
    "Vous testerez vos fonctions pour l'évaluation du polyôme $P(x)=x^5 -x^4+2x^3+3x-4$ (cf question 1) en $x=9$.\n",
    "\n",
    "Le résultat attendu est  $P(9)=53969 $."
   ]
  },
  {
   "cell_type": "code",
   "execution_count": 20,
   "metadata": {},
   "outputs": [],
   "source": [
    "# définition de la fonction \n",
    "# version 1 : avec utilisation de l'opérateur \"double étoile\" \n",
    "# de Python pour les puissances x^i : \n",
    "def Evaluer1 (P,x) :\n",
    "    #Retrouver le degré\n",
    "    n = len(P) - 1 \n",
    "    Result = P[0]\n",
    "    for i in range (1, n+1) :\n",
    "        Result = Result + P[i] * x**i\n",
    "    return Result\n",
    "\n"
   ]
  },
  {
   "cell_type": "code",
   "execution_count": 21,
   "metadata": {},
   "outputs": [
    {
     "data": {
      "text/plain": [
       "53969"
      ]
     },
     "execution_count": 21,
     "metadata": {},
     "output_type": "execute_result"
    }
   ],
   "source": [
    "# test de la fonction\n",
    "x=9\n",
    "Evaluer1(P, x)\n"
   ]
  },
  {
   "cell_type": "code",
   "execution_count": 26,
   "metadata": {},
   "outputs": [],
   "source": [
    "# définition de la fonction \n",
    "# version 2 : en construisant à chaque itération \n",
    "# la puissance i de x par : x^i = x*x*x*...*x\n",
    "def Evaluer2 (P,x) :\n",
    "    n = len(P) - 1\n",
    "    puissance = 1\n",
    "    result = P[0]\n",
    "    for i in range (1, n+1) :\n",
    "        puissance = puissance * x\n",
    "        result = result + P[i] * puissance \n",
    "    return result \n",
    "    "
   ]
  },
  {
   "cell_type": "code",
   "execution_count": 27,
   "metadata": {},
   "outputs": [
    {
     "data": {
      "text/plain": [
       "53969"
      ]
     },
     "execution_count": 27,
     "metadata": {},
     "output_type": "execute_result"
    }
   ],
   "source": [
    "# test de la fonction\n",
    "x=9\n",
    "Evaluer2(P, x)"
   ]
  },
  {
   "cell_type": "code",
   "execution_count": null,
   "metadata": {},
   "outputs": [],
   "source": [
    "# définition de la fonction \n",
    "# version 3 : en construisant à chaque itération \n",
    "# la puisssance i de x par la formule de récurrence : x^i = x^(i-1) * x\n",
    "def Evaluer3 (P,x) :\n",
    "    \n"
   ]
  },
  {
   "cell_type": "code",
   "execution_count": null,
   "metadata": {},
   "outputs": [],
   "source": [
    "# test de la fonction\n"
   ]
  },
  {
   "attachments": {},
   "cell_type": "markdown",
   "metadata": {},
   "source": [
    "**Question 4** : Écrire la fonction `Horner()` permettant d'évaluer un polynôme en une valeur par l'algorithme de Horner\n",
    "\n",
    "Les entrées de la fonction seront : \n",
    "- la liste P des coefficients du polynôme\n",
    "- la valeur x\n",
    "\n",
    "Vous testerez la fonction pour l'évaluation du polyôme $ P(x)=x^5 -x^4+2x^3+3x-4$ (cf question1) en $x=9$.\n",
    "\n",
    "Le résultat attendu est  $P(9)=53969 $."
   ]
  },
  {
   "cell_type": "code",
   "execution_count": null,
   "metadata": {},
   "outputs": [],
   "source": [
    "# définition de la fonction \n",
    "def horner(P,x):\n",
    "    "
   ]
  },
  {
   "cell_type": "code",
   "execution_count": null,
   "metadata": {},
   "outputs": [],
   "source": [
    "# test de la fonction\n"
   ]
  },
  {
   "attachments": {},
   "cell_type": "markdown",
   "metadata": {},
   "source": [
    "### **3. Comparaison des algorithmes en fonction de leur complexité**"
   ]
  },
  {
   "attachments": {},
   "cell_type": "markdown",
   "metadata": {},
   "source": [
    "La fonction `av_time()`suivante retourne les temps d'exécution d'une fonction d'évaluation `func(P,x)` pour des polynômes aléatoires de degré croissant : de 1 à `degreMax`. \n",
    "\n",
    "Pour chaque polynôme, l'évaluation sera répété plusieurs fois (`nbEssais`) avec des valeurs de x aléatoires entre 0 et 100. C'est le temps moyen qui sera retourné. "
   ]
  },
  {
   "attachments": {},
   "cell_type": "markdown",
   "metadata": {},
   "source": [
    "**Question 5** : comprendre et exécuter les cellules de code suivantes"
   ]
  },
  {
   "cell_type": "code",
   "execution_count": null,
   "metadata": {},
   "outputs": [],
   "source": [
    "from random import randint\n",
    "import time \n",
    "\n",
    "def av_time(func,degreMax,nbEssais):\n",
    "    result=list()   # ou result = []  \n",
    "    \n",
    "    somme=0.0\n",
    "\n",
    "    for j in range(1,degreMax+1):   # j allant de 1 à degreMax\n",
    "        # on génére un polynôme aléatoire de degré j de coefficients entiers entre 1 et 100\n",
    "        # en générant une liste aléatoire de j+1 entiers\n",
    "        P=[randint(1,100) for i in range(j+1)]  \n",
    "        somme=0.0\n",
    "\n",
    "        # on réalise nbEssais calculs d'évaluation de P(x) pour des valeurs de x aléatoires\n",
    "        for k in range(1,nbEssais+1):  # nbEssais itérations\n",
    "            x=randint(0,100) # génére une valeur de x aléatoire entre 0 et 100\n",
    "            t=time.perf_counter_ns()  # declenche le compteur\n",
    "            func(P,x)  # évalue P(x)\n",
    "            somme+=(time.perf_counter_ns()-t) # cumule les temps d'exécution\n",
    "\n",
    "        result.append(somme/nbEssais) # ajoute à la liste le temps d'exécution moyen pour le polynôme degré j\n",
    "\n",
    "    return result"
   ]
  },
  {
   "cell_type": "code",
   "execution_count": null,
   "metadata": {},
   "outputs": [],
   "source": [
    "degreMax = 10\n",
    "nbEssais = 1000\n",
    "ll1=av_time(Evaluer1,degreMax,nbEssais)\n",
    "ll2=av_time(Evaluer2,degreMax,nbEssais)\n",
    "ll3=av_time(Evaluer3,degreMax,nbEssais)\n",
    "ll4=av_time(horner,degreMax,nbEssais)"
   ]
  },
  {
   "cell_type": "code",
   "execution_count": null,
   "metadata": {},
   "outputs": [],
   "source": [
    "# Pour la suite, nous allons utiliser le module matplotlib pour tracer les courbes\n",
    "# Il est necessaire l'installer ce module avec les deux commandes suivantes : \n",
    "# vous devrez redémarrer le noyau après chaque commande \n",
    "# (menu \"Rédémarrer\" ou \"Restart\" dans la barre de menu en haut)"
   ]
  },
  {
   "cell_type": "code",
   "execution_count": null,
   "metadata": {},
   "outputs": [],
   "source": [
    "pip install --upgrade pip"
   ]
  },
  {
   "cell_type": "code",
   "execution_count": null,
   "metadata": {},
   "outputs": [],
   "source": [
    "pip install matplotlib"
   ]
  },
  {
   "cell_type": "code",
   "execution_count": null,
   "metadata": {},
   "outputs": [],
   "source": [
    "import matplotlib.pyplot as plt\n",
    "\n",
    "leX=[i for i in range(1,degreMax+1)]   # liste des abscisses (degrés)\n",
    "leY1=ll1  # liste des ordonnées pour la courbe 1 (temps moyen d'exécution)\n",
    "leY2=ll2\n",
    "leY3=ll3\n",
    "leY4=ll4\n",
    "plt.plot(leX, leY1,label='Algo classique, version 1',color='blue')  # Evaluer1\n",
    "plt.plot(leX, leY2,label='Algo classique, version 2',color='green') # Evaluer\n",
    "plt.plot(leX, leY3,label='Algo classique, version 3',color='yellow') # Evaluer3\n",
    "plt.plot(leX, leY4,label='Algo Horner',color='black') # Horner\n",
    "plt.legend()\n",
    "plt.show()"
   ]
  },
  {
   "attachments": {},
   "cell_type": "markdown",
   "metadata": {},
   "source": [
    "### **4. Autres fonctions sur les polynômes**"
   ]
  },
  {
   "attachments": {},
   "cell_type": "markdown",
   "metadata": {},
   "source": [
    "**Question 6** : \n",
    "\n",
    "On rappelle que la dérivée du monôme $a x^n$ est $n a x^{n-1}$ et que la dérivée de $f(x)+g(x)$ est $f’(x)+g’(x)$.\n",
    "\n",
    "Ecrire la fonction `derivation(P)`qui, à partir de la liste des coefficients d'un polynôme P, retourne la liste de coefficients du polynôme dérivé P'. "
   ]
  },
  {
   "cell_type": "code",
   "execution_count": null,
   "metadata": {},
   "outputs": [],
   "source": [
    "def derivation(P):\n",
    "    "
   ]
  },
  {
   "cell_type": "code",
   "execution_count": null,
   "metadata": {},
   "outputs": [],
   "source": [
    "# test de la fonction avec le polynôme P de la question 1\n",
    "# résultat attendu : derivation(P)=[3,0,6,-4,5]\n"
   ]
  },
  {
   "attachments": {},
   "cell_type": "markdown",
   "metadata": {},
   "source": [
    "**Question 7** : \n",
    "\n",
    "Ecrire la fonction `addition(P,Q)` qui, à partir des listes des coefficients de deux polynômes P et Q quelconques, retourne la liste de coefficients du polynôme somme P+Q. "
   ]
  },
  {
   "cell_type": "code",
   "execution_count": null,
   "metadata": {},
   "outputs": [],
   "source": [
    "def addition(P,Q):\n",
    "    "
   ]
  },
  {
   "cell_type": "code",
   "execution_count": 1,
   "metadata": {},
   "outputs": [],
   "source": [
    "# test de la fonction dans les deux cas : \n",
    "# Cas 1 : deux polynômes de degrés différents\n",
    "# Cas 2 : deux polynômes de même degrés"
   ]
  }
 ],
 "metadata": {
  "kernelspec": {
   "display_name": "Python 3.10.5 64-bit",
   "language": "python",
   "name": "python3"
  },
  "language_info": {
   "codemirror_mode": {
    "name": "ipython",
    "version": 3
   },
   "file_extension": ".py",
   "mimetype": "text/x-python",
   "name": "python",
   "nbconvert_exporter": "python",
   "pygments_lexer": "ipython3",
   "version": "3.10.5"
  },
  "vscode": {
   "interpreter": {
    "hash": "369f2c481f4da34e4445cda3fffd2e751bd1c4d706f27375911949ba6bb62e1c"
   }
  }
 },
 "nbformat": 4,
 "nbformat_minor": 2
}
