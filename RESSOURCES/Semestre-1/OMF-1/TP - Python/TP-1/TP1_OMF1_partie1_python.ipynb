{
 "cells": [
  {
   "cell_type": "markdown",
   "metadata": {},
   "source": [
    "# TP 1 semaine 50\n",
    "\n",
    "## Partie 1 : Introduction à Python\n",
    "___"
   ]
  },
  {
   "cell_type": "markdown",
   "metadata": {},
   "source": [
    "### **1. Pourquoi Python**"
   ]
  },
  {
   "cell_type": "markdown",
   "metadata": {},
   "source": [
    "#### *Pourquoi Python : les bons cotés*\n",
    "* Multi-plateforme\n",
    "* Multi-paradigmes (script, procédural, objet, fonctionnel)\n",
    "* Freeware et open source\n",
    "* Langage très simple et très lisible\n",
    "* Est bien documenté et facile à documenter\n",
    "* Python est “batteries included” \n",
    "    * il existe de nombreuses bibliothèques\n",
    "    * actuellement 174768 packages ! (https://pypi.org/)\n",
    "* Peut être étendu facilement"
   ]
  },
  {
   "cell_type": "markdown",
   "metadata": {},
   "source": [
    "#### *Pourquoi Python : les mauvais cotés*\n",
    "\n",
    "* C'est un langage interprété... et donc pas très rapide !\n",
    "* Il est typé dynamiquement pas statiquement\n",
    "    - pas d'optimisation liées aux types\n",
    "    - moins de lisibilité"
   ]
  },
  {
   "attachments": {},
   "cell_type": "markdown",
   "metadata": {},
   "source": [
    "#### *Le classique petit historique...*\n",
    "\n",
    "- Python a été créé par Guido van Rossum en 1989 et nommé de la sorte en hommage aux Monthy Pythons\n",
    "- A l’origine l’idée était de développer un **langage de scripts** inspiré d’ABC\n",
    "- En février 1991 sort la première version publique, numérotée 0.9.0 (plus vieux que Java !) \n",
    "\n",
    "---"
   ]
  },
  {
   "attachments": {},
   "cell_type": "markdown",
   "metadata": {},
   "source": [
    "### **2. Les variables**\n",
    "L’instruction d’affectation, comme dans la plupart des autres langages, est le signe =. L’accès à une variable non utilisée produit une erreur. "
   ]
  },
  {
   "cell_type": "code",
   "execution_count": 1,
   "metadata": {},
   "outputs": [],
   "source": [
    "a = 3\n",
    "b = 4"
   ]
  },
  {
   "cell_type": "markdown",
   "metadata": {},
   "source": [
    "Dans l’interpréteur l’évaluation d’une variable retourne sa propre valeur :"
   ]
  },
  {
   "cell_type": "code",
   "execution_count": 2,
   "metadata": {},
   "outputs": [
    {
     "data": {
      "text/plain": [
       "3"
      ]
     },
     "execution_count": 2,
     "metadata": {},
     "output_type": "execute_result"
    }
   ],
   "source": [
    "a"
   ]
  },
  {
   "attachments": {},
   "cell_type": "markdown",
   "metadata": {},
   "source": [
    "L’instruction ci-dessous produit un résultat similaire, mais le mécanisme est différent. `print()` retourne une chaîne de caractère, et c’est cette chaîne de caractère qui est évaluée :"
   ]
  },
  {
   "cell_type": "code",
   "execution_count": 3,
   "metadata": {},
   "outputs": [
    {
     "name": "stdout",
     "output_type": "stream",
     "text": [
      "3\n"
     ]
    }
   ],
   "source": [
    "print(a)"
   ]
  },
  {
   "attachments": {},
   "cell_type": "markdown",
   "metadata": {},
   "source": [
    "\n",
    "En Python il n'est pas necessaire de déclarer le type des objets manipulés. Python utilise un mécanisme \"d'inférence de type\".\n",
    "\n",
    "`type()` retourne le type de l’objet passé en argument.\n",
    "\n",
    "En Python, il n’y a pas de phase de compilation. Le type des variables n’est pas défini de façon statique. Une même variable peut donc faire référence à des objets différents au cours de l’exécution d’un programme. \n",
    "\n",
    "On dit que Python est un langage fortement typé (une variable possède toujours un type objet) et un langage typé dynamiquement (le type affecté à une variable peut changer au cours de l’exécution du programme)."
   ]
  },
  {
   "cell_type": "code",
   "execution_count": 4,
   "metadata": {},
   "outputs": [
    {
     "data": {
      "text/plain": [
       "int"
      ]
     },
     "execution_count": 4,
     "metadata": {},
     "output_type": "execute_result"
    }
   ],
   "source": [
    "a = 3\n",
    "type(a)"
   ]
  },
  {
   "cell_type": "code",
   "execution_count": 5,
   "metadata": {},
   "outputs": [
    {
     "data": {
      "text/plain": [
       "str"
      ]
     },
     "execution_count": 5,
     "metadata": {},
     "output_type": "execute_result"
    }
   ],
   "source": [
    "a = 'Hello'\n",
    "type(a)"
   ]
  },
  {
   "attachments": {},
   "cell_type": "markdown",
   "metadata": {},
   "source": [
    "---"
   ]
  },
  {
   "attachments": {},
   "cell_type": "markdown",
   "metadata": {},
   "source": [
    "### **3. Les types de base**"
   ]
  },
  {
   "attachments": {},
   "cell_type": "markdown",
   "metadata": {},
   "source": [
    "#### 3.1. *Les Booléens*\n",
    "\n",
    "Le type *Bool* correspond aux deux valeurs *True* et *False*"
   ]
  },
  {
   "cell_type": "code",
   "execution_count": 7,
   "metadata": {},
   "outputs": [
    {
     "data": {
      "text/plain": [
       "bool"
      ]
     },
     "execution_count": 7,
     "metadata": {},
     "output_type": "execute_result"
    }
   ],
   "source": [
    "type(True)"
   ]
  },
  {
   "cell_type": "code",
   "execution_count": 8,
   "metadata": {},
   "outputs": [
    {
     "name": "stdout",
     "output_type": "stream",
     "text": [
      "False\n",
      "False\n",
      "True\n"
     ]
    }
   ],
   "source": [
    "print(not True)\n",
    "print(True and False)\n",
    "print(True or False)"
   ]
  },
  {
   "attachments": {},
   "cell_type": "markdown",
   "metadata": {},
   "source": [
    "Une expression booléenne est un objet de type booléen, qui ne prend donc que les valeurs True et False. \n",
    "Les opérateurs de comparaison sont == ,  != , > , >= , < et <=, is, is not"
   ]
  },
  {
   "cell_type": "code",
   "execution_count": 9,
   "metadata": {},
   "outputs": [
    {
     "name": "stdout",
     "output_type": "stream",
     "text": [
      "True\n",
      "False\n"
     ]
    }
   ],
   "source": [
    "print(10>2)\n",
    "print(10+2 == 13)"
   ]
  },
  {
   "attachments": {},
   "cell_type": "markdown",
   "metadata": {
    "tags": [
     "Question"
    ]
   },
   "source": [
    "**Question 1** :  Vérifier les lois de De Morgan : \n",
    "> $\\overline{A \\wedge B} \\leftrightarrow \\overline{A} \\vee \\overline{B}$\n",
    "\n",
    "> $\\overline{A \\vee B} \\leftrightarrow \\overline{A} \\wedge \\overline{B}$"
   ]
  },
  {
   "cell_type": "code",
   "execution_count": 12,
   "metadata": {},
   "outputs": [
    {
     "data": {
      "text/plain": [
       "True"
      ]
     },
     "execution_count": 12,
     "metadata": {},
     "output_type": "execute_result"
    }
   ],
   "source": [
    "not(True and False) == (not True) or (not False)"
   ]
  },
  {
   "attachments": {},
   "cell_type": "markdown",
   "metadata": {},
   "source": [
    "#### 3.2. *Les Entiers (int)* "
   ]
  },
  {
   "attachments": {},
   "cell_type": "markdown",
   "metadata": {},
   "source": [
    "Python permet de manipuler trois types numériques : les entiers (type int), les réels (type float) et les complexes (complex). \n",
    "\n",
    "Pour les entiers, on distingue les entiers courts, codés sur 32 bits et permettant de représenter toutes les valeurs entre 0 et 65535 ( ou entre -32768 et 32767 pour les entiers relatifs $\\mathbb{Z}$) des entiers longs (codés différemment) permettant de représenter n'importe quel nombre tant qu'il y a de la mémoire disponible. "
   ]
  },
  {
   "cell_type": "code",
   "execution_count": 13,
   "metadata": {},
   "outputs": [
    {
     "data": {
      "text/plain": [
       "int"
      ]
     },
     "execution_count": 13,
     "metadata": {},
     "output_type": "execute_result"
    }
   ],
   "source": [
    "type(10)"
   ]
  },
  {
   "cell_type": "markdown",
   "metadata": {},
   "source": [
    "Quelques opérations sur les entiers :"
   ]
  },
  {
   "cell_type": "code",
   "execution_count": 14,
   "metadata": {},
   "outputs": [
    {
     "data": {
      "text/plain": [
       "2"
      ]
     },
     "execution_count": 14,
     "metadata": {},
     "output_type": "execute_result"
    }
   ],
   "source": [
    "7//3 #Division entière "
   ]
  },
  {
   "cell_type": "code",
   "execution_count": 15,
   "metadata": {},
   "outputs": [
    {
     "data": {
      "text/plain": [
       "1"
      ]
     },
     "execution_count": 15,
     "metadata": {},
     "output_type": "execute_result"
    }
   ],
   "source": [
    "7%3 #Reste de la division entière (ou modulo)"
   ]
  },
  {
   "cell_type": "code",
   "execution_count": 16,
   "metadata": {},
   "outputs": [
    {
     "name": "stdout",
     "output_type": "stream",
     "text": [
      "2\n",
      "<class 'int'>\n",
      "2.3333333333333335\n",
      "<class 'float'>\n"
     ]
    }
   ],
   "source": [
    "print(7//3)\n",
    "print (type(7//3))\n",
    "print(7/3)\n",
    "print (type (7/3))"
   ]
  },
  {
   "attachments": {},
   "cell_type": "markdown",
   "metadata": {},
   "source": [
    "#### 3.3. *Les nombres flottants (float)* "
   ]
  },
  {
   "attachments": {},
   "cell_type": "markdown",
   "metadata": {},
   "source": [
    "Les nombres flottants forme un sous ensemble des nombres réels $\\mathbb{R}$ qui peuvent être représentés par un ordinateur.\n",
    "\n",
    "Ce sont tous les nombres qui peuvent s'exprimer sous la forme : $s*m*2^e$ (voir norme IEEE754)\n",
    "Avec :\n",
    " - $s=1$ ou $-1$ (bit de signe)\n",
    " - $m$ la mantisse\n",
    " - $e$ l'exposant (qui peut être positif ou négatif - mot sur n bits décalé d'une valeur constante)\n",
    "\n",
    " Généralement en Python \n",
    " - $s$ est codé sur 1 bit (0, positif; 1, négatif)\n",
    " - $m$ sur 53 bits dont 1 implicite (on commence toujours par un 1)\n",
    " - $e=exposant-décalage$ sur 11 bits (-1022 à +1023)\n",
    "\n",
    "soit 64 bits au total = 4 octets (mais, selon la machine cela peut aller jusqu'à 128 ou 256 bits...)"
   ]
  },
  {
   "attachments": {},
   "cell_type": "markdown",
   "metadata": {
    "tags": [
     "Question"
    ]
   },
   "source": [
    "**Question 2** : avec quelle précision peut-on représenter un nombre en python ?"
   ]
  },
  {
   "attachments": {},
   "cell_type": "markdown",
   "metadata": {},
   "source": [
    "Réponse : Avec une précision de 16 chiffres après la virgule"
   ]
  },
  {
   "attachments": {},
   "cell_type": "markdown",
   "metadata": {},
   "source": [
    "Lorsque plusieurs types différents sont mis en jeu, les opérations mathématiques standard retournent le résultat dans le type qui conserve la précision. Une opération mélant un int et un float retournera un float:"
   ]
  },
  {
   "cell_type": "code",
   "execution_count": 17,
   "metadata": {},
   "outputs": [
    {
     "data": {
      "text/plain": [
       "float"
      ]
     },
     "execution_count": 17,
     "metadata": {},
     "output_type": "execute_result"
    }
   ],
   "source": [
    "type(1+2.0)"
   ]
  },
  {
   "cell_type": "markdown",
   "metadata": {},
   "source": [
    "Certains nombres réels (par exemple 1/10) ne peuvent pas être représentés en utilisant des puissances de 2 et ne peuvent donc pas être codés en flottant à moins d'une approximation. Par défaut l'affichage arrondi les nombres. "
   ]
  },
  {
   "cell_type": "code",
   "execution_count": 18,
   "metadata": {},
   "outputs": [
    {
     "data": {
      "text/plain": [
       "0.1"
      ]
     },
     "execution_count": 18,
     "metadata": {},
     "output_type": "execute_result"
    }
   ],
   "source": [
    "1/10\n",
    "# en réalité 0.1000000000000000055511151231257827021181583404541015625"
   ]
  },
  {
   "attachments": {},
   "cell_type": "markdown",
   "metadata": {},
   "source": [
    "#### 3.4. *Le type néant (None)* "
   ]
  },
  {
   "attachments": {},
   "cell_type": "markdown",
   "metadata": {},
   "source": [
    "\n",
    "C'est le type qui correspond à un objet nul !\n",
    " \n",
    "Il n'existe qu'un élement de ce type\n"
   ]
  },
  {
   "attachments": {},
   "cell_type": "markdown",
   "metadata": {},
   "source": [
    "#### 3.5. *Les chaines de caractères (str)* "
   ]
  },
  {
   "attachments": {},
   "cell_type": "markdown",
   "metadata": {},
   "source": [
    "Sous Python, une donnée de type __str__ est une suite quelconque de caractères délimitée soit par des apostrophes (simple quotes), soit par des guillemets (double quotes)."
   ]
  },
  {
   "cell_type": "code",
   "execution_count": 19,
   "metadata": {},
   "outputs": [
    {
     "name": "stdout",
     "output_type": "stream",
     "text": [
      "<class 'str'>\n",
      "Bonjour\n",
      "r\n",
      "a\n"
     ]
    }
   ],
   "source": [
    "a='Bonjour'   # typage implicite\n",
    "print(type(a))\n",
    "print(a)\n",
    "print(a[6])  # On accède aux éléments de la chaine par leur index respectif\n",
    "print(\"a\")"
   ]
  },
  {
   "cell_type": "code",
   "execution_count": 20,
   "metadata": {},
   "outputs": [
    {
     "data": {
      "text/plain": [
       "'1'"
      ]
     },
     "execution_count": 20,
     "metadata": {},
     "output_type": "execute_result"
    }
   ],
   "source": [
    "b=str(1)  # typage explicite\n",
    "type(b)\n",
    "b"
   ]
  },
  {
   "cell_type": "code",
   "execution_count": 21,
   "metadata": {},
   "outputs": [
    {
     "data": {
      "text/plain": [
       "'Bonjour-et-Bonsoir'"
      ]
     },
     "execution_count": 21,
     "metadata": {},
     "output_type": "execute_result"
    }
   ],
   "source": [
    "a+'-et-'+'Bonsoir' # Concaténation de chaines"
   ]
  },
  {
   "attachments": {},
   "cell_type": "markdown",
   "metadata": {
    "tags": [
     "Question"
    ]
   },
   "source": [
    "**Question 3** : expliquer l'erreur générée par la ligne suivante :"
   ]
  },
  {
   "cell_type": "code",
   "execution_count": 22,
   "metadata": {},
   "outputs": [
    {
     "ename": "TypeError",
     "evalue": "can only concatenate str (not \"int\") to str",
     "output_type": "error",
     "traceback": [
      "\u001b[1;31m---------------------------------------------------------------------------\u001b[0m",
      "\u001b[1;31mTypeError\u001b[0m                                 Traceback (most recent call last)",
      "Cell \u001b[1;32mIn[22], line 1\u001b[0m\n\u001b[1;32m----> 1\u001b[0m \u001b[43ma\u001b[49m\u001b[38;5;241;43m+\u001b[39;49m\u001b[38;5;241;43m10\u001b[39;49m\u001b[38;5;241m+\u001b[39m\u001b[38;5;124m'\u001b[39m\u001b[38;5;124mBonsoir\u001b[39m\u001b[38;5;124m'\u001b[39m\n",
      "\u001b[1;31mTypeError\u001b[0m: can only concatenate str (not \"int\") to str"
     ]
    }
   ],
   "source": [
    "a+10+'Bonsoir'"
   ]
  },
  {
   "attachments": {},
   "cell_type": "markdown",
   "metadata": {},
   "source": [
    "Réponse : On ne peut pas concaténer/additionner 2 valeurs d'un type différent (Ici 'a' et 'bonsoir' sont des str tandis que 10 est un 'int')"
   ]
  },
  {
   "attachments": {},
   "cell_type": "markdown",
   "metadata": {},
   "source": [
    "#### 3.6. *Les conversions* "
   ]
  },
  {
   "attachments": {},
   "cell_type": "markdown",
   "metadata": {},
   "source": [
    "Tous les types précédents peuvent interagir ensemble à l'aide des fonctions de conversion de type : str(), int(), float() ..."
   ]
  },
  {
   "attachments": {},
   "cell_type": "markdown",
   "metadata": {
    "tags": [
     "Question"
    ]
   },
   "source": [
    "**Question 4** : Corriger l'erreur de la ligne de code précédente"
   ]
  },
  {
   "cell_type": "code",
   "execution_count": 23,
   "metadata": {},
   "outputs": [
    {
     "data": {
      "text/plain": [
       "'Bonjour10Bonsoir'"
      ]
     },
     "execution_count": 23,
     "metadata": {},
     "output_type": "execute_result"
    }
   ],
   "source": [
    "a+str(10)+'Bonsoir'"
   ]
  },
  {
   "attachments": {},
   "cell_type": "markdown",
   "metadata": {},
   "source": [
    "---"
   ]
  },
  {
   "attachments": {},
   "cell_type": "markdown",
   "metadata": {},
   "source": [
    "### **4. Structures de code**"
   ]
  },
  {
   "attachments": {},
   "cell_type": "markdown",
   "metadata": {},
   "source": [
    "#### 4.1 Les tests"
   ]
  },
  {
   "attachments": {},
   "cell_type": "markdown",
   "metadata": {},
   "source": [
    "L’instruction <code>**if**</code> est la structure de test la plus simple. Sa syntaxe en Python fait intervenir la notion de **bloc**.<br>\n",
    " \n",
    "**Bloc d’instructions - Indentation**\n",
    "\n",
    "Un bloc est défini par une _indentation_ obtenue en décalant le début des instructions vers la droite d'une tabulation (4 espaces). \n",
    "\n",
    "Un bloc peut contenir une ou plusieurs instructions, et notamment des instructions composées (tests, boucles, etc.)."
   ]
  },
  {
   "attachments": {},
   "cell_type": "markdown",
   "metadata": {},
   "source": [
    "\n",
    "```python\n",
    "if condition :     \n",
    "  instruction 1\n",
    "  instruction 2\n",
    "  ... \n",
    "else :\n",
    "  instruction 3\n",
    "  ...\n",
    "```"
   ]
  },
  {
   "cell_type": "markdown",
   "metadata": {},
   "source": [
    "**Exemple :**"
   ]
  },
  {
   "cell_type": "code",
   "execution_count": 4,
   "metadata": {},
   "outputs": [
    {
     "name": "stdout",
     "output_type": "stream",
     "text": [
      "2 est positif\n",
      "Fin\n"
     ]
    }
   ],
   "source": [
    "x = 2\n",
    "if x > 0:\n",
    "    print(x, \"est positif\")\n",
    "else:\n",
    "    print(x, \"est négatif ou nul\")\n",
    "print(\"Fin\")"
   ]
  },
  {
   "attachments": {},
   "cell_type": "markdown",
   "metadata": {},
   "source": [
    "#### 4.2 Les boucles "
   ]
  },
  {
   "attachments": {},
   "cell_type": "markdown",
   "metadata": {},
   "source": [
    "* Boucle non bornée\n",
    "\n",
    "Si on ne connait pas à l’avance le nombre de répétitions, on utilisera une boucle `while`.\n",
    "\n",
    "```python\n",
    "while condition :\n",
    "    instruction 1\n",
    "    instruction 2\n",
    "    ...\n",
    "```"
   ]
  },
  {
   "cell_type": "markdown",
   "metadata": {},
   "source": [
    "**Exemple :** "
   ]
  },
  {
   "cell_type": "code",
   "execution_count": 25,
   "metadata": {},
   "outputs": [
    {
     "name": "stdout",
     "output_type": "stream",
     "text": [
      "i =  0\n",
      "i =  1\n",
      "i =  2\n",
      "i =  3\n",
      "i =  4\n",
      "i =  5\n",
      "i =  6\n",
      "i =  7\n",
      "i =  8\n",
      "i =  9\n"
     ]
    }
   ],
   "source": [
    "i=0\n",
    "while i<10 :\n",
    "    print(\"i = \",i)\n",
    "    i+=1   # i=i+1"
   ]
  },
  {
   "attachments": {},
   "cell_type": "markdown",
   "metadata": {},
   "source": [
    "* Boucle bornée\n",
    "Quand on sait combien de fois doit avoir lieu la répétition, on utilise généralement une boucle `for`.\n",
    "\n",
    "```python\n",
    " for i in [liste de valeurs] :\n",
    "    instructions\n",
    "```"
   ]
  },
  {
   "cell_type": "markdown",
   "metadata": {},
   "source": [
    "**Exemple :** "
   ]
  },
  {
   "cell_type": "code",
   "execution_count": 26,
   "metadata": {},
   "outputs": [
    {
     "name": "stdout",
     "output_type": "stream",
     "text": [
      "i =  0\n",
      "i =  2\n",
      "i =  5\n",
      "i =  6\n"
     ]
    }
   ],
   "source": [
    "for i in [0,2,5,6] :\n",
    "    print(\"i = \",i)"
   ]
  },
  {
   "attachments": {},
   "cell_type": "markdown",
   "metadata": {
    "tags": [
     "Question"
    ]
   },
   "source": [
    "**Question 5** : En utilisant une boucle for, parcourir la liste des 7 premiers nombres premiers pour afficher ceux qui divisent 126 : "
   ]
  },
  {
   "cell_type": "code",
   "execution_count": 37,
   "metadata": {},
   "outputs": [
    {
     "name": "stdout",
     "output_type": "stream",
     "text": [
      "i = 2\n",
      "i = 3\n",
      "i = 7\n"
     ]
    }
   ],
   "source": [
    "for i in [2, 3, 5, 7, 11, 13, 17] :\n",
    "    if 126%i == 0:\n",
    "        print(\"i =\", i) "
   ]
  },
  {
   "attachments": {},
   "cell_type": "markdown",
   "metadata": {},
   "source": [
    "**La fonction range( )** renvoie une séquence de nombres entiers, elle est surtout utilisée dans les boucles for. \n",
    "\n",
    "La syntaxe est la suivante : \n",
    "```python\n",
    "range(start,stop,step)\n",
    "```\n",
    "- start (facultatif) :  un nombre entier précisant à quelle position commencer. La valeur par défaut est 0.\n",
    "- stop (obligatoire) : un nombre entier précisant à quelle position s’arrêter (**l'entier stop n'est pas inclus**).\n",
    "- step (facultatif) : un nombre entier spécifiant l’incrémentation. La valeur par défaut est 1\n",
    "\n",
    "En particulier, range(n) génére la suite des n entiers de 0 à n-1.\n"
   ]
  },
  {
   "cell_type": "code",
   "execution_count": 34,
   "metadata": {},
   "outputs": [
    {
     "name": "stdout",
     "output_type": "stream",
     "text": [
      "0\n",
      "1\n",
      "2\n"
     ]
    }
   ],
   "source": [
    "for n in range(3): \n",
    "  print(n)"
   ]
  },
  {
   "cell_type": "code",
   "execution_count": 35,
   "metadata": {},
   "outputs": [
    {
     "name": "stdout",
     "output_type": "stream",
     "text": [
      "-3\n",
      "-2\n",
      "-1\n",
      "0\n",
      "1\n",
      "2\n",
      "3\n",
      "4\n",
      "5\n"
     ]
    }
   ],
   "source": [
    "for n in range(-3,6): \n",
    "  print(n)"
   ]
  },
  {
   "cell_type": "code",
   "execution_count": 36,
   "metadata": {},
   "outputs": [
    {
     "name": "stdout",
     "output_type": "stream",
     "text": [
      "16\n",
      "14\n",
      "12\n",
      "10\n",
      "8\n",
      "6\n",
      "4\n"
     ]
    }
   ],
   "source": [
    "for n in range(16, 3, -2):\n",
    "  print(n)"
   ]
  },
  {
   "cell_type": "code",
   "execution_count": 38,
   "metadata": {},
   "outputs": [
    {
     "data": {
      "text/plain": [
       "range"
      ]
     },
     "execution_count": 38,
     "metadata": {},
     "output_type": "execute_result"
    }
   ],
   "source": [
    "type(range(1,6))"
   ]
  },
  {
   "attachments": {},
   "cell_type": "markdown",
   "metadata": {},
   "source": [
    "---"
   ]
  },
  {
   "attachments": {},
   "cell_type": "markdown",
   "metadata": {},
   "source": [
    "### **5. Les fonctions**"
   ]
  },
  {
   "attachments": {},
   "cell_type": "markdown",
   "metadata": {},
   "source": [
    "**Syntaxe**\n",
    " \n",
    "La syntaxe Python pour la définition d’une fonction est la suivante :\n",
    " \n",
    "```python\n",
    "def nom_fonction(liste de paramètres):\n",
    "    bloc d'instructions\n",
    "    return valeur1, valeur2, ...\n",
    " ```\n",
    "\n",
    "Vous pouvez choisir n’importe quel nom pour la fonction que vous créez, à l’exception des mots-clés réservés du langage, et à la condition de n’utiliser aucun caractère spécial ou accentué (le caractère souligné « _ » est permis). <br>Comme c’est le cas pour les noms de variables, on utilise par convention des minuscules, notamment au début du nom (les noms commençant par une majuscule seront réservés aux classes).\n",
    "\n",
    "**Corps de la fonction**\n",
    "\n",
    "Comme les instructions if, for et while, l’instruction <code>def</code> est une instruction composée. <br>La ligne contenant cette instruction se termine obligatoirement par un deux-points <code>:</code> qui introduit un bloc d’instructions qui est précisé grâce à l’**indentation**. <br>Ce bloc d’instructions constitue le corps de la fonction."
   ]
  },
  {
   "attachments": {},
   "cell_type": "markdown",
   "metadata": {},
   "source": [
    "**Exemple :** "
   ]
  },
  {
   "cell_type": "code",
   "execution_count": 39,
   "metadata": {},
   "outputs": [
    {
     "name": "stdout",
     "output_type": "stream",
     "text": [
      "0\n",
      "1\n",
      "2\n",
      "3\n",
      "0\n",
      "1\n",
      "a = 4 b =  2 i =  17\n"
     ]
    }
   ],
   "source": [
    "def compteur(stop):\n",
    "    i = 0   # variable de la fonction\n",
    "    while i < stop:\n",
    "        print(i)\n",
    "        i = i + 1\n",
    "    return i\n",
    "\n",
    "a=compteur(4)\n",
    "b=compteur(2)\n",
    "\n",
    "print('a =',a,'b = ',b,'i = ',i)"
   ]
  },
  {
   "attachments": {},
   "cell_type": "markdown",
   "metadata": {
    "tags": [
     "question"
    ]
   },
   "source": [
    "**Question 5** : \n",
    "\n",
    "Ecrire la fonction `racine()` qui retourne les racines, si elles existent, d'un polynôme du second degré $aX^2+bX+c$\n",
    "- en entrée : trois valeurs a,b,c\n",
    "- en sortie : la ou les racines ou le message'pas de racine'\n",
    "\n",
    "Vous testerez votre fonction avec les cas suivants : \n",
    "- $A(x)= x^2 + x+ 3$ qui n'a pas de racine\n",
    "- $B(x)=4x^2+4x+1$ qui a une seule racine ($x_0=-\\frac{1}{2}$)\n",
    "- $C(x)=4x^2-4x-8$ qui a deux racines ($x_1=2$ et $x_2=-1$)\n",
    "\n"
   ]
  },
  {
   "cell_type": "code",
   "execution_count": 70,
   "metadata": {},
   "outputs": [],
   "source": [
    "# Réponse : \n",
    "from math import sqrt # importation de la fonction sqrt (racine carrée) du module math\n",
    "def racine(a, b, c):\n",
    "\n",
    "    det = b**2 - 4*a*c\n",
    "    x1 = x2 = 0\n",
    "\n",
    "    if det > 0 :\n",
    "        x1 = (-b - sqrt(det)) / (2*a)  \n",
    "        x2 = (-b + sqrt(det)) / (2*a)\n",
    "        print('Deux racines distinctes, x1 =', x1, 'et x2 =', x2)\n",
    "\n",
    "    elif det == 0 :\n",
    "        x1 = (-b)/(2*a)\n",
    "        print('Une unique racine x1 = ', x1)\n",
    "\n",
    "    elif det < 0 :\n",
    "        print('Pas de racine')\n",
    "    \n",
    "\n"
   ]
  },
  {
   "cell_type": "code",
   "execution_count": 71,
   "metadata": {},
   "outputs": [
    {
     "name": "stdout",
     "output_type": "stream",
     "text": [
      "Pas de racine\n",
      "Une unique racine x1 =  -0.5\n",
      "Deux racines distinctes, x1 = -1.0 et x2 = 2.0\n"
     ]
    }
   ],
   "source": [
    "racine(1, 1, 3)\n",
    "racine(4, 4, 1)\n",
    "racine(4, -4, -8)\n"
   ]
  },
  {
   "attachments": {},
   "cell_type": "markdown",
   "metadata": {
    "tags": [
     "Question"
    ]
   },
   "source": [
    "**Queston 6** : \n",
    "\n",
    "Ecrire la fonction `somme()` qui retourne la sommes des n premiers\n",
    "entiers naturels à partir de 1. Cette somme sera construite de façon itérative.\n",
    "- en entrée : un entier n\n",
    "- en sortie : la somme 1+2+3+...+n"
   ]
  },
  {
   "cell_type": "code",
   "execution_count": 109,
   "metadata": {},
   "outputs": [],
   "source": [
    "# Réponse : \n",
    "def somme(n) :\n",
    "    somme = 0\n",
    "    #Commencer à 1, jusqu'à n+1 pour ne pas s'arrêter un cran avant \n",
    "    for a in range (1, n+1):\n",
    "        somme += a\n",
    "    return somme \n",
    "        \n",
    "\n",
    "\n",
    "   "
   ]
  },
  {
   "cell_type": "code",
   "execution_count": 110,
   "metadata": {},
   "outputs": [
    {
     "data": {
      "text/plain": [
       "15"
      ]
     },
     "execution_count": 110,
     "metadata": {},
     "output_type": "execute_result"
    }
   ],
   "source": [
    "# test de la fonction \n",
    "somme(5)"
   ]
  },
  {
   "attachments": {},
   "cell_type": "markdown",
   "metadata": {
    "tags": [
     "Question"
    ]
   },
   "source": [
    "**Queston 7** : \n",
    "\n",
    "Ecrire la fonction `factoriel()` qui retourne le produit des n premiers\n",
    "entiers naturels à partir de 1. Ce produit sera construit de façon itérative.\n",
    "- en entrée : un entier n\n",
    "- en sortie : le produit 1*2*3*...*n"
   ]
  },
  {
   "cell_type": "code",
   "execution_count": 103,
   "metadata": {},
   "outputs": [],
   "source": [
    "# Réponse : \n",
    "def factoriel(n) :\n",
    "    produit = 1\n",
    "    #Commencer à 1, jusqu'à n+1 pour ne pas s'arrêter un cran avant \n",
    "    for a in range (2, n+1):\n",
    "        produit *= a\n",
    "    return produit \n"
   ]
  },
  {
   "cell_type": "code",
   "execution_count": 106,
   "metadata": {},
   "outputs": [
    {
     "data": {
      "text/plain": [
       "1"
      ]
     },
     "execution_count": 106,
     "metadata": {},
     "output_type": "execute_result"
    }
   ],
   "source": [
    "# test de la fonction : 5!=120, 1!=1\n",
    "factoriel(5)"
   ]
  },
  {
   "attachments": {},
   "cell_type": "markdown",
   "metadata": {},
   "source": [
    "---"
   ]
  },
  {
   "attachments": {},
   "cell_type": "markdown",
   "metadata": {},
   "source": [
    "### **6. Un type complexe : les listes**"
   ]
  },
  {
   "attachments": {},
   "cell_type": "markdown",
   "metadata": {},
   "source": [
    "Les listes (*list*) sont l’un des 4 types de données intégrés en Python utilisés pour stocker des collections de données, les 3 autres sont : \n",
    "- les tuples (*tuple*),\n",
    "- les ensembles (*set*),\n",
    "- les dictionnaires (*dict*) \n",
    "\n",
    "tous avec des qualités et une utilisation différentes.\n",
    "\n",
    "Nous présenterons pour l'instant uniquement le type *list*.\n",
    "\n",
    "Les éléments de liste sont ordonnés, modifiable et permettent des valeurs en double. Les éléments d'une liste peuvent être de différents types. "
   ]
  },
  {
   "cell_type": "code",
   "execution_count": 111,
   "metadata": {},
   "outputs": [
    {
     "name": "stdout",
     "output_type": "stream",
     "text": [
      "[1, 2, 'bonjour', 4.56]\n",
      "<class 'list'>\n",
      "nombre d'élément de la liste :  4\n"
     ]
    }
   ],
   "source": [
    "# création d'une liste avec objets de différents types\n",
    "L=[1,2,'bonjour',4.56] \n",
    "print(L)\n",
    "print(type(L))\n",
    "print(\"nombre d'élément de la liste : \",len(L)) "
   ]
  },
  {
   "cell_type": "code",
   "execution_count": 114,
   "metadata": {},
   "outputs": [
    {
     "data": {
      "text/plain": [
       "[3, 0]"
      ]
     },
     "execution_count": 114,
     "metadata": {},
     "output_type": "execute_result"
    }
   ],
   "source": [
    "# création d'une liste de nombres\n",
    "P=[3,0,2,5,9,3]\n",
    "P[0] # retourne l'élément d'indice 0\n",
    "P[2] # retourne le 3ie élément\n",
    "P[-1] # retourne le dernier élément\n",
    "P[-2] # retourne l'avant-dernier élément\n",
    "P[2:] # retourne le liste du 3ie élément au dernier\n",
    "P[:2] # retourne la liste les 2 premiers éléments"
   ]
  },
  {
   "cell_type": "code",
   "execution_count": 115,
   "metadata": {},
   "outputs": [
    {
     "name": "stdout",
     "output_type": "stream",
     "text": [
      "[1, 4, 9, 16, 25, 36, 49]\n"
     ]
    }
   ],
   "source": [
    "# création d'un liste à l'aide d'une compréhension\n",
    "L=[x**2 for x in range(1,8)]  # liste des 7 premiers carrés d'entiers\n",
    "print(L)"
   ]
  },
  {
   "cell_type": "code",
   "execution_count": 116,
   "metadata": {},
   "outputs": [
    {
     "name": "stdout",
     "output_type": "stream",
     "text": [
      "0 Jean\n",
      "1 Paul\n",
      "2 ZZ\n",
      "3 Jim\n"
     ]
    }
   ],
   "source": [
    "# Pour itérer sur les indices d'une liste, on peut combiner les fonctions range() et len() :\n",
    "a = ['Jean', 'Paul', 'ZZ', 'Jim']\n",
    "for i in range(len(a)):\n",
    "    print(i, a[i])\n"
   ]
  },
  {
   "cell_type": "code",
   "execution_count": 117,
   "metadata": {},
   "outputs": [
    {
     "name": "stdout",
     "output_type": "stream",
     "text": [
      "[3, 0, 2, 5, 9, 3]\n",
      "[3, 0, 333, 5, 9, 3]\n"
     ]
    }
   ],
   "source": [
    "# modification d'une liste\n",
    "print(P)\n",
    "P[2]=333   # remplace l'élément d'indice 2 par 333\n",
    "print(P)"
   ]
  },
  {
   "attachments": {},
   "cell_type": "markdown",
   "metadata": {},
   "source": [
    "Quelques méthodes sur les objets de type *list* : "
   ]
  },
  {
   "cell_type": "code",
   "execution_count": null,
   "metadata": {},
   "outputs": [],
   "source": [
    "print(P)\n",
    "P.append(15)   # ajoute 15 en fin de liste - ne retourne rien\n",
    "print(P)\n",
    "P.remove(3)  # supprime la premiere occurence de 3 - ne retourne rien\n",
    "print(P)\n",
    "P.reverse()  # inverse l'ordre des éléments - ne retourne rien\n",
    "print(P)\n",
    "P.insert(1,4) # insere 4 en position d'indice 1 - ne retourne rien\n",
    "print(P)"
   ]
  },
  {
   "cell_type": "code",
   "execution_count": null,
   "metadata": {},
   "outputs": [],
   "source": [
    "P.pop(1) # retourne l'element d'indice 1 et le supprime de la liste\n",
    "print(P)"
   ]
  },
  {
   "cell_type": "code",
   "execution_count": null,
   "metadata": {},
   "outputs": [],
   "source": [
    "P.count(0)   # retourne le nombre d'occurence du nombre 0"
   ]
  },
  {
   "cell_type": "code",
   "execution_count": null,
   "metadata": {},
   "outputs": [],
   "source": [
    "# concaténation de liste\n",
    "a=[1,2]\n",
    "b=[3,4,5]\n",
    "print(a+b)\n",
    "print(b*4)\n",
    "print([0]*20)"
   ]
  }
 ],
 "metadata": {
  "kernelspec": {
   "display_name": "Python 3",
   "language": "python",
   "name": "python3"
  },
  "language_info": {
   "codemirror_mode": {
    "name": "ipython",
    "version": 3
   },
   "file_extension": ".py",
   "mimetype": "text/x-python",
   "name": "python",
   "nbconvert_exporter": "python",
   "pygments_lexer": "ipython3",
   "version": "3.10.9"
  },
  "vscode": {
   "interpreter": {
    "hash": "4523d3d58704349221ba7cc51a2c581255e88878dfb57512e4b577bee3932e33"
   }
  }
 },
 "nbformat": 4,
 "nbformat_minor": 2
}
