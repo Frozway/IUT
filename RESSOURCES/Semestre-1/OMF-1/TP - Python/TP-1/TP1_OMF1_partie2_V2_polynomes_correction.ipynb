{
 "cells": [
  {
   "attachments": {},
   "cell_type": "markdown",
   "metadata": {},
   "source": [
    "# TP 1 semaine 50"
   ]
  },
  {
   "attachments": {},
   "cell_type": "markdown",
   "metadata": {},
   "source": [
    "## Partie 2 : Représentation des polynômes et algorithmes d'évaluation d'un polynome\n",
    "___\n"
   ]
  },
  {
   "attachments": {},
   "cell_type": "markdown",
   "metadata": {},
   "source": [
    "### **1. Représentation des polynômes avec Python**\n",
    "\n",
    "On rappelle la forme générale d'un polynôme de degré $n$ : \n",
    "$$ P(x)=a_n x^n + a_{n-1} x^{n-1} + \\cdots + a_2 x^2 +a_1 x + a_0 $$\n",
    "où les réels $a_0,a_1,\\cdots,a_n$ sont les **coefficients** du polynômes et $a_n \\neq 0$\n",
    "\n",
    "**Avec Python, Le type Polynome n’existe pas. On choisira de définir un polynôme par un objet de type *list* contenant ses coefficients :**  \n",
    "\n",
    "```> [a0,a1,...,an]```\n",
    "\n",
    "Attention à l'ordre des coefficients dans cette liste : \n",
    "- L'élément d'index $0$ de la liste sera le coefficient $a_0$. \n",
    "- L'élément d'index $1$ de la liste sera le coefficient $a_1$.\n",
    "- ...\n",
    "- L'élément d'index $n$ de la liste sera le coefficient $a_n$.\n"
   ]
  },
  {
   "attachments": {},
   "cell_type": "markdown",
   "metadata": {
    "tags": [
     "Question"
    ]
   },
   "source": [
    "**Question 1**  : \n",
    "\n",
    "Construire la liste P correspondant au polynôme  : $ P(x)=x^5 -x^4+2x^3+3x-4$"
   ]
  },
  {
   "cell_type": "code",
   "execution_count": 2,
   "metadata": {},
   "outputs": [],
   "source": [
    "# réponse \n",
    "P=[-4,3,0,2,-1,1]"
   ]
  },
  {
   "cell_type": "markdown",
   "metadata": {},
   "source": [
    "**Question 2**  : \n",
    "\n",
    "Quel est le polynôme qui correspond à la liste : `P=[0,3,-1,0,2]` ?  "
   ]
  },
  {
   "attachments": {},
   "cell_type": "markdown",
   "metadata": {},
   "source": [
    "Réponse : a0=1, a1=3, a2=-1, a3=0, a4=2\n",
    "P(x) = 3x - x^2 +2x^4  = 2x^4 - x^2 + 3x "
   ]
  },
  {
   "attachments": {},
   "cell_type": "markdown",
   "metadata": {
    "tags": [
     "Question"
    ]
   },
   "source": [
    "**Question 3** :\n",
    "\n",
    "Par quelle commande recupérer le degré du polynôme à partir de la liste P de ses coefficients ?"
   ]
  },
  {
   "cell_type": "code",
   "execution_count": 3,
   "metadata": {},
   "outputs": [],
   "source": [
    "# réponse\n",
    "n=len(P)-1"
   ]
  },
  {
   "attachments": {},
   "cell_type": "markdown",
   "metadata": {},
   "source": [
    "### **2. Evaluation d'un polynôme en une valeur de x**\n",
    "*Problème :*\n",
    "Soit $P(x)=a_nx^n+ \\cdots + a_2x^2+a_1 x + a_0$ un polynôme de degré $n$.\n",
    "\n",
    "L'objectif est de comparer plusieurs algorithmes de calcul du nombre $P(x)$ pour une valeur de $x$ donnée."
   ]
  },
  {
   "attachments": {},
   "cell_type": "markdown",
   "metadata": {},
   "source": [
    "**Question 4** :\n",
    "\n",
    "A partir du travail réalisé en TD, écrire les trois fonctions : \n",
    "- `Evaluer1()`\n",
    "- `Evaluer2()` \n",
    "- `Evaluer3()`\n",
    "\n",
    "correspondant aux trois versions de l'algorithme \"classique\" qui consiste à calculer, de façon itérative, la somme \n",
    "$$ P(x)=a_n x^n+ \\cdots + a_2x^2+a_1 x + a_0 $$ \n",
    "\n",
    "Les entrées des fonctions seront : \n",
    "- la liste P des coefficients du polynôme\n",
    "- la valeur x\n",
    "\n",
    "Vous testerez vos fonctions pour l'évaluation du polyôme $P(x)=x^5 -x^4+2x^3+3x-4$ (cf question 1) en $x=9$.\n",
    "\n",
    "Le résultat attendu est  $P(9)=53969 $."
   ]
  },
  {
   "cell_type": "code",
   "execution_count": 4,
   "metadata": {},
   "outputs": [],
   "source": [
    "# définition de la fonction \n",
    "# version 1 : avec utilisation de l'opérateur \"double étoile\" de Python pour les puissances x^i : \n",
    "def Evaluer1 (P,x) :\n",
    "    n=len(P)-1   # degre de P\n",
    "    Res=P[0]\n",
    "    for i in range(1,n+1): # n itérations de 1 à n\n",
    "        Res = Res + P[i] * x**i\n",
    "    return Res  "
   ]
  },
  {
   "cell_type": "code",
   "execution_count": 5,
   "metadata": {},
   "outputs": [
    {
     "data": {
      "text/plain": [
       "53969"
      ]
     },
     "execution_count": 5,
     "metadata": {},
     "output_type": "execute_result"
    }
   ],
   "source": [
    "# test de la fonction\n",
    "x=9\n",
    "Evaluer1(P,x)"
   ]
  },
  {
   "cell_type": "code",
   "execution_count": 6,
   "metadata": {},
   "outputs": [],
   "source": [
    "# définition de la fonction \n",
    "# version 2 : en construisant à chaque itération la puissance i de x par : x^i = x*x*x*...*x\n",
    "def Evaluer2 (P,x) :\n",
    "    n=len(P)-1   # degre de P\n",
    "    Res=P[0]\n",
    "    for i in range(1,n+1): # n itérations de 1 à n\n",
    "        # calcul de x puissance i\n",
    "        Puiss = 1\n",
    "        for j in range(i): # i itérations\n",
    "            Puiss=Puiss*x\n",
    "        Res=Res+P[i]*Puiss\n",
    "    return Res  \n",
    "\n",
    "def Evaluer2bis (P,x) :\n",
    "    n=len(P)-1   # degre de P\n",
    "    valeur=0\n",
    "    for i in range(n+1): # n+1 itérations de 0 à n\n",
    "        nome = P[i]\n",
    "        for j in range(i): # i itérations (pour i=0 on n'entre pas)\n",
    "            nome=nome*x\n",
    "        valeur=valeur+nome\n",
    "    return valeur"
   ]
  },
  {
   "cell_type": "code",
   "execution_count": 7,
   "metadata": {},
   "outputs": [
    {
     "name": "stdout",
     "output_type": "stream",
     "text": [
      "53969\n",
      "53969\n"
     ]
    }
   ],
   "source": [
    "# test de la fonction\n",
    "x=9\n",
    "print(Evaluer2(P,x))\n",
    "print(Evaluer2bis(P,x))"
   ]
  },
  {
   "cell_type": "code",
   "execution_count": 8,
   "metadata": {},
   "outputs": [],
   "source": [
    "# définition de la fonction \n",
    "# version 3 : en construisant à chaque itération la puisssance i de x par la formule de récurrence : x^i = x^(i-1) * x\n",
    "def Evaluer3 (P,x) :\n",
    "    n=len(P)-1   # degre de P\n",
    "    Res=P[0]\n",
    "    Puiss = 1\n",
    "    for i in range(1,n+1): # n itérations i de 1 à n\n",
    "        Puiss= Puiss * x\n",
    "        Res=Res+P[i]*Puiss\n",
    "    return Res"
   ]
  },
  {
   "cell_type": "code",
   "execution_count": 9,
   "metadata": {},
   "outputs": [
    {
     "name": "stdout",
     "output_type": "stream",
     "text": [
      "53969\n"
     ]
    }
   ],
   "source": [
    "# test de la fonction\n",
    "print(Evaluer3(P,x))"
   ]
  },
  {
   "attachments": {},
   "cell_type": "markdown",
   "metadata": {},
   "source": [
    "**Question 5** : Écrire la fonction `Horner()` permettant d'évaluer un polynôme en une valeur par l'algorithme de Horner\n",
    "\n",
    "Les entrées de la fonction seront : \n",
    "- la liste P des coefficients du polynôme\n",
    "- la valeur x\n",
    "\n",
    "Vous testerez la fonction pour l'évaluation du polyôme $ P(x)=x^5 -x^4+2x^3+3x-4$ (cf question1) en $x=9$.\n",
    "\n",
    "Le résultat attendu est  $P(9)=53969 $."
   ]
  },
  {
   "cell_type": "code",
   "execution_count": 10,
   "metadata": {},
   "outputs": [],
   "source": [
    "# définition de la fonction \n",
    "def horner(P,x):\n",
    "    n = len(P)-1  # n degré du polynôme\n",
    "    res = P[-1]\n",
    "    for i in range(1,n+1):  # n itérations (i=1 à n)\n",
    "        res = res * x + P[n-i]\n",
    "    return res    "
   ]
  },
  {
   "cell_type": "code",
   "execution_count": 11,
   "metadata": {},
   "outputs": [
    {
     "name": "stdout",
     "output_type": "stream",
     "text": [
      "53969\n"
     ]
    }
   ],
   "source": [
    "# test de la fonction\n",
    "print(horner(P,x))"
   ]
  },
  {
   "attachments": {},
   "cell_type": "markdown",
   "metadata": {},
   "source": [
    "### **3. Comparaison des algorithmes en fonction de leur complexité**"
   ]
  },
  {
   "attachments": {},
   "cell_type": "markdown",
   "metadata": {},
   "source": [
    "La fonction `av_time()`suivante retourne les temps d'exécution d'une fonction d'évaluation `func(P,x)` pour des polynômes aléatoires de degré croissant : de 1 à `degreMax`. \n",
    "\n",
    "Pour chaque polynôme, l'évaluation sera répété plusieurs fois (`nbEssais`) avec des valeurs de x aléatoires entre 0 et 100. C'est le temps moyen qui sera retourné. "
   ]
  },
  {
   "attachments": {},
   "cell_type": "markdown",
   "metadata": {},
   "source": [
    "**Question 6** : comprendre et exécuter les cellules de code suivantes"
   ]
  },
  {
   "cell_type": "code",
   "execution_count": 12,
   "metadata": {},
   "outputs": [],
   "source": [
    "from random import randint\n",
    "import time \n",
    "\n",
    "def av_time(func,degreMax,nbEssais):\n",
    "    result=list()   # ou result = []  \n",
    "    \n",
    "    somme=0.0\n",
    "\n",
    "    for j in range(1,degreMax+1):   # j allant de 1 à degreMax\n",
    "        # on génére un polynôme aléatoire de degré j de coefficients entiers entre 1 et 100\n",
    "        # en générant une liste aléatoire de j+1 entiers\n",
    "        P=[randint(1,100) for i in range(j+1)]  \n",
    "        somme=0.0\n",
    "\n",
    "        # on réalise nbEssais calculs d'évaluation de P(x) pour des valeurs de x aléatoires\n",
    "        for k in range(1,nbEssais+1):  # nbEssais itérations\n",
    "            x=randint(0,100) # génére une valeur de x aléatoire entre 0 et 100\n",
    "            t=time.perf_counter_ns()  # declenche le compteur\n",
    "            func(P,x)  # évalue P(x)\n",
    "            somme+=(time.perf_counter_ns()-t) # cumule les temps d'exécution\n",
    " \n",
    "    return result"
   ]
  },
  {
   "cell_type": "code",
   "execution_count": 13,
   "metadata": {},
   "outputs": [],
   "source": [
    "degreMax = 10\n",
    "nbEssais = 1000\n",
    "ll1=av_time(Evaluer1,degreMax,nbEssais)\n",
    "ll2=av_time(Evaluer2,degreMax,nbEssais)\n",
    "ll3=av_time(Evaluer3,degreMax,nbEssais)\n",
    "ll4=av_time(horner,degreMax,nbEssais)"
   ]
  },
  {
   "cell_type": "code",
   "execution_count": 14,
   "metadata": {},
   "outputs": [],
   "source": [
    "# Pour la suite, nous allons utiliser le module matplotlib pour tracer les courbes\n",
    "# Il est necessaire l'installer ce module avec les deux commandes suivantes : \n",
    "# vous devrez redémarrer le noyau après chaque commande \n",
    "# (menu \"Rédémarrer\" ou \"Restart\" dans la barre de menu en haut)"
   ]
  },
  {
   "cell_type": "code",
   "execution_count": 15,
   "metadata": {},
   "outputs": [
    {
     "name": "stdout",
     "output_type": "stream",
     "text": [
      "Requirement already satisfied: pip in /Library/Frameworks/Python.framework/Versions/3.9/lib/python3.9/site-packages (22.3.1)\n",
      "Note: you may need to restart the kernel to use updated packages.\n"
     ]
    }
   ],
   "source": [
    "# pip install --upgrade pip"
   ]
  },
  {
   "cell_type": "code",
   "execution_count": 16,
   "metadata": {},
   "outputs": [
    {
     "name": "stdout",
     "output_type": "stream",
     "text": [
      "Requirement already satisfied: matplotlib in /Library/Frameworks/Python.framework/Versions/3.9/lib/python3.9/site-packages (3.5.1)\n",
      "Requirement already satisfied: numpy>=1.17 in /Library/Frameworks/Python.framework/Versions/3.9/lib/python3.9/site-packages (from matplotlib) (1.22.3)\n",
      "Requirement already satisfied: packaging>=20.0 in /Library/Frameworks/Python.framework/Versions/3.9/lib/python3.9/site-packages (from matplotlib) (21.3)\n",
      "Requirement already satisfied: fonttools>=4.22.0 in /Library/Frameworks/Python.framework/Versions/3.9/lib/python3.9/site-packages (from matplotlib) (4.32.0)\n",
      "Requirement already satisfied: pyparsing>=2.2.1 in /Library/Frameworks/Python.framework/Versions/3.9/lib/python3.9/site-packages (from matplotlib) (3.0.8)\n",
      "Requirement already satisfied: python-dateutil>=2.7 in /Library/Frameworks/Python.framework/Versions/3.9/lib/python3.9/site-packages (from matplotlib) (2.8.2)\n",
      "Requirement already satisfied: kiwisolver>=1.0.1 in /Library/Frameworks/Python.framework/Versions/3.9/lib/python3.9/site-packages (from matplotlib) (1.4.2)\n",
      "Requirement already satisfied: pillow>=6.2.0 in /Library/Frameworks/Python.framework/Versions/3.9/lib/python3.9/site-packages (from matplotlib) (9.1.0)\n",
      "Requirement already satisfied: cycler>=0.10 in /Library/Frameworks/Python.framework/Versions/3.9/lib/python3.9/site-packages (from matplotlib) (0.11.0)\n",
      "Requirement already satisfied: six>=1.5 in /Library/Frameworks/Python.framework/Versions/3.9/lib/python3.9/site-packages (from python-dateutil>=2.7->matplotlib) (1.16.0)\n",
      "Note: you may need to restart the kernel to use updated packages.\n"
     ]
    }
   ],
   "source": [
    "# pip install matplotlib"
   ]
  },
  {
   "cell_type": "code",
   "execution_count": 17,
   "metadata": {},
   "outputs": [
    {
     "data": {
      "image/png": "[encoded data removed]",
      "text/plain": [
       "<Figure size 640x480 with 1 Axes>"
      ]
     },
     "metadata": {},
     "output_type": "display_data"
    }
   ],
   "source": [
    "import matplotlib.pyplot as plt\n",
    "\n",
    "leX=[i for i in range(1,degreMax+1)]   # liste des abscisses (degrés)\n",
    "leY1=ll1  # liste des ordonnées pour la courbe 1 (temps moyen d'exécution)\n",
    "leY2=ll2\n",
    "leY3=ll3\n",
    "leY4=ll4\n",
    "plt.plot(leX, leY1,label='Algo classique, version 1',color='blue')  # Evaluer1\n",
    "plt.plot(leX, leY2,label='Algo classique, version 2',color='green') # Evaluer2\n",
    "plt.plot(leX, leY3,label='Algo classique, version 3',color='yellow') # Evaluer3\n",
    "plt.plot(leX, leY4,label='Algo Horner',color='black') # Horner\n",
    "plt.legend()\n",
    "plt.show()"
   ]
  },
  {
   "attachments": {},
   "cell_type": "markdown",
   "metadata": {},
   "source": [
    "### **4. Autres fonctions sur les polynômes**"
   ]
  },
  {
   "attachments": {},
   "cell_type": "markdown",
   "metadata": {},
   "source": [
    "**Question 7** : \n",
    "\n",
    "On rappelle que la dérivée du monôme $a x^n$ est $n a x^{n-1}$ et que la dérivée de $f(x)+g(x)$ est $f’(x)+g’(x)$.\n",
    "\n",
    "Dès lors, automatiser le calcul de la dérivée d’un polynôme est une tâche simple.\n",
    "\n",
    "Ecrire la fonction `derivation(P)`qui, à partir de la liste des coefficients d'un polynôme P, retourne la liste de coefficients du polynôme dérivé P'. "
   ]
  },
  {
   "cell_type": "code",
   "execution_count": 18,
   "metadata": {},
   "outputs": [],
   "source": [
    "def derivation(P):\n",
    "    D=[] \n",
    "    n=len(P)-1\n",
    "    for i in range(1,n+1):\n",
    "        D.append(i * P[i])\n",
    "    return D"
   ]
  },
  {
   "cell_type": "code",
   "execution_count": 19,
   "metadata": {},
   "outputs": [
    {
     "data": {
      "text/plain": [
       "[3, 0, 6, -4, 5]"
      ]
     },
     "execution_count": 19,
     "metadata": {},
     "output_type": "execute_result"
    }
   ],
   "source": [
    "# test de la fonction avec le polynôme P de la question 1\n",
    "# résultat attendu : derivation(P)=[3,0,6,-4,5]\n",
    "\n",
    "# Si P(x)=x^5 -x^4+2x^3+3x-4, alors P'(x)=5x^4 - 4x^3 + 6x^2 + 3\n",
    "# Si P(x):\n",
    "\n",
    "P=[-4,3,0,2,-1,1]\n",
    "derivation(P)"
   ]
  },
  {
   "attachments": {},
   "cell_type": "markdown",
   "metadata": {},
   "source": [
    "**Question 8** : \n",
    "\n",
    "Ecrire la fonction `addition(P,Q)` qui, à partir des listes des coefficients de deux polynômes P et Q quelconques, retourne la liste de coefficients du polynôme somme P+Q. "
   ]
  },
  {
   "cell_type": "code",
   "execution_count": 2,
   "metadata": {},
   "outputs": [],
   "source": [
    "def addition(P,Q):\n",
    "    # on crée un polynôme nul qui a la bonne longueur\n",
    "    if len(P)>len(Q): \n",
    "        Somme = [0]*len(P) ## C’est-à-dire soit celle de P\n",
    "    else: \n",
    "        Somme = [0]*len(Q) ## soit celle de Q\n",
    "\n",
    "     # On ajoute les coefficients\n",
    "    for i in range(len(P)): \n",
    "        Somme[i] += P[i] # d’abord ceux de P\n",
    "    for i in range(len(Q)):\n",
    "        Somme[i]+= Q[i] # puis ceux de Q\n",
    "        \n",
    "    # On termine en renvoyant le polynôme\n",
    "    return Somme\n"
   ]
  },
  {
   "cell_type": "code",
   "execution_count": 5,
   "metadata": {},
   "outputs": [
    {
     "name": "stdout",
     "output_type": "stream",
     "text": [
      "[3, 2, 1, 1]\n",
      "[2, 2, 3]\n"
     ]
    }
   ],
   "source": [
    "# test de la fonction dans les deux cas : \n",
    "# Cas 1 : deux polynômes de degrés différents\n",
    "P=[1,1,1,1]\n",
    "Q=[2,1]\n",
    "print(addition(P,Q))\n",
    "\n",
    "# Cas 2 : deux polynômes de même degrés\n",
    "P=[1,1,1]\n",
    "Q=[1,1,2]\n",
    "print(addition(P,Q))"
   ]
  }
 ],
 "metadata": {
  "kernelspec": {
   "display_name": "Python 3.9.2 64-bit",
   "language": "python",
   "name": "python3"
  },
  "language_info": {
   "codemirror_mode": {
    "name": "ipython",
    "version": 3
   },
   "file_extension": ".py",
   "mimetype": "text/x-python",
   "name": "python",
   "nbconvert_exporter": "python",
   "pygments_lexer": "ipython3",
   "version": "3.9.2"
  },
  "vscode": {
   "interpreter": {
    "hash": "aee8b7b246df8f9039afb4144a1f6fd8d2ca17a180786b69acc140d282b71a49"
   }
  }
 },
 "nbformat": 4,
 "nbformat_minor": 2
}
