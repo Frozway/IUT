{
 "cells": [
  {
   "cell_type": "markdown",
   "metadata": {},
   "source": [
    "# TP 1 : Recherche d'extremum et interpolation de Lagrange\n",
    "\n",
    "Dans ce TP, nous allons :\n",
    "\n",
    "1. rechercher un extremum d'une fonction `f` ;\n",
    "2. tenter d'approcher cette fonction par un polynôme interpolateur (qui passera notamment par l'extremum trouvé).\n",
    "\n",
    "Et en bonus, nous allons étudier une fonction très utile en sciences."
   ]
  },
  {
   "cell_type": "markdown",
   "metadata": {},
   "source": [
    "Pour l'instant, nous allons utiliser la fonction `f` (et sa dérivée `f_prime`) sans nous soucier de sa définition.\n",
    "\n",
    "Il suffit pour cela de les importer du module `mystere` ainsi :"
   ]
  },
  {
   "cell_type": "code",
   "execution_count": null,
   "metadata": {},
   "outputs": [],
   "source": [
    "from mystere import f, f_prime"
   ]
  },
  {
   "cell_type": "markdown",
   "metadata": {},
   "source": [
    "#### Exercice 1 : graphe de la fonction\n",
    "\n",
    "Tout d'abord, nous allons afficher le graphe de `f`, en prenant en abscisses 100 valeurs dans un intervalle donné.\n",
    "\n",
    "Le code suivant considère l'intervalle $[0 ; 1]$.  Modifiez-le pour un affichage sur l'intervalle $[-1 ; +3]$."
   ]
  },
  {
   "cell_type": "code",
   "execution_count": null,
   "metadata": {},
   "outputs": [],
   "source": [
    "# installation de la librairie matplotlib \n",
    "# (à n'exécuter qu'une seule fois)\n",
    "!pip install matplotlib"
   ]
  },
  {
   "cell_type": "code",
   "execution_count": null,
   "metadata": {},
   "outputs": [],
   "source": [
    "import matplotlib.pyplot as plot\n",
    "\n",
    "# affichage du graphe\n",
    "\n",
    "N = 100  # nombre de points dans le graphe\n",
    "\n",
    "X = []  # liste des abscisses des points\n",
    "Y = []  # liste des ordonnées des points\n",
    "for i in range(N):\n",
    "    x = i/N  # à modifier\n",
    "    y = f(x)\n",
    "    X.append(x)  # rajoute la valeur x à la liste X\n",
    "    Y.append(y)  # rajoute la valeur y à la liste Y\n",
    "plot.plot(X, Y, label=\"f\")\n",
    "plot.legend()\n",
    "plot.show()"
   ]
  },
  {
   "attachments": {},
   "cell_type": "markdown",
   "metadata": {},
   "source": [
    "#### Exercice 2 : recherche d'extremum\n",
    "\n",
    "Il nous faut maintenant trouver l'abscisse du maximum de la fonction `f`.\n",
    "\n",
    "Cela peut se faire à une erreur $\\epsilon$ (`EPSILON`) près en recherchant par dichtomie la racine de sa dérivée `f_prime` sur l'intervalle sur l'intervalle $[-1 ; +3]$.\n",
    "\n",
    "Complétez le code suivant :"
   ]
  },
  {
   "cell_type": "code",
   "execution_count": null,
   "metadata": {},
   "outputs": [],
   "source": [
    "EPSILON = 0.001\n",
    "\n",
    "def dichotomie(fun, a, b):\n",
    "    while True:  # Python n'ayant pas de structure do...while\n",
    "        m = (a + b) / 2\n",
    "        if (b - a) < EPSILON:\n",
    "            break\n",
    "        if       # à compléter\n",
    "                 # à compléter  \n",
    "        else:\n",
    "                 # à compléter  \n",
    "    return m\n",
    "\n",
    "# calcul et affichage de la racine r\n",
    "r =      # à compléter\n",
    "\n",
    "print(r)"
   ]
  },
  {
   "attachments": {},
   "cell_type": "markdown",
   "metadata": {},
   "source": [
    "#### Exercice 3  : interpolation de Lagrange\n",
    "\n",
    "On se donne $n+1$ points $(x_0, y_0), \\cdots, (x_n, y_n)$ (avec les $x_i$ distincts deux à deux).\n",
    "\n",
    "On rappelle (voir TD) qu'il existe un unique polynôme de degré $n$ qui, aux abscisses $x_i$ prend les valeurs $y_i$ (on dit que le polynôme est interpolateur).\n",
    "\n",
    "Ce polynôme, appelé **polynôme de Lagrange**, est défini par la formule suivante : \n",
    "$$P(x) = \\sum_{k=0}^{n}y_k    L_k (x) \\quad \\text{ avec } \\quad L_k(x)= {\\prod_{i=0, i \\ne k}^{n}\\frac{x-x_i}{x_k-x_i}}$$\n",
    "\n",
    "Complétez la fonction `lagrange` suivante pour qu'elle calcule la valeur du polynôme en question pour la valeur $x$ :"
   ]
  },
  {
   "cell_type": "code",
   "execution_count": null,
   "metadata": {},
   "outputs": [],
   "source": [
    "# Polynôme interpolateur de Lagrange \n",
    "# Entrée : \n",
    "    # X représente la liste des abscisses x0,x1,...xn\n",
    "    # Y représente la liste des ordonnées y0,y1,...,yn\n",
    "    # x une valeur numérique\n",
    "\n",
    "# Sortie : \n",
    "    # s designe la valeur du polynôme d'interpolation de Lagrange P en x\n",
    "\n",
    "def lagrange(X, Y, x):\n",
    "    assert(len(X) == len(Y))\n",
    "    s = 0\n",
    "    # à compléter\n",
    "    \n",
    "    \n",
    "    \n",
    "    \n",
    "    \n",
    "    \n",
    "    return s"
   ]
  },
  {
   "cell_type": "markdown",
   "metadata": {},
   "source": [
    "On va maintenant utiliser ce polynôme avec les points suivants :"
   ]
  },
  {
   "cell_type": "code",
   "execution_count": null,
   "metadata": {},
   "outputs": [],
   "source": [
    "# les 3 points en entrée : \n",
    "# le polynôme de Lagrange sera de degré 2 (soit une parabole)\n",
    "\n",
    "Xe = [ 0.0, r, 1.0 ]\n",
    "Ye = [ f(Xe[0]), f(Xe[1]), f(Xe[2]) ]"
   ]
  },
  {
   "cell_type": "markdown",
   "metadata": {},
   "source": [
    "il suffit alors d'exécuter le code suivant afin d'afficher l'approximation de la fonction\n",
    "\n",
    "(a priori sur l'intervalle $[0 ; 1]$, mais on peut essayer aussi sur l'intervalle $[-1 ; +3]$ pour voir le comportement du polynôme) :"
   ]
  },
  {
   "cell_type": "code",
   "execution_count": null,
   "metadata": {},
   "outputs": [],
   "source": [
    "# affichage de l'approximation sur [0,1]\n",
    "\n",
    "# les points en sortie (interpolés par polynôme de Lagrange)\n",
    "Xl = []\n",
    "Yl = []\n",
    "for i in range(N):\n",
    "    x = i/N    # à modifier pour [-1,3]\n",
    "    y = lagrange(Xe, Ye, x)  # approximation\n",
    "    Xl.append(x)\n",
    "    Yl.append(y)  # valeur approchée\n",
    "\n",
    "plot.plot(X, Y, label=\"originale\")   # voir exercice 1\n",
    "plot.plot(Xl, Yl, label=\"approximation\")\n",
    "plot.legend()\n",
    "plot.show()"
   ]
  },
  {
   "cell_type": "code",
   "execution_count": null,
   "metadata": {},
   "outputs": [],
   "source": [
    "# affichage de l'approximation sur [-1,3]\n",
    "# à completer "
   ]
  },
  {
   "cell_type": "markdown",
   "metadata": {},
   "source": [
    "#### Exercice 4  : une variante...\n",
    "\n",
    "On voit bien une différence entre l'originale et son approximation.\n",
    "\n",
    "En fait, si l'approximation par un polynôme n'est pas exacte, c'est normal : la fonction `f` d'origine n'est pas un polynôme...\n",
    "\n",
    "Mais avec ce qui suit nous allons deviner sa nature.\n",
    "\n"
   ]
  },
  {
   "cell_type": "code",
   "execution_count": null,
   "metadata": {},
   "outputs": [],
   "source": [
    "# from math import log, exp\n",
    "\n",
    "# interpolation de Lagrange sur le log\n",
    "\n",
    "def lagrange_plus(X, Y, x):\n",
    "    Y_log = [ ]\n",
    "    for y in Y:\n",
    "        Y_log.append(log(y))\n",
    "    v = lagrange(X, Y_log, x)  # approximation du log\n",
    "    return exp(v)  # retour en échelle linéaire car exp(log(x)) == x\n",
    "\n",
    "# affichage de l'approximation sur le log\n",
    "\n",
    "Xl = []\n",
    "Yl = []\n",
    "for i in range(N):\n",
    "    x = i/(N/4)-1\n",
    "    y = lagrange_plus(Xe, Ye, x)  # approximation sur le log\n",
    "    Xl.append(x)\n",
    "    Yl.append(y)  # valeur\n",
    "\n",
    "plot.plot(X, Y, label=\"originale\")\n",
    "plot.plot(Xl, Yl, label=\"approximation (plus)\")\n",
    "plot.legend()\n",
    "plot.show()       "
   ]
  },
  {
   "cell_type": "markdown",
   "metadata": {},
   "source": [
    "Visuellement il semblerait que les courbes (originale et approximation) soient confondues.\n",
    "\n",
    "Nous allons vérifier cela en affichant l'erreur (la différence entre l'approximation et l'originale).\n",
    "\n",
    "Cela peut se faire ainsi :"
   ]
  },
  {
   "cell_type": "code",
   "execution_count": null,
   "metadata": {},
   "outputs": [],
   "source": [
    "# affichage de l'erreur d'approximation\n",
    "\n",
    "Xl = []\n",
    "Yl = []\n",
    "for i in range(N):\n",
    "    x = -1+i*4/N\n",
    "    y = lagrange_plus(Xe, Ye, x)  # approximation du log\n",
    "    Xl.append(x)\n",
    "    Yl.append(    )  # à completer (erreur d'approximation)\n",
    "\n",
    "plot.plot(Xl, Yl, label=\"erreur\")\n",
    "plot.legend()\n",
    "plot.show()"
   ]
  },
  {
   "cell_type": "markdown",
   "metadata": {},
   "source": [
    "On voit maintenant apparaître une erreur en pratique (très petite, car de l'ordre de ${10}^{-16}$).\n",
    "\n",
    "En fait, c'est dû à l'imprécision des calculs en virgule flottante, car en théorie cette erreur est bien nulle.\n",
    "\n",
    "C'est donc que le logarithme de la fonction mystère `f` est un polynôme de degré $2$..."
   ]
  },
  {
   "cell_type": "markdown",
   "metadata": {},
   "source": [
    "Plus précisément, `f` est l'exponentielle d'un polynôme de degré $2$ :\n",
    "$$f(x) = a \\exp\\left(-\\frac{{(x-b)}^2}{2c^2}\\right)$$\n",
    "avec ici $a = 1$ (ordonnée du maximum),\n",
    "\n",
    "$b = 2/3$ (abscisse du maximum, $r$ étant sa valeur approchée trouvée par dichotomie)\n",
    "\n",
    "et $c = 0.5$ (écart type permettant de contrôler la forme de la fonction).\n",
    "\n",
    "Cette fonction est connue sous le nom de Gaussienne.\n",
    "\n",
    "Complétez le code suivant pour la fonction `f` (avec la définition de la Gaussienne donc) :"
   ]
  },
  {
   "cell_type": "code",
   "execution_count": null,
   "metadata": {},
   "outputs": [],
   "source": [
    "# paramètres de la Gaussienne\n",
    "\n",
    "a = 1    # ordonnée du maximum\n",
    "b = 2/3  # abscisse du maximum\n",
    "c = 0.5  # écart type\n",
    "\n",
    "# la Gaussienne\n",
    "\n",
    "def f(x):\n",
    "    # à compléter\n",
    "    return \n",
    "\n",
    "# et sa derivée (pour les courageux)\n",
    "\n",
    "def f_prime(x):\n",
    "    # à compléter\n",
    "    return "
   ]
  },
  {
   "cell_type": "code",
   "execution_count": null,
   "metadata": {},
   "outputs": [],
   "source": []
  },
  {
   "cell_type": "markdown",
   "metadata": {},
   "source": [
    "Pour vérifier, vous pouvez maintenant relancer le TP à partir de l'**Exercice 1**, sans utiliser le module `mystere`.\n",
    "\n",
    "(et si cela change quelque chose, c'est que vos fonctions `f` ou `f_prime` sont fausses)"
   ]
  },
  {
   "cell_type": "code",
   "execution_count": null,
   "metadata": {},
   "outputs": [],
   "source": []
  }
 ],
 "metadata": {
  "kernelspec": {
   "display_name": "Python 3",
   "language": "python",
   "name": "python3"
  },
  "language_info": {
   "codemirror_mode": {
    "name": "ipython",
    "version": 3
   },
   "file_extension": ".py",
   "mimetype": "text/x-python",
   "name": "python",
   "nbconvert_exporter": "python",
   "pygments_lexer": "ipython3",
   "version": "3.9.2"
  },
  "vscode": {
   "interpreter": {
    "hash": "aee8b7b246df8f9039afb4144a1f6fd8d2ca17a180786b69acc140d282b71a49"
   }
  }
 },
 "nbformat": 4,
 "nbformat_minor": 2
}
