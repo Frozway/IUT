{
 "cells": [
  {
   "cell_type": "markdown",
   "metadata": {},
   "source": [
    "# TP 2 Suite : Récursivité"
   ]
  },
  {
   "cell_type": "markdown",
   "metadata": {},
   "source": [
    "### Exercice 1\n",
    "Ecrire la version récursive de la fonction `pgcd(a,b)` qui retourne le pgcd de deux entiers naturels $a$ et $b$ (non tous les deux nuls) par l'algorithme d'Euclide. "
   ]
  },
  {
   "cell_type": "code",
   "execution_count": 2,
   "metadata": {},
   "outputs": [],
   "source": [
    "def pgcd(a,b) :\n",
    "    # cas particulier\n",
    "    if b == 0 :\n",
    "        gcd = a\n",
    "    # appel récursif\n",
    "    else :\n",
    "        gcd = pgcd(b,a%b)\n",
    "    return gcd"
   ]
  },
  {
   "cell_type": "code",
   "execution_count": 3,
   "metadata": {},
   "outputs": [
    {
     "data": {
      "text/plain": [
       "6"
      ]
     },
     "execution_count": 3,
     "metadata": {},
     "output_type": "execute_result"
    }
   ],
   "source": [
    "a,b=12,18\n",
    "pgcd(a,b)  # réponse est 6"
   ]
  },
  {
   "cell_type": "markdown",
   "metadata": {},
   "source": [
    "### **Exercice 2**\n",
    "\n",
    "Q1. Ecrire la version récursive de la fonction `expo(x,n)` qui retourne la valeur de $x^n$ pour un réel x donné et un entier naturel $n$ en utilisant la formule de récurrence suivante : \n",
    "$$\\left\\{ \\begin{aligned}\n",
    "& x^0=1\\\\\n",
    "&x^{n} =x \\times x ^{n-1} \\\\\n",
    "\\end{aligned}\n",
    "\\right.$$"
   ]
  },
  {
   "cell_type": "code",
   "execution_count": 11,
   "metadata": {},
   "outputs": [
    {
     "data": {
      "text/plain": [
       "32"
      ]
     },
     "execution_count": 11,
     "metadata": {},
     "output_type": "execute_result"
    }
   ],
   "source": [
    "def expo(x,n):\n",
    "    # cas particulier\n",
    "    if n == 0:\n",
    "        return 1\n",
    "    \n",
    "    # appel récursif\n",
    "    else:\n",
    "        return x * expo(x,n-1)\n",
    "    \n",
    "expo(2,5)"
   ]
  },
  {
   "cell_type": "markdown",
   "metadata": {},
   "source": [
    "Q2. Ecrire la version récursive de la fonction `expoRapide(x,n)` qui retourne la valeur de $x^n$ pour un réel x donné et un entier naturel $n$ en utilisant la formule de récurrence suivante : \n",
    "$$\\left\\{ \\begin{aligned}\n",
    "& x^0=1\\\\\n",
    "&x^{2p} = (x^p)^2 \\quad \\text{ si } n \\text{ est paire} \\\\\n",
    "&x^{2p+1} =x \\times (x^p)^2 \\quad \\text{ si } n \\text{ est  impaire}  \\\\\n",
    "\\end{aligned}\n",
    "\\right.$$"
   ]
  },
  {
   "cell_type": "code",
   "execution_count": 10,
   "metadata": {},
   "outputs": [
    {
     "data": {
      "text/plain": [
       "32"
      ]
     },
     "execution_count": 10,
     "metadata": {},
     "output_type": "execute_result"
    }
   ],
   "source": [
    "def expoRapide(x,n):\n",
    "    # cas particulier\n",
    "    if n == 0:\n",
    "        return 1\n",
    "    # appel récursif\n",
    "    elif n % 2 == 0:\n",
    "        return expoRapide(x,n//2) ** 2\n",
    "    else: \n",
    "        return x * expoRapide(x,n//2) ** 2\n",
    "\n",
    "expoRapide(2,5)  "
   ]
  },
  {
   "cell_type": "markdown",
   "metadata": {},
   "source": [
    "Comparer les temps d'exécution pour les appels `expo(2,200)`et `expoRapide(2,200)` : "
   ]
  },
  {
   "cell_type": "code",
   "execution_count": 27,
   "metadata": {},
   "outputs": [
    {
     "name": "stdout",
     "output_type": "stream",
     "text": [
      "CPU times: user 20 µs, sys: 0 ns, total: 20 µs\n",
      "Wall time: 27.7 µs\n"
     ]
    },
    {
     "data": {
      "text/plain": [
       "3486784401"
      ]
     },
     "execution_count": 27,
     "metadata": {},
     "output_type": "execute_result"
    }
   ],
   "source": [
    "# %time mesure le temps d'exécution d'une script\n",
    "%time expo(3,20)"
   ]
  },
  {
   "cell_type": "code",
   "execution_count": 22,
   "metadata": {},
   "outputs": [
    {
     "name": "stdout",
     "output_type": "stream",
     "text": [
      "CPU times: user 13 µs, sys: 3 µs, total: 16 µs\n",
      "Wall time: 23.1 µs\n"
     ]
    },
    {
     "data": {
      "text/plain": [
       "1606938044258990275541962092341162602522202993782792835301376"
      ]
     },
     "execution_count": 22,
     "metadata": {},
     "output_type": "execute_result"
    }
   ],
   "source": [
    "%time expoRapide(2,200)"
   ]
  },
  {
   "cell_type": "markdown",
   "metadata": {},
   "source": [
    "Mesurer de façon fiable des temps d'exécution est plus difficile qu'il parait : l'ordinateur est rusé ...\n",
    "\n",
    "on répéter dans une boucle la partie qu'on veut mesurer (si elle prend très peu de temps) --> option -n\n",
    "on peut répéter les mesures et les analyser : garder la meilleure, regarder la moyenne ... --> option r"
   ]
  },
  {
   "cell_type": "code",
   "execution_count": 25,
   "metadata": {},
   "outputs": [
    {
     "name": "stdout",
     "output_type": "stream",
     "text": [
      "2.86 µs ± 11.5 ns per loop (mean ± std. dev. of 7 runs, 100,000 loops each)\n",
      "2.12 µs ± 5.31 ns per loop (mean ± std. dev. of 7 runs, 100,000 loops each)\n",
      "2.84 µs ± 27.4 ns per loop (mean ± std. dev. of 7 runs, 100 loops each)\n",
      "2.66 µs ± 1.3 µs per loop (mean ± std. dev. of 7 runs, 100 loops each)\n",
      "2.95 µs ± 117 ns per loop (mean ± std. dev. of 5 runs, 100,000 loops each)\n",
      "2.12 µs ± 28 ns per loop (mean ± std. dev. of 5 runs, 100,000 loops each)\n"
     ]
    }
   ],
   "source": [
    "# timeit plus fiable : répète plusieurs mesures\n",
    "%timeit expo(3,20)\n",
    "%timeit expoRapide(3,20)\n",
    "\n",
    "%timeit -n 100 expo(3,20)\n",
    "%timeit -n 100 expoRapide(3,20)\n",
    "\n",
    "%timeit -r 5 expo(3,20)\n",
    "%timeit -r 5 expoRapide(3,20)"
   ]
  },
  {
   "cell_type": "markdown",
   "metadata": {},
   "source": [
    "### **Exercice 3**\n",
    "\n",
    "Un nombre $N$ est pair si $N-1$ est impair, et un nombre $N$ est impair si $N-1$ est pair.\n",
    "\n",
    "Écrire deux fonctions **récursives imbriquées** `pair(N)` et `impair(N)` permettant de savoir si un nombre $N$ est pair et si un nombre $N$ est impair."
   ]
  },
  {
   "cell_type": "code",
   "execution_count": 12,
   "metadata": {},
   "outputs": [],
   "source": [
    "def Pair(N):\n",
    "    if N == 1:\n",
    "        return False\n",
    "    return Impair(N-1)\n",
    " \n",
    "def Impair(N):\n",
    "    if N == 1:\n",
    "        return True\n",
    "    return Pair(N-1)"
   ]
  },
  {
   "cell_type": "code",
   "execution_count": 11,
   "metadata": {},
   "outputs": [
    {
     "data": {
      "text/plain": [
       "False"
      ]
     },
     "execution_count": 11,
     "metadata": {},
     "output_type": "execute_result"
    }
   ],
   "source": [
    "Impair(112)"
   ]
  },
  {
   "cell_type": "markdown",
   "metadata": {},
   "source": [
    "### **Exercice 4 :**\n",
    "Un mot est un palindrome si on peut le lire dans les deux sens de gauche à droite et de droite à gauche. Exemple : KAYAK est un palindrome. \n",
    "\n",
    "Ecrire une fonction récursive `palindrome(ch)` permettant de vérifier si un mot ch (de type **str** Sous Python) est un palindrome.\n",
    "\n",
    "Pour en savoir pus sur le type str de Python : \n",
    "https://docs.python.org/3/tutorial/introduction.html#strings"
   ]
  },
  {
   "cell_type": "code",
   "execution_count": 5,
   "metadata": {},
   "outputs": [
    {
     "name": "stdout",
     "output_type": "stream",
     "text": [
      "True\n"
     ]
    }
   ],
   "source": [
    "def palindrome(ch):\n",
    "    if len(ch) == 1:\n",
    "        return True\n",
    "    if ch[0] == ch[-1]:\n",
    "        return palindrome(ch[1:len(ch)-1])\n",
    "    else: \n",
    "        return False\n",
    " \n",
    " \n",
    "ch = \"KAYAK\"\n",
    "print(palindrome(ch))"
   ]
  }
 ],
 "metadata": {
  "kernelspec": {
   "display_name": "Python 3 (ipykernel)",
   "language": "python",
   "name": "python3"
  },
  "language_info": {
   "codemirror_mode": {
    "name": "ipython",
    "version": 3
   },
   "file_extension": ".py",
   "mimetype": "text/x-python",
   "name": "python",
   "nbconvert_exporter": "python",
   "pygments_lexer": "ipython3",
   "version": "3.10.8"
  },
  "vscode": {
   "interpreter": {
    "hash": "aee8b7b246df8f9039afb4144a1f6fd8d2ca17a180786b69acc140d282b71a49"
   }
  }
 },
 "nbformat": 4,
 "nbformat_minor": 4
}
