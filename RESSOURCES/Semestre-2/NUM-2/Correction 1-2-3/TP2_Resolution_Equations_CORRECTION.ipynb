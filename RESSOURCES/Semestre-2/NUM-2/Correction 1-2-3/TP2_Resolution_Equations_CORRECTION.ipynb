{
 "cells": [
  {
   "cell_type": "markdown",
   "metadata": {
    "tags": []
   },
   "source": [
    "# TP 2 : Approximation de solution d'équation\n",
    "\n",
    "Nous revenons dans ce TP sur les principales méthodes itératives de résolution d'une équation de la forme : \n",
    "$$ f(x) =0 $$\n",
    "où $f$ est une fonction définie et continue sur un intervalle $[a,b]$. On se placera dans le cas où, localement, il y a une unique solution pour en donner un algorithme d'approximation. \n",
    "\n",
    "Les principales méthodes sont : \n",
    "- la méthode de la dichotomie (voir TP1)\n",
    "- la méthode de Newton (ou Newton-Raphson)\n",
    "- la méthode du point fixe\n",
    "\n",
    "----"
   ]
  },
  {
   "cell_type": "markdown",
   "metadata": {},
   "source": [
    "## 1. Résolution par la méthode de Newton\n",
    "\n",
    "**Rappel du cours :**\n",
    "On suppose que la fonction $f$ vérifie les hypothèses suivantes : \n",
    "\n",
    "- (h1) $f$ est continue sur $[a,b]$\n",
    "- (h2) $f$ est strictement monotone sur $[a,b]$\n",
    "- (h3) $f(a)$ et $f(b)$ sont de signes contraires\n",
    "- (h4) $f$ est dérivable sur $[a,b]$ et $f'(x) \\neq 0 \\quad \\forall x \\in [a,b]$\n",
    "\n",
    "Les hypothèses (h1), (h2), (h3) garantissent l'existence et l'unicité d'une solution $c$ à l'équation $f(x)=0$. \n",
    "\n",
    "Sous les hypothèses (h1), (h2), (h3), (h4) et en ajoutant l'hypothèse \n",
    "\n",
    "- (h5) $f$ est deux fois dérivable sur $[a,b]$\n",
    "\n",
    "On admettra que, pour un $x_0$ suffisamment proche de l'unique solution $c$, la suite de Newton $(x_n)$ définie par :  \n",
    "$$ x_{n+1} = x_n -\\dfrac{f(x_n)}{f'(x_n)} \\quad \\forall n \\geq 1 $$\n",
    " converge vers $c$. \n"
   ]
  },
  {
   "cell_type": "markdown",
   "metadata": {
    "tags": []
   },
   "source": [
    "#### **Question 1 :** *une premiere fonction Newton*\n",
    "\n",
    "Complétez la fonction `newton1` qui retourne les `N` premiers termes de la suite de Newton $(x_n)$ d'une fonction `f` et de sa dérivée `fprime` pour un terme initial `x0` donné : \n"
   ]
  },
  {
   "cell_type": "code",
   "execution_count": 8,
   "metadata": {},
   "outputs": [],
   "source": [
    "def newton1(f,fprime,x0,N):   \n",
    "    x=x0\n",
    "    print(f\"rang 0 : {x}\")\n",
    "    for i in range(1,N): \n",
    "        x = x - f(x)/fprime(x) \n",
    "        print(f\"rang {i} : {x}\")\n",
    "        "
   ]
  },
  {
   "cell_type": "markdown",
   "metadata": {},
   "source": [
    "#### **Question 2 :** *un premier exemple*\n",
    "\n",
    "On considère l'équation $f(x)=0$ où la fonction $f_1$ est définie sur $[0,1]$ par : \n",
    "\n",
    "$$f(x)=10x - 9e^{-x}$$\n",
    "\n",
    "On admettra que la fonction $f$ vérifie les hypothèses (h1) à (h5). \n",
    "\n",
    "\n",
    "Créez les deux fonctions `f` et sa dérivée `fprime` puis afficher avec `newton1` les 8 premiers termes de la suite de Newton en partant de la valeur initiale $x_0=0$.\n",
    "\n",
    "Observez la convergence de la suite $(x_n)$. "
   ]
  },
  {
   "cell_type": "code",
   "execution_count": 10,
   "metadata": {},
   "outputs": [
    {
     "name": "stdout",
     "output_type": "stream",
     "text": [
      "rang 0 : 0\n",
      "rang 1 : 0.47368421052631576\n",
      "rang 2 : 0.5292772678655281\n",
      "rang 3 : 0.5298329121499656\n",
      "rang 4 : 0.529832965633434\n",
      "rang 5 : 0.5298329656334344\n",
      "rang 6 : 0.5298329656334344\n",
      "rang 7 : 0.5298329656334344\n"
     ]
    }
   ],
   "source": [
    "# !pip install numpy\n",
    "import numpy as np\n",
    "\n",
    "def f(x):\n",
    "    return 10*x-9*np.exp(-x)\n",
    "\n",
    "def fprime(x):\n",
    "    return 10+9*np.exp(-x)\n",
    "\n",
    "newton1(f,fprime,0,8)"
   ]
  },
  {
   "cell_type": "code",
   "execution_count": 12,
   "metadata": {},
   "outputs": [
    {
     "data": {
      "image/png": "[encoded data removed]",
      "text/plain": [
       "<Figure size 640x480 with 1 Axes>"
      ]
     },
     "metadata": {},
     "output_type": "display_data"
    }
   ],
   "source": [
    "# Complément : tracé de la courbe représentative de la fonction f pour vérifier la racine sur [0,1]\n",
    "# ---------------------------------------------------------------------------------------------------\n",
    "\n",
    "#!pip install matplotlib\n",
    "import matplotlib.pyplot as plt\n",
    "\n",
    "X = np.arange(0,3,0.01)\n",
    "Y = f(X)\n",
    "\n",
    "plt.axhline(y=0,color =\"black\") # axe des abscisses\n",
    "plt.grid()\n",
    "plt.plot(X, Y)\n",
    "\n",
    "plt.show()"
   ]
  },
  {
   "cell_type": "markdown",
   "metadata": {},
   "source": [
    "#### **Question 3 :** *Choix de la valeur initiale*\n",
    "\n",
    "On considère l'équation $h(x)=0$ où la fonction $h$ est définie sur $[1,2]$ par : \n",
    "\n",
    "$$h(x)=x^3 -4,53x^2+6,0291x-2,218039$$\n",
    "\n",
    "$h$ est un polynôme qui vérifie les hypothèses (h1) à (h5). \n",
    "\n",
    "\n",
    "Créez les deux fonctions `h` et sa dérivée `hprime` puis affichez avec `newton` les 10 premiers termes de la suite de Newton en partant  :  \n",
    "-  de la valeur initiale $x_0=1$ \n",
    "-  de la valeur initiale $x_0=2$\n",
    "-  de la valeur initiale $x_0=1,1$\n",
    "-  de la valeur initiale $x_0=1,15$\n",
    "\n",
    "Que constate-t-on ? "
   ]
  },
  {
   "cell_type": "code",
   "execution_count": 13,
   "metadata": {},
   "outputs": [],
   "source": [
    "# création de la fonction h et de sa dérivée hprime : \n",
    "def h(x):\n",
    "    return x**3-4.53*x**2+6.0291*x-2.218039\n",
    "\n",
    "def hprime(x):\n",
    "    return 3*x**2-9.06*x+6.0291"
   ]
  },
  {
   "cell_type": "code",
   "execution_count": 14,
   "metadata": {},
   "outputs": [
    {
     "name": "stdout",
     "output_type": "stream",
     "text": [
      "rang 0 : 1\n",
      "rang 1 : 10.095825242718185\n",
      "rang 2 : 7.254956640046165\n",
      "rang 3 : 5.371608539815618\n",
      "rang 4 : 4.131949563012361\n",
      "rang 5 : 3.329534273275084\n",
      "rang 6 : 2.8309072161719278\n",
      "rang 7 : 2.552105222629322\n",
      "rang 8 : 2.4350711487389165\n",
      "rang 9 : 2.4115993875473\n"
     ]
    }
   ],
   "source": [
    "# avec x0=1\n",
    "newton1(h,hprime,1,10)\n",
    "\n",
    "# conclusion : la suite converge vers une racine (2,41) mais ce n'est pas la racine recherchée (dans l'intervalle [1,2])"
   ]
  },
  {
   "cell_type": "code",
   "execution_count": 15,
   "metadata": {},
   "outputs": [
    {
     "name": "stdout",
     "output_type": "stream",
     "text": [
      "rang 0 : 2\n",
      "rang 1 : -1.078536853685343\n",
      "rang 2 : -0.2882601286473948\n",
      "rang 3 : 0.20176766935263007\n",
      "rang 4 : 0.4741956150722614\n",
      "rang 5 : 0.5867869058260516\n",
      "rang 6 : 0.6085336501499943\n",
      "rang 7 : 0.6093325165773918\n",
      "rang 8 : 0.6093335800623004\n",
      "rang 9 : 0.6093335800641841\n"
     ]
    }
   ],
   "source": [
    "# avec x0=2\n",
    "newton1(h,hprime,2,10)\n",
    "\n",
    "# conclusion : la suite converge vers une racine (0.609) mais ce n'est pas la racine recherchée (dans l'intervalle [1,2])"
   ]
  },
  {
   "cell_type": "code",
   "execution_count": 16,
   "metadata": {},
   "outputs": [
    {
     "name": "stdout",
     "output_type": "stream",
     "text": [
      "rang 0 : 1.1\n",
      "rang 1 : 1.9591430433365886\n",
      "rang 2 : 0.6303854689915693\n",
      "rang 3 : 0.60855288796862\n",
      "rang 4 : 0.6093325670643164\n",
      "rang 5 : 0.609333580062475\n",
      "rang 6 : 0.609333580064184\n",
      "rang 7 : 0.609333580064184\n",
      "rang 8 : 0.609333580064184\n",
      "rang 9 : 0.609333580064184\n"
     ]
    }
   ],
   "source": [
    "# avec x0=1,1\n",
    "newton1(h,hprime,1.1,10)\n",
    "\n",
    "# conclusion : la suite converge vers une racine (0.609) mais ce n'est pas la racine recherchée (dans l'intervalle [1,2])"
   ]
  },
  {
   "cell_type": "code",
   "execution_count": 17,
   "metadata": {},
   "outputs": [
    {
     "name": "stdout",
     "output_type": "stream",
     "text": [
      "rang 0 : 1.15\n",
      "rang 1 : 1.7309090909090896\n",
      "rang 2 : 1.4775674295682106\n",
      "rang 3 : 1.5100844381847924\n",
      "rang 4 : 1.5099999999985154\n",
      "rang 5 : 1.5100000000000011\n",
      "rang 6 : 1.5099999999999978\n",
      "rang 7 : 1.509999999999999\n",
      "rang 8 : 1.51\n",
      "rang 9 : 1.5099999999999978\n"
     ]
    }
   ],
   "source": [
    "# avec x0=1,15\n",
    "newton1(h,hprime,1.15,10)\n",
    "\n",
    "# conclusion : la suite converge vers la racine recherchée (dans l'intervalle [1,2])"
   ]
  },
  {
   "cell_type": "markdown",
   "metadata": {},
   "source": [
    "Pour comprendre à quoi correspondent les valeurs approchées précédentes, tracez la courbe de la fonction `h` sur l'intervalle [0,4] : "
   ]
  },
  {
   "cell_type": "code",
   "execution_count": 76,
   "metadata": {},
   "outputs": [
    {
     "data": {
      "image/png": "[encoded data removed]",
      "text/plain": [
       "<Figure size 640x480 with 1 Axes>"
      ]
     },
     "metadata": {},
     "output_type": "display_data"
    }
   ],
   "source": [
    "#!pip install matplotlib\n",
    "import matplotlib.pyplot as plt\n",
    "import numpy as np\n",
    "\n",
    "X = np.arange(0,4,0.01)\n",
    "Y = h(X)\n",
    "\n",
    "plt.axhline(y=0,color =\"black\") # axe des abscisses\n",
    "plt.grid()\n",
    "plt.plot(X, Y)\n",
    "\n",
    "plt.show()\n",
    "\n",
    "\n",
    "# on lit sur le graphique les 3 racines : 0.6, 1.5 et 2.4"
   ]
  },
  {
   "cell_type": "markdown",
   "metadata": {},
   "source": [
    "#### **Question 4 :**  *Changement de critère d'arrêt*\n",
    "\n",
    "Dans la situation où les 5 hypothèses citées précédemment sont satisfaites, puisque nous sommes assurés de la convergence et de la stricte monotonie de la fonction $f$, il est possible de passer en paramètre la marge d'erreur $\\epsilon$ (à la place du nombre d'itérations) et de prendre alors comme critère d'arrêt : \n",
    "\n",
    "$$ f(x_n + \\epsilon) \\quad \\text{ et } \\quad f(x_n - \\epsilon)  \\quad \\text{ de signes contraires} $$\n",
    "\n",
    "La valeur retournée sera alors une valeur approchée à $\\epsilon$ près de la solution. \n",
    "\n",
    "A partir de la fonction `newton1`, créez la fonction `newtow2` en tenant compte de ce critère d'arrêt. \n",
    "La fonction devra retourner en plus le nombre d'itérations effectuées.\n"
   ]
  },
  {
   "cell_type": "code",
   "execution_count": 18,
   "metadata": {},
   "outputs": [],
   "source": [
    "def newton2(f,fprime,x0,e):    # à completer \n",
    "    x=x0\n",
    "    iter=0\n",
    "    while (f(x+e) * f(x-e) > 0):\n",
    "        iter += 1\n",
    "        x = x - f(x)/fprime(x) \n",
    "    print (f\"itération {iter} : {x}\")"
   ]
  },
  {
   "cell_type": "markdown",
   "metadata": {},
   "source": [
    "Testez cette fonction sur la fonction f de la question 2 à partir de la valeur $x0=0$ et pour $\\epsilon = 10^{-4}$"
   ]
  },
  {
   "cell_type": "code",
   "execution_count": 19,
   "metadata": {},
   "outputs": [
    {
     "name": "stdout",
     "output_type": "stream",
     "text": [
      "itération 3 : 0.5298329121499656\n"
     ]
    }
   ],
   "source": [
    "newton2(f,fprime,0,0.0001)"
   ]
  },
  {
   "cell_type": "markdown",
   "metadata": {},
   "source": [
    "#### **Question 5 :** *Rapidité de convergence*\n",
    "\n",
    "Tester la fonction précédente pour la résolution de l'équation \n",
    " $$x^2-10=0 \\quad \\text{ avec } \\quad g(x)= x^2-10 $$\n",
    "sur l'intervalle $[0,5]$ en partant de $x_0=4$. \n",
    "  \n",
    "La solution positive exacte est connue, $\\sqrt{10}$. En comparant avec le résultat de la fonction sqrt(), déterminer combien d'itérations sont nécessaires pour que la valeur approchée retournée par Newton contienne 13 décimales exactes. \n",
    "\n"
   ]
  },
  {
   "cell_type": "code",
   "execution_count": 20,
   "metadata": {},
   "outputs": [
    {
     "name": "stdout",
     "output_type": "stream",
     "text": [
      "valeur par sqrt:  3.1622776601683795\n",
      "itération 4 : 3.162277660168387\n"
     ]
    }
   ],
   "source": [
    "from math import sqrt\n",
    "def g(x):\n",
    "    return x**2-10\n",
    "\n",
    "def gprime(x):\n",
    "    return 2*x\n",
    "\n",
    "print('valeur par sqrt: ', sqrt(10))\n",
    "newton2(g,gprime,4,10**(-13))\n",
    "\n",
    "# la valeur x_4 contient déjà 13 décimales exactes\n"
   ]
  },
  {
   "cell_type": "markdown",
   "metadata": {},
   "source": [
    "#### **Question 6 :** *Comparaison avec dichotomie*\n",
    "\n",
    "Reprener le TP1 pour comparer la vitesse de convergence de la méthode de Newton dans la question précédente ($x^2-10=0$) avec la méthode par dichtomie. \n",
    "\n",
    "Vous pourrez choisir l'intervalle initial $[a,b]=[3,4]$.\n",
    "\n",
    "Vous pourrez améliorer la fonction `dichotomie` afin de retourner le nombre d'itérations pour que le milieu $x_n=\\dfrac{a_n+b_n}{2}$ soit une valeur approchée de la solution à $\\epsilon$ prés.\n"
   ]
  },
  {
   "cell_type": "code",
   "execution_count": 21,
   "metadata": {},
   "outputs": [
    {
     "name": "stdout",
     "output_type": "stream",
     "text": [
      "itération 44 : 3.1622776601683995\n"
     ]
    }
   ],
   "source": [
    "EPSILON = 10**(-13)\n",
    "\n",
    "def f(x):\n",
    "    return x**2-10\n",
    "\n",
    "def dichotomie(fun, a, b):\n",
    "    iter=0\n",
    "    while (b-a) > EPSILON:  \n",
    "        iter += 1\n",
    "        m = (a + b) / 2\n",
    "        if fun(a) * fun(m) > 0:\n",
    "            a = m  \n",
    "        else:\n",
    "            b = m \n",
    "    print (f\"itération {iter} : {m}\")\n",
    "\n",
    "dichotomie(g, 3, 4)  \n",
    "\n",
    "# Conclusion : il a fallu 44 itérations pour obtenir une valeur avec 13 décimales exactes -> convergence lente"
   ]
  },
  {
   "cell_type": "markdown",
   "metadata": {},
   "source": [
    "#### **Question 7 :** *Méthode de Newton avec dérivation numérique* \n",
    "\n",
    "La méthode de Newton nécessite de disposer de la fonction dérivée de $f$, ce qui n'est pas toujours le cas. \n",
    "\n",
    "Il faut alors évaluer numériquement une valeur approchée des nombres dérivés $f'(x)$ aux points $x$.  \n",
    "\n",
    "Soit $f : \\mathbb{R} -> \\mathbb{R} $ et $a \\in \\mathbb{R}$. On sait que, lorsque $f$ est dérivable, le nombre dérivée en $a$ est défini par les limites suivantes : \n",
    "\n",
    "$$ f'(a)= \\lim\\limits_{h \\to 0} \\dfrac{f(a+h)-f(a)}{h} \\quad \\text{ et } \\quad  f'(a)= \\lim\\limits_{h \\to 0} \\dfrac{f(a+h)-f(a-h)}{2h}  $$\n",
    "\n",
    "Ainsi, pour des valeurs de $h$ petites : \n",
    "\n",
    "$$ f'(a) \\approx \\dfrac{f(a+h)-f(a)}{h} \\quad \\text{ et } \\quad  f'(a) \\approx \\dfrac{f(a+h)-f(a-h)}{2h}  $$\n",
    "\n",
    "Compléter les fonctions  `derive1` et `derive2` suivantes qui retournent une valeur approchée du nombre dérivée d'une fonction $f$ en un point $a$ à partir des 2 approximations précédentes. \n",
    "\n",
    "Vérifier la qualité de ces approximations pour le nombre dérivée de la fonction $f(x)=x^2$ au point $a=7$ avec $h=10^{-i}$ pour $i$ variant de 1 à 16. "
   ]
  },
  {
   "cell_type": "code",
   "execution_count": 22,
   "metadata": {},
   "outputs": [],
   "source": [
    "def derive1(f,a,h):\n",
    "    return  (f(a+h)-f(a))/h\n",
    "\n",
    "def derive2(f,a,h):\n",
    "    return  (f(a+h)-f(a-h))/(2*h)"
   ]
  },
  {
   "cell_type": "code",
   "execution_count": 24,
   "metadata": {},
   "outputs": [
    {
     "name": "stdout",
     "output_type": "stream",
     "text": [
      "1\n",
      "14.099999999999966\n",
      "13.99999999999995\n",
      "2\n",
      "14.009999999999678\n",
      "13.999999999999702\n",
      "3\n",
      "14.00100000000748\n",
      "14.000000000006452\n",
      "4\n",
      "14.000099999975646\n",
      "13.999999999967372\n",
      "5\n",
      "14.000009999648453\n",
      "13.99999999946999\n",
      "6\n",
      "14.000001002045792\n",
      "14.000000003733248\n",
      "7\n",
      "14.000000163605364\n",
      "14.000000057023954\n",
      "8\n",
      "13.999999737279722\n",
      "13.999999737279722\n",
      "9\n",
      "14.000001158365194\n",
      "14.000001158365194\n",
      "10\n",
      "14.000036685501982\n",
      "14.000001158365194\n",
      "11\n",
      "13.999823522681254\n",
      "13.999823522681254\n",
      "12\n",
      "14.004797321831575\n",
      "14.001244608152774\n",
      "13\n",
      "14.068746168049984\n",
      "14.068746168049984\n",
      "14\n",
      "13.500311979441904\n",
      "13.500311979441904\n",
      "15\n",
      "14.210854715202002\n",
      "14.210854715202002\n"
     ]
    }
   ],
   "source": [
    "f=lambda x:x**2  # définition d'une fonction sur une ligne\n",
    "for i in range(1,16):\n",
    "    print(i)\n",
    "    print(derive1(f,7,10**(-i)))\n",
    "    print(derive2(f,7,10**(-i)))"
   ]
  },
  {
   "cell_type": "markdown",
   "metadata": {},
   "source": [
    "#### **Question 8 :**\n",
    "\n",
    "A partir de la fonction `newton2(f,fprime,x0,e)` créée précédemment, définir une variante `newton3(f,x0,e,h)` où l'appel à la fonction dérivée est remplacé par un calcul approché avec la fonction `derive2`. "
   ]
  },
  {
   "cell_type": "code",
   "execution_count": 25,
   "metadata": {},
   "outputs": [],
   "source": [
    "def newton2(f,fprime,x0,e):    # à completer \n",
    "    x=x0\n",
    "    iter=0\n",
    "    while (f(x+e) * f(x-e) > 0):\n",
    "        iter += 1\n",
    "        x = x - f(x)/fprime(x) \n",
    "    print (f\"itération {iter} : {x}\")\n",
    "        \n",
    "def newton3(f,x0,e,h):    # à completer \n",
    "    x=x0\n",
    "    iter=0\n",
    "    while (f(x+e) * f(x-e) > 0):\n",
    "        iter += 1\n",
    "        x = x - f(x)/derive2(f,x,h) \n",
    "    print (f\"itération {iter} : {x}\")    \n"
   ]
  },
  {
   "cell_type": "markdown",
   "metadata": {},
   "source": [
    "Testez cette fonction sur le cas de la fonction f de la question 2 : "
   ]
  },
  {
   "cell_type": "code",
   "execution_count": 29,
   "metadata": {},
   "outputs": [
    {
     "name": "stdout",
     "output_type": "stream",
     "text": [
      "résultat avec newton 2 :\n",
      "itération 3 : 0.5298329121499656\n",
      "résultat avec newton 3 :\n",
      "itération 3 : 0.529832912149963\n"
     ]
    }
   ],
   "source": [
    "f=lambda x:10*x-9*exp(-x)\n",
    "fprime=lambda x:10+9*exp(-x)\n",
    "\n",
    "print(\"résultat avec newton 2 :\")\n",
    "newton2(f,fprime,0,10**(-6))\n",
    "\n",
    "print(\"résultat avec newton 3 :\")\n",
    "newton3(f,0,10**(-6),10**(-6))\n"
   ]
  },
  {
   "cell_type": "markdown",
   "metadata": {},
   "source": [
    "#### **Question 9 :**  *Amélioration de la méthode de Newton*\n",
    "\n",
    "\n",
    "Définir une nouvelle fonction `newton4` en modifiant le critère d'arrêt qui devra être  : deux termes consécutifs sont à une distance inférieure à une certaine constante passée en paramètre.  \n",
    "\n",
    "$$ \\mid x_{n+1} - x_n \\mid \\leq e $$\n",
    "\n",
    "où $e$ est un paramètre. "
   ]
  },
  {
   "cell_type": "code",
   "execution_count": 30,
   "metadata": {},
   "outputs": [],
   "source": [
    "def newton4(f,fprime,x0,epsilon):\n",
    "    x = x0\n",
    "    y = x0-f(x0)/fprime(x0)\n",
    "    iter = 1\n",
    "    while abs(x-y)> epsilon:\n",
    "        iter += 1\n",
    "        x = y\n",
    "        y = x - f(x)/fprime(x)\n",
    "    print(f\"itération {iter} : {y}\")\n",
    "    "
   ]
  },
  {
   "cell_type": "code",
   "execution_count": 31,
   "metadata": {},
   "outputs": [
    {
     "name": "stdout",
     "output_type": "stream",
     "text": [
      "itération 4 : 0.529832965633434\n"
     ]
    }
   ],
   "source": [
    "newton4(f,fprime,0,10**(-6))"
   ]
  },
  {
   "cell_type": "markdown",
   "metadata": {},
   "source": [
    "Dans le cas où la convergence de la suite n'est pas assurée, cette dernière version pouvant facilement aboutir à une boucle infinie, modifiez cette version en limitant le nombre d'itération par un nombre maximal d'itération passé en paramètre. La fonction devra retourner le nombre d'itérations effectuées."
   ]
  },
  {
   "cell_type": "code",
   "execution_count": 32,
   "metadata": {},
   "outputs": [],
   "source": [
    "def newton4(f,fprime,x0,epsilon):\n",
    "    x = x0\n",
    "    y = x0-f(x0)/fprime(x0)\n",
    "    iter = 1\n",
    "    while (abs(x-y)> epsilon) and (iter < imax):\n",
    "        iter += 1\n",
    "        x = y\n",
    "        y = x - f(x)/fprime(x)\n",
    "    print(f\"itération {iter} : {y}\")\n"
   ]
  }
 ],
 "metadata": {
  "kernelspec": {
   "display_name": "Python 3 (ipykernel)",
   "language": "python",
   "name": "python3"
  },
  "language_info": {
   "codemirror_mode": {
    "name": "ipython",
    "version": 3
   },
   "file_extension": ".py",
   "mimetype": "text/x-python",
   "name": "python",
   "nbconvert_exporter": "python",
   "pygments_lexer": "ipython3",
   "version": "3.10.8"
  },
  "vscode": {
   "interpreter": {
    "hash": "aee8b7b246df8f9039afb4144a1f6fd8d2ca17a180786b69acc140d282b71a49"
   }
  }
 },
 "nbformat": 4,
 "nbformat_minor": 4
}
