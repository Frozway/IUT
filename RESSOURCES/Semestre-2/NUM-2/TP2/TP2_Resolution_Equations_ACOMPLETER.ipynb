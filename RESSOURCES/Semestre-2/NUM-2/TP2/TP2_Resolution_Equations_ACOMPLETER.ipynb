{
 "cells": [
  {
   "cell_type": "markdown",
   "metadata": {},
   "source": [
    "# TP 2 : Approximation de solution d'équation\n",
    "\n",
    "Nous revenons dans ce TP sur les principales méthodes itératives de résolution d'une équation de la forme : \n",
    "$$ f(x) =0 $$\n",
    "où $f$ est une fonction définie et continue sur un intervalle $[a,b]$. On se placera dans le cas où, localement, il y a une unique solution pour en donner un algorithme d'approximation. \n",
    "\n",
    "Les principales méthodes sont : \n",
    "- la méthode de la dichotomie (voir TP1)\n",
    "- la méthode de Newton (ou Newton-Raphson)\n",
    "- la méthode du point fixe\n",
    "\n",
    "----"
   ]
  },
  {
   "cell_type": "markdown",
   "metadata": {},
   "source": [
    "## Résolution par la méthode de Newton\n",
    "\n",
    "**Rappel du cours :**\n",
    "On suppose que la fonction $f$ vérifie les hypothèses suivantes : \n",
    "\n",
    "- (h1) $f$ est continue sur $[a,b]$\n",
    "- (h2) $f$ est strictement monotone sur $[a,b]$\n",
    "- (h3) $f(a)$ et $f(b)$ sont de signes contraires\n",
    "- (h4) $f$ est dérivable sur $[a,b]$ et $f'(x) \\neq 0 \\quad \\forall x \\in [a,b]$\n",
    "\n",
    "Les hypothèses (h1), (h2), (h3) garantissent l'existence et l'unicité d'une solution $c$ à l'équation $f(x)=0$. \n",
    "\n",
    "Sous les hypothèses (h1), (h2), (h3), (h4) et en ajoutant l'hypothèse \n",
    "\n",
    "- (h5) $f$ est deux fois dérivable sur $[a,b]$\n",
    "\n",
    "On admettra que, pour un $x_0$ suffisamment proche de l'unique solution $c$, la suite de Newton $(x_n)$ définie par :  \n",
    "$$ x_{n+1} = x_n -\\dfrac{f(x_n)}{f'(x_n)} \\quad \\forall n \\geq 1 $$\n",
    " converge vers $c$. \n"
   ]
  },
  {
   "cell_type": "markdown",
   "metadata": {
    "tags": []
   },
   "source": [
    "#### **Question 1 :** *une premiere fonction Newton*\n",
    "\n",
    "Complétez la fonction `newton1` qui retourne les `N` premiers termes de la suite de Newton $(x_n)$ d'une fonction `f` et de sa dérivée `fprime` pour un terme initial `x0` donné : \n"
   ]
  },
  {
   "cell_type": "code",
   "execution_count": null,
   "metadata": {},
   "outputs": [],
   "source": [
    "def newton1(f,fprime,x0,N):    # à completer \n",
    "\n",
    "    \n",
    "    \n",
    "    "
   ]
  },
  {
   "cell_type": "markdown",
   "metadata": {},
   "source": [
    "#### **Question 2 :** *un premier exemple*\n",
    "\n",
    "On considère l'équation $f(x)=0$ où la fonction $f_1$ est définie sur $[0,1]$ par : \n",
    "\n",
    "$$f(x)=10x - 9e^{-x}$$\n",
    "\n",
    "On admettra que la fonction $f$ vérifie les hypothèses (h1) à (h5). \n",
    "\n",
    "\n",
    "Créez les deux fonctions `f` et sa dérivée `fprime` puis afficher avec `newton1` les 8 premiers termes de la suite de Newton en partant de la valeur initiale $x_0=0$.\n",
    "\n",
    "Observez la convergence de la suite $(x_n)$. "
   ]
  },
  {
   "cell_type": "code",
   "execution_count": null,
   "metadata": {},
   "outputs": [],
   "source": [
    "from math import exp\n",
    "\n",
    "# création des fonctions f et fprime\n",
    "def f(x):\n",
    "\n",
    "\n",
    "def fprime(x):\n",
    "\n",
    "\n",
    "# appel de la fonction newton1 :\n",
    "\n"
   ]
  },
  {
   "attachments": {},
   "cell_type": "markdown",
   "metadata": {},
   "source": [
    "#### **Question 3 :** *Choix de la valeur initiale*\n",
    "\n",
    "On considère l'équation $h(x)=0$ où la fonction $h$ est définie sur $[1,2]$ par : \n",
    "\n",
    "$$h(x)=x^3 -4,53x^2+6,0291x-2,218039$$\n",
    "\n",
    "$h$ est un polynôme qui vérifie les hypothèses (h1) à (h5). \n",
    "\n",
    "\n",
    "Créez les deux fonctions `h` et sa dérivée `hprime` puis affichez avec `newton1` les 10 premiers termes de la suite de Newton en partant  :  \n",
    "-  de la valeur initiale $x_0=1$ \n",
    "-  de la valeur initiale $x_0=2$\n",
    "-  de la valeur initiale $x_0=1,1$\n",
    "-  de la valeur initiale $x_0=1,15$\n",
    "\n",
    "Que constate-t-on ? "
   ]
  },
  {
   "cell_type": "code",
   "execution_count": null,
   "metadata": {},
   "outputs": [],
   "source": [
    "# création de la fonction h et de sa dérivée hprime : \n",
    "\n",
    "\n",
    "\n",
    "\n"
   ]
  },
  {
   "cell_type": "code",
   "execution_count": null,
   "metadata": {},
   "outputs": [],
   "source": [
    "# Appel de la fonction newton1 avec x0=1\n"
   ]
  },
  {
   "cell_type": "code",
   "execution_count": null,
   "metadata": {},
   "outputs": [],
   "source": [
    "# Appel de la fonction newton1 avec x0=2\n"
   ]
  },
  {
   "cell_type": "code",
   "execution_count": null,
   "metadata": {},
   "outputs": [],
   "source": [
    "# Appel de la fonction newton1 avec x0=1,1\n"
   ]
  },
  {
   "cell_type": "code",
   "execution_count": null,
   "metadata": {},
   "outputs": [],
   "source": [
    "# Appel de la fonction newton1 avec x0=1,15\n"
   ]
  },
  {
   "attachments": {},
   "cell_type": "markdown",
   "metadata": {},
   "source": [
    "Pour comprendre à quoi correspondent les valeurs approchées obtenues précédemment, affichez la courbe de la fonction `h` sur l'intervalle [0,4] : "
   ]
  },
  {
   "cell_type": "code",
   "execution_count": null,
   "metadata": {},
   "outputs": [],
   "source": [
    "#!pip install matplotlib\n",
    "#!pip install numpy\n",
    "import matplotlib.pyplot as plt\n",
    "import numpy as np\n",
    "\n",
    "X = np.arange(0,4,0.01)\n",
    "Y = h(X)\n",
    "\n",
    "plt.axhline(y=0,color =\"black\") # axe des abscisses\n",
    "plt.plot(X, Y)\n",
    "\n",
    "plt.show()"
   ]
  },
  {
   "cell_type": "markdown",
   "metadata": {},
   "source": [
    "#### **Question 4 :**  *Changement de critère d'arrêt*\n",
    "\n",
    "Dans la situation où les 5 hypothèses citées précédemment sont satisfaites, puisque nous sommes assurés de la convergence et de la stricte monotonie de la fonction $f$, il est possible de passer en paramètre la marge d'erreur $\\epsilon$ (à la place du nombre d'itérations) et de prendre alors comme critère d'arrêt : \n",
    "\n",
    "$$ f(x_n + \\epsilon) \\quad \\text{ et } \\quad f(x_n - \\epsilon)  \\quad \\text{ de signes contraires} $$\n",
    "\n",
    "La valeur retournée sera alors une valeur approchée à $\\epsilon$ près de la solution. \n",
    "\n",
    "A partir de la fonction `newton1`, créez la fonction `newtow2` en tenant compte de ce critère d'arrêt. \n",
    "La fonction devra retourner en plus le nombre d'itérations effectuées.\n"
   ]
  },
  {
   "cell_type": "code",
   "execution_count": null,
   "metadata": {},
   "outputs": [],
   "source": [
    "def newton2(f,fprime,x0,e):    # à completer \n",
    "\n",
    "    \n",
    "    \n",
    "    \n",
    "    \n",
    "    "
   ]
  },
  {
   "attachments": {},
   "cell_type": "markdown",
   "metadata": {},
   "source": [
    "Testez la fonction `newton2` sur la fonction f de la question 2 à partir de la valeur $x0=0$ et pour $\\epsilon = 10^{-4}$"
   ]
  },
  {
   "cell_type": "code",
   "execution_count": null,
   "metadata": {},
   "outputs": [],
   "source": [
    "\n",
    "\n",
    "\n"
   ]
  },
  {
   "attachments": {},
   "cell_type": "markdown",
   "metadata": {},
   "source": [
    "#### **Question 5 :** *Rapidité de convergence*\n",
    "\n",
    "Testez la fonction `newton2` pour la résolution de l'équation \n",
    " $$x^2-10=0 \\quad \\text{ avec } \\quad g(x)= x^2-10 $$\n",
    "sur l'intervalle $[0,5]$ en partant de $x_0=4$. \n",
    "  \n",
    "La solution positive exacte est connue, $\\sqrt{10}$. En comparant avec le résultat de la fonction sqrt(), déterminer combien d'itérations sont nécessaires pour que la valeur approchée retournée par Newton contienne 13 décimales exactes. \n",
    "\n"
   ]
  },
  {
   "cell_type": "code",
   "execution_count": null,
   "metadata": {},
   "outputs": [],
   "source": [
    "from math import sqrt\n",
    "\n",
    "\n",
    "\n",
    "\n",
    "\n",
    "\n",
    "\n",
    "\n",
    "\n",
    "\n",
    "\n"
   ]
  },
  {
   "cell_type": "markdown",
   "metadata": {},
   "source": [
    "#### **Question 6 :** *Comparaison avec dichotomie*\n",
    "\n",
    "Reprener le TP1 pour comparer la vitesse de convergence de la méthode de Newton dans la question précédente ($x^2-10=0$ avec la méthode par dichtomie. \n",
    "\n",
    "Vous pourrez choisir l'intervalle initial $[a,b]=[3,4]$.\n",
    "\n",
    "Vous pourrez améliorer la fonction `dichotomie` afin de retourner le nombre d'itérations pour que le milieu $x_n=\\dfrac{a_n+b_n}{2}$ soit une valeur approchée de la solution à $\\epsilon$ prés.\n"
   ]
  },
  {
   "cell_type": "code",
   "execution_count": null,
   "metadata": {},
   "outputs": [],
   "source": [
    "\n",
    "\n",
    "\n",
    "\n",
    "\n",
    "\n",
    "\n",
    "\n",
    "\n",
    "\n",
    "\n",
    "\n",
    "\n"
   ]
  },
  {
   "cell_type": "markdown",
   "metadata": {},
   "source": [
    "#### **Question 7 :** *Méthode de Newton avec dérivation numérique* \n",
    "\n",
    "La méthode de Newton nécessite de disposer de la fonction dérivée de $f$, ce qui n'est pas toujours le cas. \n",
    "\n",
    "Il faut alors évaluer numériquement une valeur approchée des nombres dérivés $f'(x)$ aux points $x$.  \n",
    "\n",
    "Soit $f : \\mathbb{R} -> \\mathbb{R} $ et $a \\in \\mathbb{R}$. On sait que, lorsque $f$ est dérivable, le nombre dérivée en $a$ est défini par les limites suivantes : \n",
    "\n",
    "$$ f'(a)= \\lim\\limits_{h \\to 0} \\dfrac{f(a+h)-f(a)}{h} \\quad \\text{ et } \\quad  f'(a)= \\lim\\limits_{h \\to 0} \\dfrac{f(a+h)-f(a-h)}{2h}  $$\n",
    "\n",
    "Ainsi, pour des valeurs de $h$ petites : \n",
    "\n",
    "$$ f'(a) \\approx \\dfrac{f(a+h)-f(a)}{h} \\quad \\text{ et } \\quad  f'(a) \\approx \\dfrac{f(a+h)-f(a-h)}{2h}  $$\n",
    "\n",
    "Compléter les fonctions  `derive1` et `derive2` suivantes qui retournent une valeur approchée du nombre dérivée d'une fonction $f$ en un point $a$ à partir des 2 approximations précédentes. \n",
    "\n",
    "Vérifier la qualité de ces approximations pour le nombre dérivée de la fonction $f(x)=x^2$ au point $a=7$ avec $h=10^{-i}$ pour $i$ variant de 1 à 16. "
   ]
  },
  {
   "cell_type": "code",
   "execution_count": null,
   "metadata": {},
   "outputs": [],
   "source": [
    "def derive1(f,a,h):\n",
    "\n",
    "    \n",
    "\n",
    "def derive2(f,a,h):\n",
    "    \n",
    "    \n",
    "    "
   ]
  },
  {
   "cell_type": "code",
   "execution_count": null,
   "metadata": {},
   "outputs": [],
   "source": [
    "f=lambda x:x**2  # définition d'une fonction sur une ligne\n",
    "\n",
    "# à compléter\n",
    "\n",
    "\n"
   ]
  },
  {
   "cell_type": "markdown",
   "metadata": {},
   "source": [
    "#### **Question 8 :**\n",
    "\n",
    "A partir de la fonction `newton2` créée précédemment, définir une variante `newton3` où l'appel à la fonction dérivée est remplacé par un calcul approché avec la fonction `derive2`. "
   ]
  },
  {
   "cell_type": "code",
   "execution_count": null,
   "metadata": {},
   "outputs": [],
   "source": [
    "def newton3(f,x0,e,h):    # à completer \n",
    "   \n"
   ]
  },
  {
   "attachments": {},
   "cell_type": "markdown",
   "metadata": {},
   "source": [
    "Testez cette fonction `newton3` sur le cas de la fonction f de la question 2  et comparez avec `newton2`: "
   ]
  },
  {
   "cell_type": "code",
   "execution_count": null,
   "metadata": {},
   "outputs": [],
   "source": [
    "\n",
    "\n",
    "\n",
    "\n",
    "\n",
    "\n"
   ]
  },
  {
   "cell_type": "markdown",
   "metadata": {},
   "source": [
    "#### **Question 9 :**  *Amélioration de la méthode de Newton*\n",
    "\n",
    "\n",
    "Définir une nouvelle fonction `newton4` en modifiant le critère d'arrêt qui devra être  : deux termes consécutifs sont à une distance inférieure à une certaine constante passée en paramètre.  \n",
    "\n",
    "$$ \\mid x_{n+1} - x_n \\mid \\leq e $$\n",
    "\n",
    "où $e$ est un paramètre. "
   ]
  },
  {
   "cell_type": "code",
   "execution_count": null,
   "metadata": {},
   "outputs": [],
   "source": [
    "def newton4(f,fprime,x0,epsilon):\n",
    "   \n",
    "\n",
    "\n"
   ]
  },
  {
   "cell_type": "markdown",
   "metadata": {},
   "source": [
    "Dans le cas où la convergence de la suite n'est pas assurée, cette dernière version pouvant facilement aboutir à une boucle infinie, modifiez cette version en limitant le nombre d'itération par un nombre maximal d'itération passé en paramètre. La fonction devra retourner le nombre d'itérations effectuées."
   ]
  },
  {
   "cell_type": "code",
   "execution_count": null,
   "metadata": {},
   "outputs": [],
   "source": [
    "def newton5(f,fprime,x0,epsilon,imax):\n",
    "\n",
    "\n",
    "\n"
   ]
  }
 ],
 "metadata": {
  "kernelspec": {
   "display_name": "Python 3 (ipykernel)",
   "language": "python",
   "name": "python3"
  },
  "language_info": {
   "codemirror_mode": {
    "name": "ipython",
    "version": 3
   },
   "file_extension": ".py",
   "mimetype": "text/x-python",
   "name": "python",
   "nbconvert_exporter": "python",
   "pygments_lexer": "ipython3",
   "version": "3.9.2"
  },
  "vscode": {
   "interpreter": {
    "hash": "aee8b7b246df8f9039afb4144a1f6fd8d2ca17a180786b69acc140d282b71a49"
   }
  }
 },
 "nbformat": 4,
 "nbformat_minor": 4
}
