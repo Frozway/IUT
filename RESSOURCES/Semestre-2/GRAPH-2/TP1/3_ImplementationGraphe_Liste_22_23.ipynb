{
 "cells": [
  {
   "cell_type": "markdown",
   "metadata": {},
   "source": [
    "##  TP1 Python -  Représentation des graphes par les listes d'adjacence\n",
    "##  Implémentation en Python par des dictionnaires \n",
    "----"
   ]
  },
  {
   "cell_type": "markdown",
   "metadata": {},
   "source": [
    "Dans cette seconde partie de TP nous allons représenter des graphes par des listes d'adjacence. \n",
    "\n",
    "Nous devrons distinguer deux situations : \n",
    "1. le cas des graphes non valués \n",
    "2. le cas des graphes valués\n",
    "\n",
    "\n",
    "Cette réprésentation est particulièrement adaptée aux graphes creux (peu d'arêtes) et aux algorithmes de parcours. \n",
    "\n",
    "----"
   ]
  },
  {
   "cell_type": "markdown",
   "metadata": {},
   "source": [
    "### Installation préliminaire \n",
    "Exécutez la cellules de code suivante"
   ]
  },
  {
   "cell_type": "code",
   "execution_count": 1,
   "metadata": {},
   "outputs": [],
   "source": [
    "# modification du fichier de configuration de IPython \n",
    "# pour afficher plusieurs sorties dans une cellule de code du notebook\n",
    "from IPython.core.interactiveshell import InteractiveShell\n",
    "InteractiveShell.ast_node_interactivity = \"all\""
   ]
  },
  {
   "cell_type": "markdown",
   "metadata": {
    "tags": []
   },
   "source": [
    "---\n",
    "### 1. Cas des graphes non valués : \n",
    "Dans le cas de graphes non valués (orientés ou non orientés), les listes d'adjacence pourront être  implémentées par le type python dictionnaire (`dict`) dont les clés sont les sommets et les valeurs les listes des voisins/successeurs."
   ]
  },
  {
   "attachments": {
    "dda712f1-8ef6-4fc9-94f3-b60386a8ecc9.jpg": {
     "image/jpeg": "[encoded data removed]"
    }
   },
   "cell_type": "markdown",
   "metadata": {},
   "source": [
    "#### Question 1  : \n",
    "Créez deux dictionnaires GO et GNO représentant les listes d'adjacence des deux graphes suivants :  \n",
    "GO pour le Graphe Orienté et GNO pour le Graphe Non Orienté \n",
    "![graphesGOetGNO_dict.jpg](attachment:dda712f1-8ef6-4fc9-94f3-b60386a8ecc9.jpg)\n"
   ]
  },
  {
   "cell_type": "code",
   "execution_count": 2,
   "metadata": {},
   "outputs": [],
   "source": []
  },
  {
   "cell_type": "markdown",
   "metadata": {},
   "source": [
    "#### Question 2 : \n",
    "Quelle commande retourne le nombre de sommets du graphe GO ? "
   ]
  },
  {
   "cell_type": "code",
   "execution_count": null,
   "metadata": {},
   "outputs": [],
   "source": []
  },
  {
   "cell_type": "markdown",
   "metadata": {},
   "source": [
    "#### Question 3 :\n",
    "Écrivez la fonction `listerSommets(graphe)` qui prend en paramètre un graphe (sous la forme d'un dictionnaire) et retourne la liste de ses sommets triés par ordre alphanumérique. "
   ]
  },
  {
   "cell_type": "code",
   "execution_count": 5,
   "metadata": {},
   "outputs": [],
   "source": [
    "def listerSommets(graphe):\n",
    "    \n",
    "    \n",
    "    \n",
    "    \n"
   ]
  },
  {
   "cell_type": "code",
   "execution_count": null,
   "metadata": {},
   "outputs": [],
   "source": [
    "# test de la fonction\n",
    "listerSommets(GO)\n",
    "listerSommets(GNO)"
   ]
  },
  {
   "cell_type": "markdown",
   "metadata": {},
   "source": [
    "#### Question 4 : \n",
    "Écrivez la fonction `ajouterSommet(graphe,sommet)` qui ajoute un sommet à un graphe (sous la forme d'un dictionnaire) s'il n'existe pas."
   ]
  },
  {
   "cell_type": "code",
   "execution_count": 8,
   "metadata": {},
   "outputs": [],
   "source": [
    "def ajouterSommet(graphe,sommet):  \n",
    "\n",
    "    \n",
    "    \n",
    "    "
   ]
  },
  {
   "cell_type": "code",
   "execution_count": null,
   "metadata": {},
   "outputs": [],
   "source": [
    "# test de la fonction\n",
    "ajouterSommet(GO,'F')\n",
    "GO\n",
    "ajouterSommet(GO,'A')\n",
    "GO"
   ]
  },
  {
   "cell_type": "markdown",
   "metadata": {},
   "source": [
    "#### Question 5 :\n",
    "Écrivez la fonction `ajouterArete(graphe,sommetDebut,sommetFin,oriente)` qui ajoute une arête/un arc à un graphe (sous forme de dicionnaire). Si les sommets n'existent pas, on les ajoute. \n",
    "On distinguera les cas orienté et non orienté, par defaut le graphe est orienté. "
   ]
  },
  {
   "cell_type": "code",
   "execution_count": 12,
   "metadata": {},
   "outputs": [],
   "source": [
    "def ajouterArete(graphe, sommetDebut, sommetFin,oriente=True):\n",
    "\n",
    "    \n",
    "    \n",
    "    \n",
    "    \n",
    "    \n",
    "    "
   ]
  },
  {
   "cell_type": "code",
   "execution_count": null,
   "metadata": {},
   "outputs": [],
   "source": [
    "# test de la fonction\n",
    "\n",
    "\n",
    "\n"
   ]
  },
  {
   "cell_type": "markdown",
   "metadata": {},
   "source": [
    "#### Question 6 :\n",
    "Executez deux fois de suite votre fonction `ajouterArete()` avec la même arête. Que se passe-t-il ? "
   ]
  },
  {
   "cell_type": "code",
   "execution_count": null,
   "metadata": {},
   "outputs": [],
   "source": [
    "\n",
    "\n",
    "\n",
    "\n"
   ]
  },
  {
   "cell_type": "markdown",
   "metadata": {},
   "source": [
    "#### Question 7 :\n",
    "Écrivez la fonction `listerVoisins(graphe,sommet)`qui retourne la liste des voisins/successeurs d'un sommet d'un graphe (sous la forme d'un dictionnaire).\n",
    "\n",
    "Utilisez cette fonction pour améliorer la fonction `ajouterArete()` suite à la remarque de la question précédente."
   ]
  },
  {
   "cell_type": "code",
   "execution_count": 16,
   "metadata": {},
   "outputs": [],
   "source": [
    "def listerVoisins(graphe,sommet):\n",
    "\n",
    "    \n",
    "   \n",
    "    \n",
    "\n",
    "    \n",
    "    "
   ]
  },
  {
   "cell_type": "code",
   "execution_count": null,
   "metadata": {},
   "outputs": [],
   "source": [
    "# test de la fonction \n",
    "\n"
   ]
  },
  {
   "cell_type": "code",
   "execution_count": 16,
   "metadata": {},
   "outputs": [],
   "source": [
    "def ajouterArete(graphe, sommetDebut, sommetFin,oriente=True):\n",
    "   \n",
    "    \n",
    "\n",
    "    \n",
    "    "
   ]
  },
  {
   "cell_type": "code",
   "execution_count": null,
   "metadata": {},
   "outputs": [],
   "source": [
    "# test de la fonction\n",
    "\n",
    "\n"
   ]
  },
  {
   "cell_type": "markdown",
   "metadata": {},
   "source": [
    "---\n",
    "### 2. Cas des graphes valués : \n",
    "Dans le cas de graphes **valués** (orientés ou non orientés), les listes d'adjacence devront enregistrer les valuations de chaque arête/arc. Elles seront implémentées par le type python dictionnaire (`dict`) dont les clés sont les sommets et les valeurs les listes de couples (type `tuple` de Python)   (voisin,valuation)"
   ]
  },
  {
   "attachments": {
    "fecfed11-e8ad-4944-ba57-c07703fb5225.jpg": {
     "image/jpeg": "[encoded data removed]"
    }
   },
   "cell_type": "markdown",
   "metadata": {},
   "source": [
    "#### Question 8 :\n",
    "Créez le dictionnaire GV représentant les listes d'adjacence du graphe ci-dessous : \n",
    "\n",
    "![graphesGV_dict.jpg](attachment:fecfed11-e8ad-4944-ba57-c07703fb5225.jpg)"
   ]
  },
  {
   "cell_type": "code",
   "execution_count": 69,
   "metadata": {},
   "outputs": [],
   "source": []
  },
  {
   "cell_type": "markdown",
   "metadata": {
    "tags": []
   },
   "source": [
    "#### Question 9 : \n",
    "Votre fonction `listerVoisins` (question 7) est-elle adaptée au cas d'un graphe valué ? Sinon, la modifier. "
   ]
  },
  {
   "cell_type": "code",
   "execution_count": 74,
   "metadata": {},
   "outputs": [],
   "source": [
    "def listerVoisins(graphe,sommet):\n",
    "\n",
    "    \n",
    "    \n",
    "    \n",
    "   \n",
    "    "
   ]
  },
  {
   "cell_type": "markdown",
   "metadata": {},
   "source": [
    "#### Question 10 :\n",
    "Modifiez la fonction `ajouterArete(graphe,sommetDebut,sommetFin,oriente,poids)` (question 7) pour prendre en compte le cas d'un graphe valué. Par defaut, le poids de la nouvelle arête/arc sera de 1. "
   ]
  },
  {
   "cell_type": "code",
   "execution_count": 21,
   "metadata": {},
   "outputs": [],
   "source": [
    "def ajouterArete(graphe, sommetDebut, sommetFin,oriente=True,poids=1):\n",
    "\n",
    "    \n",
    "    \n",
    "    \n",
    "    \n"
   ]
  },
  {
   "cell_type": "code",
   "execution_count": null,
   "metadata": {},
   "outputs": [],
   "source": [
    "# tester votre fonction sur différents cas : \n",
    "\n",
    "\n",
    "\n",
    "\n"
   ]
  },
  {
   "cell_type": "markdown",
   "metadata": {},
   "source": [
    "#### Question 11 :\n",
    "Écrivez la fonction `importerMatrice(matrice,noms)` qui construit un dictionnaire (liste d'adjacence) à partir de la matrice de valuation du graphe (paramètre matrice) et de la liste de ses sommets (paramètre noms)"
   ]
  },
  {
   "cell_type": "code",
   "execution_count": 75,
   "metadata": {},
   "outputs": [],
   "source": [
    "def importerMatrice(matrice, noms):\n",
    "\n",
    "    \n",
    "    \n",
    "    "
   ]
  },
  {
   "cell_type": "code",
   "execution_count": null,
   "metadata": {},
   "outputs": [],
   "source": [
    "# test de la fonction \n",
    "M=[[0,10,12,0,0],[0,0,14,11,15],[0,0,0,20,0],[0,0,0,0,0],[0,0,0,0,0]]\n",
    "noms=['A','B','C','D','E']\n",
    "importerMatrice(M,noms)"
   ]
  }
 ],
 "metadata": {
  "kernelspec": {
   "display_name": "Python 3 (ipykernel)",
   "language": "python",
   "name": "python3"
  },
  "language_info": {
   "codemirror_mode": {
    "name": "ipython",
    "version": 3
   },
   "file_extension": ".py",
   "mimetype": "text/x-python",
   "name": "python",
   "nbconvert_exporter": "python",
   "pygments_lexer": "ipython3",
   "version": "3.10.8"
  }
 },
 "nbformat": 4,
 "nbformat_minor": 4
}
