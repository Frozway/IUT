{
 "cells": [
  {
   "cell_type": "markdown",
   "metadata": {},
   "source": [
    "## Présentation du type DICTIONNAIRE (DICT) en Python\n",
    "----"
   ]
  },
  {
   "cell_type": "markdown",
   "metadata": {},
   "source": [
    "#### Définition\n",
    "Les dictionnaires en Python (appelés aussi tableaux associatifs ou tables de hachage, 'Mapping type'), permettent d'associer des valeurs à des clés. A partir d'une clé, on peut accéder à la valeur qui lui est associée.\n",
    "\n",
    "- Les dictionnaires sont des **collections** comme les listes et les tuples. Ce sont des collections de couples (clé/valeur) : ces couples sont appelés des **items**. \n",
    "- Les clés peuvent être de type str, int, float, tuple de nombre, tuple de tuple de nombre... mais pas de type list ou un tuple de liste.\n",
    "- Les valeurs peuvent être de n'importe quel type.\n",
    "- Les dictionnaires sont des objets **mutables** : on peut ajouter, supprimer ou modifier le contenu.\n",
    "- L'ordre des éléments dans un dictionnaire n'a pas d'importance.\n",
    "- Le type des dictionnaires est **dict**.\n",
    "\n",
    "Lien :  https://docs.python.org/3/tutorial/datastructures.html#dictionaries\n"
   ]
  },
  {
   "cell_type": "markdown",
   "metadata": {},
   "source": [
    "#### Création d'un dictionnaire : "
   ]
  },
  {
   "cell_type": "code",
   "execution_count": null,
   "metadata": {},
   "outputs": [],
   "source": [
    "# Méthode 1 : Création d'un dictionnaire vide \n",
    "# puis ajout de chaque clé avec sa valeur associée\n",
    "age={}  # ou age=dict()\n",
    "age['ana']=30\n",
    "age['bob']=38\n",
    "age['eve']=27\n",
    "age['paul']=None\n",
    "age"
   ]
  },
  {
   "cell_type": "code",
   "execution_count": null,
   "metadata": {},
   "outputs": [],
   "source": [
    "# Méthode 2 : Création d'un dictionnaire\n",
    "# avec tous les couples (clé/valeurs)\n",
    "month={'january':31,'february':28,'march':31}\n",
    "month"
   ]
  },
  {
   "cell_type": "code",
   "execution_count": null,
   "metadata": {},
   "outputs": [],
   "source": [
    "# Méthode 3 : Création d'un dictionnaire\n",
    "# par conversion avec la fonction dict \n",
    "# d'une liste de couples (= tuples) (clé,valeur)\n",
    " \n",
    "L=[('yes','oui'),('no','non'),('why','pourquoi')]\n",
    "dictL=dict(L)\n",
    "dictL"
   ]
  },
  {
   "cell_type": "code",
   "execution_count": null,
   "metadata": {},
   "outputs": [],
   "source": [
    "# Méthode 4 : Création d'un dictionnaire\n",
    "# en compréhention (la clé doit être une valeur numérique)\n",
    "square={x:x**2 for x in range(5)}\n",
    "square"
   ]
  },
  {
   "cell_type": "markdown",
   "metadata": {},
   "source": [
    "#### Parcours d'un dictionnaire, accès aux clés et aux valeurs"
   ]
  },
  {
   "cell_type": "markdown",
   "metadata": {},
   "source": [
    "La fonction ```len``` retourne le nombre de couples (clé/valeur) dans le dictionnaire"
   ]
  },
  {
   "cell_type": "code",
   "execution_count": null,
   "metadata": {},
   "outputs": [],
   "source": [
    "age={'ana':30,'bob':38,'eve':27}\n",
    "len(age)"
   ]
  },
  {
   "cell_type": "markdown",
   "metadata": {},
   "source": [
    "- Les méthodes ```keys``` et ```values``` donnent accès aux clés ou au valeurs d'un dictionnaire.\n",
    "- La méthode ```items``` donne accès à l'ensemble des couples (clé,valeur)."
   ]
  },
  {
   "cell_type": "code",
   "execution_count": null,
   "metadata": {},
   "outputs": [],
   "source": [
    "print(age.keys())\n",
    "print(age.values())\n",
    "print(age.items())"
   ]
  },
  {
   "cell_type": "markdown",
   "metadata": {},
   "source": [
    "Ces trois méthodes retournent des objets qui sont des **vues** : ces vues sont mises à jour en même temps que le dictionnaire.\n",
    "- on peut faire un test d'appartenance sur ces vues\n",
    "- on peut itérer sur ces vues (boucle for)\n"
   ]
  },
  {
   "cell_type": "code",
   "execution_count": null,
   "metadata": {},
   "outputs": [],
   "source": [
    "# exemples de test d'appartenance sur les clés : \n",
    "'ana' in age.keys()\n",
    "\n",
    "# ou directement \n",
    "'ana' in age"
   ]
  },
  {
   "cell_type": "code",
   "execution_count": null,
   "metadata": {},
   "outputs": [],
   "source": [
    "# exemples de test d'appartenance sur les valeurs : \n",
    "31 in age.values()"
   ]
  },
  {
   "cell_type": "code",
   "execution_count": null,
   "metadata": {},
   "outputs": [],
   "source": [
    "# exemples de test d'appartenance sur les items :\n",
    "('ana',30) in age.items()"
   ]
  },
  {
   "cell_type": "code",
   "execution_count": null,
   "metadata": {},
   "outputs": [],
   "source": [
    "# exemples d'itération \n",
    "for k,v in age.items():\n",
    "    print(f\"clé : {k} --  valeur : {v}\")  # f-string\n",
    "    # print(\"clé : \" ,k ,\"-- valeur :\",v)"
   ]
  },
  {
   "cell_type": "code",
   "execution_count": null,
   "metadata": {},
   "outputs": [],
   "source": [
    "# En itérant directement sur le dictionnaire, \n",
    "# cela revient à itérer sur les clés : \n",
    "for k in age:\n",
    "    print(k)"
   ]
  },
  {
   "cell_type": "markdown",
   "metadata": {},
   "source": [
    "L'instruction ```valeur=dictionnaire[clé]``` permet d'obtenir la valeur du dictionnaire correspondante à la clé. Si la clé n'existe pas, une erreur arrête le programme."
   ]
  },
  {
   "cell_type": "code",
   "execution_count": null,
   "metadata": {},
   "outputs": [],
   "source": [
    "X=age['ana']\n",
    "print(X)\n",
    "print(\"l'âge de ana est \", age['ana'])"
   ]
  },
  {
   "cell_type": "markdown",
   "metadata": {},
   "source": [
    "#### Modification d'un dictionnaire\n",
    "Le dictionnaire est un type mutable, et donc on peut modifier la valeur associée à une clé. On utilise pour cela la syntaxe d'affectation : ```dictionnaire[clé]=nouvelle_valeur```\n",
    "\n",
    "Remarque : Si clé existe, sa valeur sera modifiée en nouvelle_valeur. Si la clé n'existe pas, un nouvel élément est créé dans le dictionnaire."
   ]
  },
  {
   "cell_type": "code",
   "execution_count": null,
   "metadata": {},
   "outputs": [],
   "source": [
    "print(age)\n",
    "age['john']=43\n",
    "age['bob']=40\n",
    "print(age)"
   ]
  },
  {
   "cell_type": "markdown",
   "metadata": {},
   "source": [
    "La fonction ```del```permet d'effacer un couple (clé,valeur) par sa clé dans un dictionnaire"
   ]
  },
  {
   "cell_type": "code",
   "execution_count": null,
   "metadata": {},
   "outputs": [],
   "source": [
    "print(age)\n",
    "del age['bob']\n",
    "print(age)"
   ]
  }
 ],
 "metadata": {
  "kernelspec": {
   "display_name": "Python 3 (ipykernel)",
   "language": "python",
   "name": "python3"
  },
  "language_info": {
   "codemirror_mode": {
    "name": "ipython",
    "version": 3
   },
   "file_extension": ".py",
   "mimetype": "text/x-python",
   "name": "python",
   "nbconvert_exporter": "python",
   "pygments_lexer": "ipython3",
   "version": "3.10.8"
  }
 },
 "nbformat": 4,
 "nbformat_minor": 4
}
