{
 "cells": [
  {
   "cell_type": "markdown",
   "metadata": {},
   "source": [
    "##  TP1 Python -  Représentation des graphes par les matrices d'adjacence\n",
    "##  Implémentation en Python par des tableaux array du package Numpy\n",
    "----"
   ]
  },
  {
   "cell_type": "markdown",
   "metadata": {},
   "source": [
    "Dans ce notebook, nous allons représenter les graphes par des matrices. Nous utiliserons pour ce choix d'implémentation le package *numpy* et le type *array*. \n",
    "\n",
    "Nous devrons distinguer deux situations : \n",
    "1. le cas des graphes non valués représentés par les matrices d'adjacence\n",
    "2. le cas des graphes valués représentés par les matrices de valuation (la présence d'une arête est indiquée par la valuation de cette arête)\n",
    "\n",
    "On supposera dans ce TP que les sommets des graphes sont numérotés à partir de 0 et identifiés par ce numéro. "
   ]
  },
  {
   "cell_type": "markdown",
   "metadata": {},
   "source": [
    "### Avantages et inconvenients de la matrice d'adjacence\n",
    "##### Avantages\n",
    "\n",
    "- Simple à utiliser\n",
    "- Savoir si un arc ou une arête existe est une action à coût constant (Θ(1))  *-> Voir Question 3*\n",
    "\n",
    "##### Désavantages\n",
    "\n",
    "- Place mémoire dont le coût est quadratique (Θ(n^2)), n étant le nombre de sommets\n",
    "- Enumérer les arcs sortant d'un sommet est à coût linéaire (Θ(n)) même si la matrice est peu dense (peu d'arête/d'arc) : il faut lire toutes les colonnes (alors qu'elles contiennent surtout des 0...)  *-> Voir Question 4*\n",
    "\n",
    "\n",
    "La matrice d'adjacence est donc principalement utilisée :\n",
    "- Sur les matrices denses (un sommet mène à la plupart des autres sommets)\n",
    "- Lorsqu'on désire très souvent connaître l'existence d'une arête entre deux sommets\n",
    "\n",
    "---"
   ]
  },
  {
   "cell_type": "markdown",
   "metadata": {},
   "source": [
    "### Installation préliminaire \n",
    "Exécutez les cellules de codes suivantes"
   ]
  },
  {
   "cell_type": "code",
   "execution_count": 1,
   "metadata": {},
   "outputs": [],
   "source": [
    "# installation du package numpy - à n'exécuter qu'une seule fois\n",
    "!pip install numpy"
   ]
  },
  {
   "cell_type": "code",
   "execution_count": 2,
   "metadata": {},
   "outputs": [],
   "source": [
    "# importation du package et renommage\n",
    "import numpy as np"
   ]
  },
  {
   "cell_type": "code",
   "execution_count": 3,
   "metadata": {},
   "outputs": [],
   "source": [
    "# modification du fichier de configuration de IPython \n",
    "# pour afficher plusieurs sorties dans une cellule de code du notebook\n",
    "from IPython.core.interactiveshell import InteractiveShell\n",
    "InteractiveShell.ast_node_interactivity = \"all\""
   ]
  },
  {
   "cell_type": "markdown",
   "metadata": {},
   "source": [
    "---\n",
    "### 1. Cas des graphes non valués : "
   ]
  },
  {
   "attachments": {
    "9eb8776d-7ae9-4f3b-a09c-b6aa7e679d0a.jpg": {
     "image/jpeg": "[encoded data removed]"
    }
   },
   "cell_type": "markdown",
   "metadata": {},
   "source": [
    "#### Question 1  : \n",
    "Créez deux tableaux *array* GO et GNO  représentant les matrices d'adjacence des deux graphes suivants :  \n",
    "GO pour le Graphe Orienté et GNO pour le Graphe Non Orienté \n",
    "\n",
    "![graphesGOetGNO.jpg](attachment:9eb8776d-7ae9-4f3b-a09c-b6aa7e679d0a.jpg)\n"
   ]
  },
  {
   "cell_type": "code",
   "execution_count": null,
   "metadata": {},
   "outputs": [],
   "source": []
  },
  {
   "cell_type": "markdown",
   "metadata": {},
   "source": [
    "#### Question 2 : \n",
    "Quelle commande retourne le nombre de sommets du graphe GO ? "
   ]
  },
  {
   "cell_type": "code",
   "execution_count": null,
   "metadata": {},
   "outputs": [],
   "source": []
  },
  {
   "cell_type": "markdown",
   "metadata": {},
   "source": [
    "#### Question 3 : \n",
    "Écrivez une fonction `arete(graphe,i,j)` qui indique l'existence d'une arête ou d'un arc du sommet i vers le sommet j. La fonction retourne un booleen (True si l'arête existe, False sinon) "
   ]
  },
  {
   "cell_type": "code",
   "execution_count": 2,
   "metadata": {},
   "outputs": [],
   "source": [
    "def arete(graphe,i,j):\n",
    "    \n",
    "    \n",
    "    \n",
    "    "
   ]
  },
  {
   "cell_type": "code",
   "execution_count": 3,
   "metadata": {},
   "outputs": [],
   "source": [
    "# test de la fonction sur les graphe GO et GNO\n",
    "\n"
   ]
  },
  {
   "cell_type": "markdown",
   "metadata": {},
   "source": [
    "#### Question 4 : \n",
    "Écrivez une fonction `degre(graphe,i)` qui retourne le degré du sommet i (si le graphe est non orienté) ou le degré sortant du sommet i (si le graphe est orienté)"
   ]
  },
  {
   "cell_type": "code",
   "execution_count": 8,
   "metadata": {},
   "outputs": [],
   "source": [
    "def degre(graphe,i):\n",
    "\n",
    "    \n",
    "    \n",
    "    "
   ]
  },
  {
   "cell_type": "code",
   "execution_count": 4,
   "metadata": {},
   "outputs": [],
   "source": [
    "# test de la fonction sur les graphes GO et GNO\n",
    "\n"
   ]
  },
  {
   "cell_type": "markdown",
   "metadata": {},
   "source": [
    "#### Question 5 :\n",
    "Écrivez une fonction `taille(graphe,oriente)` qui retourne la taille (nombre d'arêtes/arcs) d'un graphe passé en paramètre. le second argument de type boolean indique si le graphe est orienté ou non.  On pourra fixer True comme valeur par defaut. "
   ]
  },
  {
   "cell_type": "code",
   "execution_count": 10,
   "metadata": {},
   "outputs": [],
   "source": [
    "def taille(graphe,oriente=True): \n",
    "\n",
    "    \n",
    "    \n",
    "    \n",
    "    \n",
    "    \n",
    "    \n",
    "    \n",
    "    \n",
    "    "
   ]
  },
  {
   "cell_type": "code",
   "execution_count": 5,
   "metadata": {},
   "outputs": [],
   "source": [
    "# test de la fonction sur les graphes GO et GNO\n",
    "\n",
    "\n"
   ]
  },
  {
   "cell_type": "markdown",
   "metadata": {},
   "source": [
    "#### Question 6 : \n",
    "Ecrivez une fonction `voisins(graphe,i)` qui retourne la liste des voisins (ou des successeurs) du sommet i dans le graphe passé en paramètre. "
   ]
  },
  {
   "cell_type": "code",
   "execution_count": 19,
   "metadata": {},
   "outputs": [],
   "source": [
    "def voisins(graphe,i):\n",
    "\n",
    "    \n",
    "    \n",
    "    \n",
    "    \n",
    "    "
   ]
  },
  {
   "cell_type": "code",
   "execution_count": 6,
   "metadata": {
    "tags": []
   },
   "outputs": [],
   "source": [
    "# test de la fonction sur les graphes GO et GNO\n",
    "\n",
    "\n"
   ]
  },
  {
   "cell_type": "markdown",
   "metadata": {},
   "source": [
    "#### Question 7 : \n",
    "En utilisant un résultat vu en cours, écrivez une fonction `compterChemins(graphe,k,i,j)` qui retourne le nombre de chaines/chemins de longueur k joignant un sommet i à un sommet j."
   ]
  },
  {
   "cell_type": "code",
   "execution_count": 12,
   "metadata": {},
   "outputs": [],
   "source": [
    "def compterChemins(graphe, k, i,j):\n",
    "\n",
    "    \n",
    "    \n",
    "    \n",
    "    \n",
    "    "
   ]
  },
  {
   "cell_type": "code",
   "execution_count": null,
   "metadata": {},
   "outputs": [],
   "source": [
    "# test de la fonction \n",
    "compterChemins(GO,5,0,2)  # réponse = 2"
   ]
  },
  {
   "cell_type": "markdown",
   "metadata": {},
   "source": [
    "#### Question 8 : \n",
    "Ecrivez une fonction `matriceGrapheOriente(L,n)` qui retourne la matrice d'adjacence (tableau array) d'un graphe orienté d'ordre n défini par la liste L de ses arcs. On supposera que les sommets du graphe sont les entiers de 0 à  n-1 et que les arcs sont des tuples. \n",
    "\n",
    "Par exemple, le graphe G d'ordre 4 est défini par la liste python : \n",
    "```\n",
    "L=[(0,1),(0,2),(1,2),(1,3),(3,2),(3,3)]\n",
    "```"
   ]
  },
  {
   "cell_type": "code",
   "execution_count": 14,
   "metadata": {},
   "outputs": [],
   "source": [
    "def matriceGrapheOriente(L,n):\n",
    "\n",
    "    \n",
    "    \n",
    "    \n",
    "    \n",
    "    "
   ]
  },
  {
   "cell_type": "code",
   "execution_count": null,
   "metadata": {},
   "outputs": [],
   "source": [
    "# test de la fonction sur la liste L précédente\n",
    "\n",
    "\n"
   ]
  },
  {
   "cell_type": "markdown",
   "metadata": {},
   "source": [
    "Ecrivez une fonction `matriceGrapheNonOriente(L,n)` qui retourne la matrice d'adjacence (tableau array) d'un graphe non orienté d'ordre n défini par la liste L de ses arêtes. On supposera que les sommets du graphe sont les entiers de 0 à  n-1 et que les arêtes sont des tuples. "
   ]
  },
  {
   "cell_type": "code",
   "execution_count": 16,
   "metadata": {},
   "outputs": [],
   "source": [
    "def matriceGrapheNonOriente(L,n):\n",
    "    \n",
    "    \n",
    "    \n",
    "    "
   ]
  },
  {
   "cell_type": "code",
   "execution_count": 7,
   "metadata": {},
   "outputs": [],
   "source": [
    "# test de la fonction\n",
    "\n"
   ]
  },
  {
   "cell_type": "markdown",
   "metadata": {},
   "source": [
    "---\n",
    "### 2. Cas des graphes valués : \n",
    "Dans le cas de graphes valués (orientés ou non orientés), la matrice d'adjacence est remplacée par la matrice da valuation $M=(a_{ij})$ : \n",
    "$$ a_{ij} = \\left\\{\\begin{aligned}\n",
    "\t\t& v_{ij}  \\quad \\text{ s'il existe un arc/arête de } s_i \\text{ vers } s_j  \\\\\n",
    "\t\t& 0 \\quad \\text{ sinon }\n",
    "\t\t\\end{aligned} \n",
    "\t\t\\right.$$\t"
   ]
  },
  {
   "attachments": {
    "42e95e24-fda6-4e63-aabd-82e08af6acf4.jpg": {
     "image/jpeg": "[encoded data removed]"
    }
   },
   "cell_type": "markdown",
   "metadata": {},
   "source": [
    "#### Question 9 : \n",
    "Créez le tableau array GV représentant la matrice de valuation du graphe suivant :  \n",
    "![graphesGV.jpg](attachment:42e95e24-fda6-4e63-aabd-82e08af6acf4.jpg)"
   ]
  },
  {
   "cell_type": "code",
   "execution_count": null,
   "metadata": {
    "tags": []
   },
   "outputs": [],
   "source": []
  },
  {
   "cell_type": "code",
   "execution_count": null,
   "metadata": {},
   "outputs": [],
   "source": []
  }
 ],
 "metadata": {
  "kernelspec": {
   "display_name": "Python 3 (ipykernel)",
   "language": "python",
   "name": "python3"
  },
  "language_info": {
   "codemirror_mode": {
    "name": "ipython",
    "version": 3
   },
   "file_extension": ".py",
   "mimetype": "text/x-python",
   "name": "python",
   "nbconvert_exporter": "python",
   "pygments_lexer": "ipython3",
   "version": "3.10.8"
  }
 },
 "nbformat": 4,
 "nbformat_minor": 4
}
