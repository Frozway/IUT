{
 "cells": [
  {
   "cell_type": "markdown",
   "id": "d06a5301-1d1f-47eb-a886-e29a938ce81e",
   "metadata": {},
   "source": [
    "--- \n",
    "#  TP -  Application de l'algorithme de Dijkstra\n",
    "---"
   ]
  },
  {
   "cell_type": "markdown",
   "id": "784505d8-5db6-4865-8472-f22ae6c1671d",
   "metadata": {},
   "source": [
    "Comme application de l'algorihtme de Dijkstra, nous utiliserons comme données la liste des aéroports et les routes aériennes entre ceux-ci."
   ]
  },
  {
   "cell_type": "markdown",
   "id": "744bd9ec-5298-4468-adf6-01f996955cb6",
   "metadata": {},
   "source": [
    "---\n",
    "## PARTIE 1 : Récupération des données\n",
    "\n",
    "Les données sont réparties dans deux fichiers :\n",
    "- `airport.csv` qui contient la liste des aéroports, ainsi que diverses informations (id, code, nom, ville desservie, pays, coordonnées),\n",
    "- `routes.csv` qui liste les différentes routes aériennes, indiquant l'aéroport de départ, celui d'arrivée, et la longueur de la route aérienne."
   ]
  },
  {
   "cell_type": "markdown",
   "id": "c029ab53-71f9-440e-a070-0894abd3e4ea",
   "metadata": {},
   "source": [
    "Pour récupérer ces données, nous utiliserons le package `csv` : "
   ]
  },
  {
   "cell_type": "code",
   "execution_count": null,
   "id": "0e76db14-b17a-4415-9415-4a8e300f7f65",
   "metadata": {},
   "outputs": [],
   "source": [
    "import csv"
   ]
  },
  {
   "cell_type": "markdown",
   "id": "28d57e41-ac47-4c3b-8e8a-eb1c0a058f9b",
   "metadata": {},
   "source": [
    "Le bloc de code suivant construit un premier dictionnaire à partir du fichier `airport.cvs` : "
   ]
  },
  {
   "cell_type": "code",
   "execution_count": null,
   "id": "58a5145c-66ef-4be3-a3cd-df9190930f52",
   "metadata": {},
   "outputs": [],
   "source": [
    "airports = dict()\n",
    "\n",
    "with open(\"airports.csv\") as file:\n",
    "    data = csv.DictReader(file, delimiter=',')\n",
    "    for airport in data:\n",
    "        airport[\"Id\"] = int(airport[\"Id\"])\n",
    "        airport[\"Latitude\"] = float(airport[\"Latitude\"])\n",
    "        airport[\"Longitude\"] = float(airport[\"Longitude\"])\n",
    "        airports[airport[\"Id\"]] = airport"
   ]
  },
  {
   "cell_type": "markdown",
   "id": "cda7af81-636a-4ecc-b5e5-6d61a1473022",
   "metadata": {},
   "source": [
    "#### Question 1 : \n",
    "Quelle commande sur le dictionnaire `airports` permet de retourner les informations de l'aeroport d'identification 128 ? "
   ]
  },
  {
   "cell_type": "code",
   "execution_count": null,
   "id": "6600ef7c-0ceb-4725-a3d5-3a9caa423d2d",
   "metadata": {},
   "outputs": [],
   "source": []
  },
  {
   "cell_type": "markdown",
   "id": "fa29296f-bc78-48c9-bc32-55b4d22fa451",
   "metadata": {},
   "source": [
    "Inversement, on définit une fonction `airport_of` pour afficher les informations des aéroports desservant une ville donnée : "
   ]
  },
  {
   "cell_type": "code",
   "execution_count": null,
   "id": "2f03935c-90b9-4a73-a779-cf29063d5656",
   "metadata": {},
   "outputs": [],
   "source": [
    "def airport_of(city):\n",
    "    for id in airports:\n",
    "        if airports[id][\"City\"] == city:\n",
    "            print(airports[id])"
   ]
  },
  {
   "cell_type": "markdown",
   "id": "3600dc5f-824a-4345-be42-c4d665160234",
   "metadata": {},
   "source": [
    "Ainsi, si vous voulez trouver les aéroports desservant Paris (et les informations correspondantes) :"
   ]
  },
  {
   "cell_type": "code",
   "execution_count": null,
   "id": "03e84c79-821f-41a6-8a41-ceb97a632ffc",
   "metadata": {},
   "outputs": [],
   "source": [
    "airport_of(\"Paris\")"
   ]
  },
  {
   "cell_type": "markdown",
   "id": "078c86ec-7e40-489f-a93c-37179c5f5d77",
   "metadata": {},
   "source": [
    "Le bloc de code suivant construit un second dictionnaire à partir du fichier `routes.cvs` : "
   ]
  },
  {
   "cell_type": "code",
   "execution_count": null,
   "id": "276f282e-8db5-4a80-a7f8-b88e5fb4dfa0",
   "metadata": {},
   "outputs": [],
   "source": [
    "routes = dict()\n",
    "\n",
    "with open(\"routes.csv\") as file:\n",
    "    data = csv.DictReader(file, delimiter=',')\n",
    "    for route in data:\n",
    "        airport_from = int(route[\"From\"])\n",
    "        airport_to = int(route[\"To\"])\n",
    "        distance = float(route[\"Distance\"])\n",
    "        if airport_from not in routes:\n",
    "            routes[airport_from] = {}\n",
    "        routes[airport_from][airport_to] = distance"
   ]
  },
  {
   "cell_type": "markdown",
   "id": "8788830b-4444-44eb-9782-00b55c04d8a0",
   "metadata": {},
   "source": [
    "Le dictionnaire `routes` indique, pour chaque aéroport, les aéroports accessibles par un vol _direct_, sous la forme d'un dictionnaire qui associe à chaque _clé_ (ici, l'identifiant d'un aéroport) une _valeur_ correspondant à la longueur du trajet.\n",
    "\n",
    "#### Question 2 : \n",
    "\n",
    "Quelle ligne de code permet d'afficher tous les aeroports accessibles par vol direct depuis l'aéroport numéro 268, celui de Perth, en Australie ? "
   ]
  },
  {
   "cell_type": "code",
   "execution_count": null,
   "id": "f846ac27-7427-4ba6-8f69-1e692d020aa2",
   "metadata": {},
   "outputs": [],
   "source": []
  },
  {
   "cell_type": "markdown",
   "id": "29a3f299-704c-4015-8365-bb739d7fe696",
   "metadata": {},
   "source": [
    "Quelle ligne de code retourne la distance entre l'aéroport numéro 268 et l'aéroport numéro 148 ?"
   ]
  },
  {
   "cell_type": "code",
   "execution_count": null,
   "id": "bec44b00-b3ff-488a-8af2-1c047b264e3d",
   "metadata": {},
   "outputs": [],
   "source": []
  },
  {
   "cell_type": "markdown",
   "id": "be7eaaae-3bf9-4818-b4c3-d4f632432ea0",
   "metadata": {},
   "source": [
    "---\n",
    "## PARTIE 2 :  Adaptation de la fonction dijkstra sur un dictionnaire\n",
    "\n",
    "Le dictionnaire `routes` précédent représente donc le graphe pondéré dont les sommets sont les aéroports (nommés par leur identifiant), les arcs les liaisons directes entre deux aeroports et les poids les distances de ces liaisons. \n",
    "\n",
    "De façon général, un tel dictionnaire correspond à la réprésentation d'un graphe valué par ses listes d'adjacence complétées par les valuations :  \n",
    "\n",
    "- les clés sont les sommets,\n",
    "- la valeur associée à une clé est elle-meme un dictionnaire avec les successeurs (clé) associés à leur poids (valeur)\n",
    "\n",
    "\n",
    "Par exemple le graphe du fichier graphe.jpg sera représenté par le dictionnaire : \n",
    "\n",
    "```\n",
    "graphe={0:{1:6,3:2,6:8},\n",
    "      1:{3:1,6:2},\n",
    "      2:{1:4,5:1},\n",
    "      3:{4:1},\n",
    "      4:{1:2,2:8,5:9},\n",
    "      5:{7:2},\n",
    "      6:{2:3,7:7},\n",
    "      7:{}}\n",
    "```\n"
   ]
  },
  {
   "cell_type": "markdown",
   "id": "3eae3609-edff-42a1-9262-dc302f01116b",
   "metadata": {},
   "source": [
    "#### Question 3 :  \n",
    "\n",
    "on souhaite connaitre les plus courtes trajet (en distance) depuis un aéroport donné vers les autres. \n",
    "\n",
    "Modifier votre fonction `dijkstra(graphe,source)` du notebook 8 afin qu'elle prenne comme premier paramètre le dictionnaire décrit ci-dessus représentant un graphe pondéré (à la place d'une matrice de valuation) "
   ]
  },
  {
   "cell_type": "code",
   "execution_count": null,
   "id": "6ee3ac15-87da-4802-97bd-f5f9bb00964b",
   "metadata": {},
   "outputs": [],
   "source": [
    "from math import inf\n",
    "\n",
    "def dijkstraDico(graphe,source):\n",
    "\n",
    "    \n",
    "    \n",
    "    \n",
    "    \n",
    "    \n",
    "    \n",
    "    return dist,pred"
   ]
  },
  {
   "cell_type": "markdown",
   "id": "09643e8b-930b-4624-baf0-9932286baca4",
   "metadata": {},
   "source": [
    "#### Question 4 : \n",
    "\n",
    "Vérifiez que la distance de la plus courte liaison entre l'aéroport 128 et l'aeroport 2  vaut 11763.31095859138."
   ]
  },
  {
   "cell_type": "code",
   "execution_count": null,
   "id": "8714d77a-0fd9-48ca-a973-f701d53a0085",
   "metadata": {},
   "outputs": [],
   "source": [
    "\n",
    "\n",
    "\n",
    "\n",
    "\n"
   ]
  },
  {
   "cell_type": "code",
   "execution_count": null,
   "id": "165b5c7a-8d7a-4047-a8e9-808689cfdf1b",
   "metadata": {},
   "outputs": [],
   "source": []
  }
 ],
 "metadata": {
  "kernelspec": {
   "display_name": "Python 3 (ipykernel)",
   "language": "python",
   "name": "python3"
  },
  "language_info": {
   "codemirror_mode": {
    "name": "ipython",
    "version": 3
   },
   "file_extension": ".py",
   "mimetype": "text/x-python",
   "name": "python",
   "nbconvert_exporter": "python",
   "pygments_lexer": "ipython3",
   "version": "3.10.8"
  }
 },
 "nbformat": 4,
 "nbformat_minor": 5
}
