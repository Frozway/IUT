{
 "cells": [
  {
   "cell_type": "markdown",
   "id": "58c54b18-cad0-48ea-8e7c-5effd5de8f7c",
   "metadata": {},
   "source": [
    "--- \n",
    "##  TP -  Plus court chemins dans un graphe valué - Algorithme de Dijkstra\n",
    "---"
   ]
  },
  {
   "cell_type": "markdown",
   "id": "a0b8a186-5a4c-433b-8fd8-5d7baa13c996",
   "metadata": {},
   "source": [
    "On rappelle l'algorihtme de Dijkstra (voir cours n°4) :\n",
    "\n",
    "```\n",
    "- Entrée : un graphe pondéré (valuations positives) et un sommet source tel que tous les sommets sont acessibles depuis la source. \n",
    "- Sortie : les distances de la source à chaque sommet du graphe et les prédécesseurs de chaque sommet dans le plus court chemin depuis la source. Tous les \n",
    "\n",
    "dist = liste des distances depuis le sommet source, dont chaque élément est initialisé à l'infini\n",
    "dist[source] = 0\n",
    "\n",
    "pred = liste des predecesseurs depuis le sommet source, dont chaque élément est initialisé à nul\n",
    "pred[source]= source\n",
    "\n",
    "Tant que il y a des sommets non marqués\n",
    "\n",
    "  choisir un sommet x non marqué, tel que Dist[x] soit minimale\n",
    "  marquer x\n",
    "\n",
    "  pour tout sommet y non marqué et successeur de x\n",
    "    si dist[x] + v[x,y] < dist[y]    #v(x,y) valuation de l'arc (x,y)\n",
    "    alors dist[y] = dist[x] + v[x,y]\n",
    "          pred[y] = x\n",
    "    fin si\n",
    "  fin pour\n",
    "\n",
    "retourner dist, pred\n",
    "```"
   ]
  },
  {
   "cell_type": "markdown",
   "id": "94e40dfd-aae4-409e-bf16-0aa669f3a03c",
   "metadata": {},
   "source": [
    "#### Question 1 : \n",
    "\n",
    "On considère le graphe orienté et pondéré suivant : \n",
    "\n",
    "<div align=\"center\"><img src=\"graphe.jpg\" width=\"300\" height=\"300\"></div>\n",
    "\n",
    "Appliquez \"à la main\" l'algorithme de Dijkstra depuis le sommet 0. "
   ]
  },
  {
   "cell_type": "markdown",
   "id": "593c090c-996d-4e6d-a64b-11c55f6f2503",
   "metadata": {},
   "source": [
    "#### Question 2 : "
   ]
  },
  {
   "cell_type": "markdown",
   "id": "67bf2361-dd0b-4bbf-b680-84934fe4517b",
   "metadata": {},
   "source": [
    "On rappelle la définition de la **matrice de valuation**  d'un graphe valué/pondéré : \n",
    "\n",
    "$$ a_{ij} = \\left\\{\\begin{aligned}\n",
    "\t\t& v(i,j) \\quad \\text{ s'il existe un arc de } i \\text{ vers } j  \\\\\n",
    "\t\t& +\\infty \\quad \\text{ sinon }\n",
    "\t\t\\end{aligned} \n",
    "\t\t\\right.$$\t\n",
    "où $v(i,j)$ représente la valuation de l'arc $(i,j)$.  \n",
    "Les sommets sont numérotés à partir de 0 (leur nom correspond à leur numéro).\n",
    "\n",
    "Pour représenter le symbole $+\\infty$, nous utiliserons la constante `inf` du mdule `math` : "
   ]
  },
  {
   "cell_type": "code",
   "execution_count": null,
   "id": "e0513ed8-b0d7-4411-bd4c-8e15557d3a26",
   "metadata": {},
   "outputs": [],
   "source": [
    "from math import inf\n",
    "\n",
    "# quelques tests pour comprendre le comportement de cette constante :  \n",
    "print(inf > 9999)\n",
    "print(inf + 82 == inf)\n",
    "print(inf + 1 > inf)\n",
    "print(inf*(-72) == inf)"
   ]
  },
  {
   "cell_type": "markdown",
   "id": "6e68a189-a70e-493f-8abf-c5f15f345f6a",
   "metadata": {},
   "source": [
    "Créez le tableau M (type ndarray de numpy) correspondant à sa matrice de valuation. "
   ]
  },
  {
   "cell_type": "code",
   "execution_count": null,
   "id": "03514b46-e3bd-4371-912b-c859c58717e9",
   "metadata": {},
   "outputs": [],
   "source": [
    "!pip install numpy\n",
    "import numpy as np\n",
    "\n",
    "\n",
    "\n",
    "\n",
    "\n",
    "\n",
    "\n"
   ]
  },
  {
   "cell_type": "markdown",
   "id": "3015c30d-2114-4e65-a61c-b81224fc5e4e",
   "metadata": {},
   "source": [
    "#### Question 3 : \n",
    "\n",
    "À partir de la description prédécente de l'algorithme de Dijkstra, écrivez la fonction `dijkstra(matrice,source)` qui déroulera l'algorithme à partir de la matrice de valuation du graphe. \n",
    "\n",
    "Testez-là sur la matrice M depuis la source 0 :  "
   ]
  },
  {
   "cell_type": "code",
   "execution_count": 1,
   "id": "2ef7a363-a959-4266-94af-df2d64f654b2",
   "metadata": {},
   "outputs": [],
   "source": [
    "def dijkstra(matrice,source):\n",
    "    \n",
    " \n",
    "\n",
    "\n",
    "\n",
    "\n",
    "\n",
    "\n",
    "    return dist,pred"
   ]
  },
  {
   "cell_type": "code",
   "execution_count": null,
   "id": "6473d4c2-e517-4fbf-9214-a3b3caae9f97",
   "metadata": {},
   "outputs": [],
   "source": [
    "dijkstra(M,0)"
   ]
  },
  {
   "cell_type": "markdown",
   "id": "5daef14b-2155-4101-80db-9621ff460d0d",
   "metadata": {},
   "source": [
    "#### Question 4 : \n",
    "\n",
    "Écrivez une fonction `plusCourtChemin(matrice,depart,arrivee)` qui retourne sous la forme d'une liste les sommets du plus court chemin du sommet *depart* au sommet *arrivee* ainsi que la distance. \n",
    "\n",
    "Testez votre fonction sur le graphe de la question 1. \n"
   ]
  },
  {
   "cell_type": "code",
   "execution_count": null,
   "id": "5c0ca269-6d90-472f-8f67-8b4ff965626b",
   "metadata": {},
   "outputs": [],
   "source": [
    "def plusCourtChemin(matrice,depart,arrivee):\n",
    "\n",
    "    \n",
    "    \n",
    "    return chemin"
   ]
  },
  {
   "cell_type": "code",
   "execution_count": null,
   "id": "6f1f7820-1ca0-472d-8498-0a36ef32e228",
   "metadata": {},
   "outputs": [],
   "source": []
  }
 ],
 "metadata": {
  "kernelspec": {
   "display_name": "Python 3 (ipykernel)",
   "language": "python",
   "name": "python3"
  },
  "language_info": {
   "codemirror_mode": {
    "name": "ipython",
    "version": 3
   },
   "file_extension": ".py",
   "mimetype": "text/x-python",
   "name": "python",
   "nbconvert_exporter": "python",
   "pygments_lexer": "ipython3",
   "version": "3.10.8"
  }
 },
 "nbformat": 4,
 "nbformat_minor": 5
}
